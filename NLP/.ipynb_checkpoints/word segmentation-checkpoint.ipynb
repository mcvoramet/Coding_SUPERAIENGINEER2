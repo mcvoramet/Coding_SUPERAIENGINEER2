{
 "cells": [
  {
   "cell_type": "markdown",
   "metadata": {
    "id": "HTOD00-YoFFZ"
   },
   "source": [
    "# PyThaiNLP"
   ]
  },
  {
   "cell_type": "code",
   "execution_count": null,
   "metadata": {
    "id": "VI21GOhfoE4m"
   },
   "outputs": [],
   "source": [
    "!pip install pythainlp[full]"
   ]
  },
  {
   "cell_type": "code",
   "execution_count": null,
   "metadata": {
    "colab": {
     "base_uri": "https://localhost:8080/"
    },
    "executionInfo": {
     "elapsed": 2461,
     "status": "ok",
     "timestamp": 1626512112843,
     "user": {
      "displayName": "Sanparith Marukatat",
      "photoUrl": "",
      "userId": "06465963793803140513"
     },
     "user_tz": -420
    },
    "id": "CgQZqak1n6qL",
    "outputId": "62bd17d9-e72a-4bb3-8eda-78ca9d0ca6b8"
   },
   "outputs": [
    {
     "name": "stdout",
     "output_type": "stream",
     "text": [
      "['ก็', 'จะ', 'รู้ความ', 'ชั่วร้าย', 'ที่', 'ทำ', 'ไว้', ' ', ' ', ' ', ' ', ' ', 'และ', 'คงจะ', 'ไม่', 'ยอมให้', 'ทำนาบนหลังคน', ' ']\n",
      "['ก็', 'จะ', 'รู้ความ', 'ชั่วร้าย', 'ที่', 'ทำ', 'ไว้', '     ', 'และ', 'คงจะ', 'ไม่', 'ยอมให้', 'ทำนาบนหลังคน', ' ']\n",
      "['ก็', 'จะ', 'รู้ความ', 'ชั่วร้าย', 'ที่', 'ทำ', 'ไว้', '     ', 'และ', 'คงจะ', 'ไม่', 'ยอมให้', 'ทำนาบนหลังคน', ' ']\n",
      "['ก็', 'จะ', 'รู้ความ', 'ชั่วร้าย', 'ที่', 'ทำ', 'ไว้', '     ', 'และ', 'คงจะ', 'ไม่', 'ยอมให้', 'ทำนาบนหลังคน', ' ']\n",
      "['ก็', 'จะ', 'รู้', 'ความ', 'ชั่ว', 'ร้าย', 'ที่', 'ทำ', 'ไว้', ' ', ' ', ' ', ' ', ' ', 'และ', 'คงจะ', 'ไม่', 'ยอม', 'ให้', 'ทำ', 'นา', 'บน', 'หลัง', 'คน', ' ']\n"
     ]
    }
   ],
   "source": [
    "from pythainlp import word_tokenize\n",
    "\n",
    "text = \"ก็จะรู้ความชั่วร้ายที่ทำไว้     และคงจะไม่ยอมให้ทำนาบนหลังคน \"\n",
    "\n",
    "print(word_tokenize(text, engine=\"longest\"))\n",
    "print(word_tokenize(text, engine=\"mm\"))\n",
    "print(word_tokenize(text, engine=\"newmm\")) #<--------!\n",
    "print(word_tokenize(text, engine=\"newmm-safe\"))\n",
    "print(word_tokenize(text, engine=\"icu\"))\n"
   ]
  },
  {
   "cell_type": "code",
   "execution_count": null,
   "metadata": {
    "id": "40iqXnHLqN6I"
   },
   "outputs": [],
   "source": [
    "!pip install deepcut"
   ]
  },
  {
   "cell_type": "code",
   "execution_count": null,
   "metadata": {
    "colab": {
     "base_uri": "https://localhost:8080/"
    },
    "executionInfo": {
     "elapsed": 37565,
     "status": "ok",
     "timestamp": 1626512153213,
     "user": {
      "displayName": "Sanparith Marukatat",
      "photoUrl": "",
      "userId": "06465963793803140513"
     },
     "user_tz": -420
    },
    "id": "j4cGb46_qIbu",
    "outputId": "b2541b03-d94e-4375-9925-10f3007546e7"
   },
   "outputs": [
    {
     "name": "stdout",
     "output_type": "stream",
     "text": [
      "['ก็', 'จะ', 'รู้', 'ความ', 'ชั่วร้าย', 'ที่', 'ทำ', 'ไว้', ' ', ' ', ' ', ' ', ' ', 'และ', 'คง', 'จะ', 'ไม่', 'ยอม', 'ให้', 'ทำ', 'นา', 'บน', 'หลังคน', ' ']\n",
      "['ก็', 'จะ', 'รู้', 'ความ', 'ชั่วร้าย', 'ที่', 'ทำ', 'ไว้', ' ', ' ', ' ', ' ', ' ', 'และ', 'คง', 'จะ', 'ไม่', 'ยอม', 'ให้', 'ทำ', 'นา', 'บน', 'หลัง', 'คน', ' ']\n"
     ]
    }
   ],
   "source": [
    "print(word_tokenize(text, engine=\"deepcut\"))\n",
    "print(word_tokenize(text, engine=\"attacut\"))"
   ]
  },
  {
   "cell_type": "code",
   "execution_count": null,
   "metadata": {
    "id": "eWZo2stwrhHE"
   },
   "outputs": [],
   "source": [
    "%%timeit\n",
    "print(word_tokenize(text, engine=\"longest\"))\n",
    "# 1000 loops, best of 5: 640 µs per loop"
   ]
  },
  {
   "cell_type": "code",
   "execution_count": null,
   "metadata": {
    "id": "peGvTI5FrpHn"
   },
   "outputs": [],
   "source": [
    "%%timeit\n",
    "#10 loops, best of 5: 38.1 ms per loop\n",
    "print(word_tokenize(text, engine=\"deepcut\"))"
   ]
  },
  {
   "cell_type": "code",
   "execution_count": null,
   "metadata": {
    "id": "-bj_tYx0r-Gg"
   },
   "outputs": [],
   "source": [
    "%%timeit\n",
    "print(word_tokenize(text, engine=\"attacut\"))\n",
    "# 100 loops, best of 5: 9.52 ms per loop"
   ]
  },
  {
   "cell_type": "code",
   "execution_count": null,
   "metadata": {
    "colab": {
     "base_uri": "https://localhost:8080/"
    },
    "executionInfo": {
     "elapsed": 7500,
     "status": "ok",
     "timestamp": 1626511958743,
     "user": {
      "displayName": "Sanparith Marukatat",
      "photoUrl": "",
      "userId": "06465963793803140513"
     },
     "user_tz": -420
    },
    "id": "Lt-dYvo-qkAh",
    "outputId": "60be5e15-88ff-4529-db6c-5a460376ee57"
   },
   "outputs": [
    {
     "data": {
      "text/plain": [
       "[name: \"/device:CPU:0\"\n",
       " device_type: \"CPU\"\n",
       " memory_limit: 268435456\n",
       " locality {\n",
       " }\n",
       " incarnation: 10916100375859678773, name: \"/device:GPU:0\"\n",
       " device_type: \"GPU\"\n",
       " memory_limit: 14509932544\n",
       " locality {\n",
       "   bus_id: 1\n",
       "   links {\n",
       "   }\n",
       " }\n",
       " incarnation: 15488407289300175537\n",
       " physical_device_desc: \"device: 0, name: Tesla T4, pci bus id: 0000:00:04.0, compute capability: 7.5\"]"
      ]
     },
     "execution_count": 1,
     "metadata": {
      "tags": []
     },
     "output_type": "execute_result"
    }
   ],
   "source": [
    "import tensorflow as tf\n",
    "from tensorflow.python.client import device_lib\n",
    "\n",
    "tf.test.gpu_device_name()\n",
    "device_lib.list_local_devices()"
   ]
  },
  {
   "cell_type": "markdown",
   "metadata": {
    "id": "l5gzLTIGslV3"
   },
   "source": [
    "# mount google drive"
   ]
  },
  {
   "cell_type": "code",
   "execution_count": null,
   "metadata": {
    "colab": {
     "base_uri": "https://localhost:8080/"
    },
    "executionInfo": {
     "elapsed": 48566,
     "status": "ok",
     "timestamp": 1627712305527,
     "user": {
      "displayName": "Sanparith Marukatat",
      "photoUrl": "",
      "userId": "06465963793803140513"
     },
     "user_tz": -420
    },
    "id": "Iz-XibzzskfT",
    "outputId": "d207e74d-44b0-456b-8cf3-434eccf24a4f"
   },
   "outputs": [
    {
     "name": "stdout",
     "output_type": "stream",
     "text": [
      "Mounted at /content/drive/\n"
     ]
    }
   ],
   "source": [
    "from google.colab import drive\n",
    "drive.mount('/content/drive/')"
   ]
  },
  {
   "cell_type": "code",
   "execution_count": null,
   "metadata": {
    "id": "elPJf3SRMqMh"
   },
   "outputs": [],
   "source": [
    "!mkdir /content/drive/MyDrive/NLP"
   ]
  },
  {
   "cell_type": "code",
   "execution_count": null,
   "metadata": {
    "colab": {
     "base_uri": "https://localhost:8080/"
    },
    "executionInfo": {
     "elapsed": 335,
     "status": "ok",
     "timestamp": 1627712311636,
     "user": {
      "displayName": "Sanparith Marukatat",
      "photoUrl": "",
      "userId": "06465963793803140513"
     },
     "user_tz": -420
    },
    "id": "XoUmNZYNszxw",
    "outputId": "be2409af-deea-4e3e-a2a4-ba61c51ee267"
   },
   "outputs": [
    {
     "name": "stdout",
     "output_type": "stream",
     "text": [
      "/content/drive/MyDrive/NLP\n"
     ]
    }
   ],
   "source": [
    "%cd /content/drive/MyDrive/NLP"
   ]
  },
  {
   "cell_type": "code",
   "execution_count": null,
   "metadata": {
    "id": "hhWnG2wHQ787"
   },
   "outputs": [],
   "source": [
    "!ls"
   ]
  },
  {
   "cell_type": "code",
   "execution_count": null,
   "metadata": {
    "colab": {
     "base_uri": "https://localhost:8080/"
    },
    "executionInfo": {
     "elapsed": 331,
     "status": "ok",
     "timestamp": 1626512573954,
     "user": {
      "displayName": "Sanparith Marukatat",
      "photoUrl": "",
      "userId": "06465963793803140513"
     },
     "user_tz": -420
    },
    "id": "A4rILIUws4Fk",
    "outputId": "d548afe9-a116-4175-9bf4-e6ab60e81f83"
   },
   "outputs": [
    {
     "name": "stdout",
     "output_type": "stream",
     "text": [
      "/content/drive/MyDrive/NLP\n"
     ]
    }
   ],
   "source": [
    "!pwd"
   ]
  },
  {
   "cell_type": "code",
   "execution_count": null,
   "metadata": {
    "colab": {
     "base_uri": "https://localhost:8080/"
    },
    "executionInfo": {
     "elapsed": 5572,
     "status": "ok",
     "timestamp": 1627712324532,
     "user": {
      "displayName": "Sanparith Marukatat",
      "photoUrl": "",
      "userId": "06465963793803140513"
     },
     "user_tz": -420
    },
    "id": "Xa6NtxGQtD-r",
    "outputId": "47087ec2-91be-4239-a353-07bbb9840482"
   },
   "outputs": [
    {
     "name": "stdout",
     "output_type": "stream",
     "text": [
      "Collecting datasets\n",
      "  Downloading datasets-1.11.0-py3-none-any.whl (264 kB)\n",
      "\u001b[K     |████████████████████████████████| 264 kB 34.4 MB/s \n",
      "\u001b[?25hRequirement already satisfied: importlib-metadata in /usr/local/lib/python3.7/dist-packages (from datasets) (4.6.1)\n",
      "Requirement already satisfied: dill in /usr/local/lib/python3.7/dist-packages (from datasets) (0.3.4)\n",
      "Requirement already satisfied: packaging in /usr/local/lib/python3.7/dist-packages (from datasets) (21.0)\n",
      "Collecting tqdm>=4.42\n",
      "  Downloading tqdm-4.62.0-py2.py3-none-any.whl (76 kB)\n",
      "\u001b[K     |████████████████████████████████| 76 kB 4.3 MB/s \n",
      "\u001b[?25hRequirement already satisfied: numpy>=1.17 in /usr/local/lib/python3.7/dist-packages (from datasets) (1.19.5)\n",
      "Requirement already satisfied: pyarrow!=4.0.0,>=1.0.0 in /usr/local/lib/python3.7/dist-packages (from datasets) (3.0.0)\n",
      "Collecting xxhash\n",
      "  Downloading xxhash-2.0.2-cp37-cp37m-manylinux2010_x86_64.whl (243 kB)\n",
      "\u001b[K     |████████████████████████████████| 243 kB 38.0 MB/s \n",
      "\u001b[?25hCollecting fsspec>=2021.05.0\n",
      "  Downloading fsspec-2021.7.0-py3-none-any.whl (118 kB)\n",
      "\u001b[K     |████████████████████████████████| 118 kB 57.4 MB/s \n",
      "\u001b[?25hRequirement already satisfied: requests>=2.19.0 in /usr/local/lib/python3.7/dist-packages (from datasets) (2.23.0)\n",
      "Requirement already satisfied: multiprocess in /usr/local/lib/python3.7/dist-packages (from datasets) (0.70.12.2)\n",
      "Requirement already satisfied: pandas in /usr/local/lib/python3.7/dist-packages (from datasets) (1.1.5)\n",
      "Collecting huggingface-hub<0.1.0\n",
      "  Downloading huggingface_hub-0.0.15-py3-none-any.whl (43 kB)\n",
      "\u001b[K     |████████████████████████████████| 43 kB 1.8 MB/s \n",
      "\u001b[?25hRequirement already satisfied: filelock in /usr/local/lib/python3.7/dist-packages (from huggingface-hub<0.1.0->datasets) (3.0.12)\n",
      "Requirement already satisfied: typing-extensions in /usr/local/lib/python3.7/dist-packages (from huggingface-hub<0.1.0->datasets) (3.7.4.3)\n",
      "Requirement already satisfied: pyparsing>=2.0.2 in /usr/local/lib/python3.7/dist-packages (from packaging->datasets) (2.4.7)\n",
      "Requirement already satisfied: urllib3!=1.25.0,!=1.25.1,<1.26,>=1.21.1 in /usr/local/lib/python3.7/dist-packages (from requests>=2.19.0->datasets) (1.24.3)\n",
      "Requirement already satisfied: certifi>=2017.4.17 in /usr/local/lib/python3.7/dist-packages (from requests>=2.19.0->datasets) (2021.5.30)\n",
      "Requirement already satisfied: idna<3,>=2.5 in /usr/local/lib/python3.7/dist-packages (from requests>=2.19.0->datasets) (2.10)\n",
      "Requirement already satisfied: chardet<4,>=3.0.2 in /usr/local/lib/python3.7/dist-packages (from requests>=2.19.0->datasets) (3.0.4)\n",
      "Requirement already satisfied: zipp>=0.5 in /usr/local/lib/python3.7/dist-packages (from importlib-metadata->datasets) (3.5.0)\n",
      "Requirement already satisfied: python-dateutil>=2.7.3 in /usr/local/lib/python3.7/dist-packages (from pandas->datasets) (2.8.1)\n",
      "Requirement already satisfied: pytz>=2017.2 in /usr/local/lib/python3.7/dist-packages (from pandas->datasets) (2018.9)\n",
      "Requirement already satisfied: six>=1.5 in /usr/local/lib/python3.7/dist-packages (from python-dateutil>=2.7.3->pandas->datasets) (1.15.0)\n",
      "Installing collected packages: tqdm, xxhash, huggingface-hub, fsspec, datasets\n",
      "  Attempting uninstall: tqdm\n",
      "    Found existing installation: tqdm 4.41.1\n",
      "    Uninstalling tqdm-4.41.1:\n",
      "      Successfully uninstalled tqdm-4.41.1\n",
      "Successfully installed datasets-1.11.0 fsspec-2021.7.0 huggingface-hub-0.0.15 tqdm-4.62.0 xxhash-2.0.2\n"
     ]
    }
   ],
   "source": [
    "!pip install datasets"
   ]
  },
  {
   "cell_type": "code",
   "execution_count": null,
   "metadata": {
    "id": "1kC-qpXLtO98"
   },
   "outputs": [],
   "source": [
    "#!mkdir huggingface_cache"
   ]
  },
  {
   "cell_type": "code",
   "execution_count": null,
   "metadata": {
    "colab": {
     "base_uri": "https://localhost:8080/"
    },
    "executionInfo": {
     "elapsed": 310,
     "status": "ok",
     "timestamp": 1627109670055,
     "user": {
      "displayName": "Sanparith Marukatat",
      "photoUrl": "",
      "userId": "06465963793803140513"
     },
     "user_tz": -420
    },
    "id": "9tZ0InUUtqq5",
    "outputId": "85761924-4786-4130-e634-ba7d7025c5bc"
   },
   "outputs": [
    {
     "name": "stdout",
     "output_type": "stream",
     "text": [
      "huggingface_cache\n"
     ]
    }
   ],
   "source": [
    "!ls "
   ]
  },
  {
   "cell_type": "markdown",
   "metadata": {
    "id": "CN5MZo_Q-qdY"
   },
   "source": [
    "## Load dataset"
   ]
  },
  {
   "cell_type": "code",
   "execution_count": null,
   "metadata": {
    "colab": {
     "base_uri": "https://localhost:8080/",
     "height": 99,
     "referenced_widgets": [
      "4b24c4fa7f4f493188c455fdb7d259a8",
      "4a6c616403c348348bc5f9d79a5affe2",
      "0b7f4e0cf854432f99b091168829b21f",
      "8f98fb5f54554090a27cd54e89e49f32",
      "b3ebaa44f6524122a67ef388813b3ad5",
      "bad5ce2bfca64e1a90114551516d5c8a",
      "c2970d487d804e37b77c1a2f2c62caf6",
      "1cce0b69650e4bcb91dcc8d57326f0d3",
      "c85ae4777861461cbf0d062c468058e7",
      "9ca87057ec804fa59dd1f56e44b16ac6",
      "bd7e5513c41049da8da2e57d1557543c",
      "24696d1726024c81862741ba51f460d6",
      "fdf2a13b21474aa484963f4654ef0ad4",
      "57a357906dd44912b1a875bd7ce61227",
      "c6df48db0d174ca692de20549a5d5645",
      "b67231bde7a5471ab28fbba9454fccd2",
      "3cff011a0c104f6fb23761b8b8dce319",
      "4f36137d14e3407694926002c4896c0c",
      "77e1d35d81f84ab983feb82a25803627",
      "ebacb96349e04174b7af21c71f7b4858",
      "942681090b684f5e8ea16e659c408ede",
      "21e215c27693417a8d7ea7cbb7d3901f"
     ]
    },
    "executionInfo": {
     "elapsed": 10506,
     "status": "ok",
     "timestamp": 1627712338770,
     "user": {
      "displayName": "Sanparith Marukatat",
      "photoUrl": "",
      "userId": "06465963793803140513"
     },
     "user_tz": -420
    },
    "id": "ntw8wppvtroK",
    "outputId": "5748792b-7049-46fa-be46-296148c49639"
   },
   "outputs": [
    {
     "data": {
      "application/vnd.jupyter.widget-view+json": {
       "model_id": "4b24c4fa7f4f493188c455fdb7d259a8",
       "version_major": 2,
       "version_minor": 0
      },
      "text/plain": [
       "Downloading:   0%|          | 0.00/2.36k [00:00<?, ?B/s]"
      ]
     },
     "metadata": {
      "tags": []
     },
     "output_type": "display_data"
    },
    {
     "data": {
      "application/vnd.jupyter.widget-view+json": {
       "model_id": "24696d1726024c81862741ba51f460d6",
       "version_major": 2,
       "version_minor": 0
      },
      "text/plain": [
       "Downloading:   0%|          | 0.00/1.17k [00:00<?, ?B/s]"
      ]
     },
     "metadata": {
      "tags": []
     },
     "output_type": "display_data"
    },
    {
     "name": "stderr",
     "output_type": "stream",
     "text": [
      "Reusing dataset best2009 (huggingface_cache/best2009/best2009/1.0.0/f794327515ddde43166d2e256099e1f6a3d63f13b3197d8242bc80ef2cdb2dcb)\n"
     ]
    }
   ],
   "source": [
    "from datasets import load_dataset\n",
    "\n",
    "dataset = load_dataset('best2009', cache_dir='huggingface_cache')"
   ]
  },
  {
   "cell_type": "code",
   "execution_count": null,
   "metadata": {
    "colab": {
     "base_uri": "https://localhost:8080/"
    },
    "executionInfo": {
     "elapsed": 327,
     "status": "ok",
     "timestamp": 1627109959979,
     "user": {
      "displayName": "Sanparith Marukatat",
      "photoUrl": "",
      "userId": "06465963793803140513"
     },
     "user_tz": -420
    },
    "id": "xKqNojPl-UCU",
    "outputId": "046fae9c-7a9b-45a8-f332-a6164f59f383"
   },
   "outputs": [
    {
     "data": {
      "text/plain": [
       "DatasetDict({\n",
       "    train: Dataset({\n",
       "        features: ['fname', 'char', 'char_type', 'is_beginning'],\n",
       "        num_rows: 148995\n",
       "    })\n",
       "    test: Dataset({\n",
       "        features: ['fname', 'char', 'char_type', 'is_beginning'],\n",
       "        num_rows: 2252\n",
       "    })\n",
       "})"
      ]
     },
     "execution_count": 7,
     "metadata": {
      "tags": []
     },
     "output_type": "execute_result"
    }
   ],
   "source": [
    "dataset"
   ]
  },
  {
   "cell_type": "code",
   "execution_count": null,
   "metadata": {
    "colab": {
     "base_uri": "https://localhost:8080/"
    },
    "executionInfo": {
     "elapsed": 304,
     "status": "ok",
     "timestamp": 1627109973428,
     "user": {
      "displayName": "Sanparith Marukatat",
      "photoUrl": "",
      "userId": "06465963793803140513"
     },
     "user_tz": -420
    },
    "id": "rpjS1gyq-U2a",
    "outputId": "8cedbb5c-a342-4320-a5d9-06f196dcd50c"
   },
   "outputs": [
    {
     "data": {
      "text/plain": [
       "148995"
      ]
     },
     "execution_count": 8,
     "metadata": {
      "tags": []
     },
     "output_type": "execute_result"
    }
   ],
   "source": [
    "len(dataset['train'])"
   ]
  },
  {
   "cell_type": "code",
   "execution_count": null,
   "metadata": {
    "colab": {
     "base_uri": "https://localhost:8080/",
     "height": 70
    },
    "executionInfo": {
     "elapsed": 428,
     "status": "ok",
     "timestamp": 1627712594840,
     "user": {
      "displayName": "Sanparith Marukatat",
      "photoUrl": "",
      "userId": "06465963793803140513"
     },
     "user_tz": -420
    },
    "id": "BfqxQ8Lk-hco",
    "outputId": "dd4a2492-07f3-4520-ed50-9fa2df50458e"
   },
   "outputs": [
    {
     "data": {
      "application/vnd.google.colaboratory.intrinsic+json": {
       "type": "string"
      },
      "text/plain": [
       "'เมื่อกล่าวถึง \"ความยากจน\" และ \"กฎหมาย\" ในทัศนะของคนทั่วๆ ไปอาจจะมองว่า เป็นเรื่องที่กฎหมายจะสามารถเข้าไปแก้ไขปัญหาความยากจนได้ และละไว้ในฐานที่เข้าใจและถูกทำให้เชื่อมาโดยตลอดว่า การใช้อำนาจทางกฎหมายจะทำให้สังคมเกิดความเป็นธรรมขึ้นมาในที่สุด แต่ในความเป็นจริงที่ไม่อาจที่จะปฏิเสธได้ก็คือ นับวันความรู้ว่าในทางกฎหมายที่จะนำไปสู่ความเสมอภาค ความเป็นธรรมกลับเลือนลางจางลง ไม่สามารถที่จะหวังพึ่งได้ สมดังที่มันควรจะเป็น\\n'"
      ]
     },
     "execution_count": 8,
     "metadata": {
      "tags": []
     },
     "output_type": "execute_result"
    }
   ],
   "source": [
    "''.join(dataset['train'][10]['char']) "
   ]
  },
  {
   "cell_type": "code",
   "execution_count": null,
   "metadata": {
    "colab": {
     "base_uri": "https://localhost:8080/"
    },
    "executionInfo": {
     "elapsed": 322,
     "status": "ok",
     "timestamp": 1627110184868,
     "user": {
      "displayName": "Sanparith Marukatat",
      "photoUrl": "",
      "userId": "06465963793803140513"
     },
     "user_tz": -420
    },
    "id": "DwY16y8dUuQH",
    "outputId": "a8d19793-424c-451b-84f1-e0835a1bcd37"
   },
   "outputs": [
    {
     "data": {
      "text/plain": [
       "[1, 0, 0, 0, 0, 0, 1, 0, 0, 1, 0, 0, 1, 0, 0, 0, 0, 0, 0, 0, 1, 0, 1, 0, 1]"
      ]
     },
     "execution_count": 12,
     "metadata": {
      "tags": []
     },
     "output_type": "execute_result"
    }
   ],
   "source": [
    "dataset['train'][0]['is_beginning']"
   ]
  },
  {
   "cell_type": "code",
   "execution_count": null,
   "metadata": {
    "id": "Xrjpc_fZ-Zi4"
   },
   "outputs": [],
   "source": [
    "print(dataset['train'][0]['char'], \n",
    "      dataset['train'][0]['is_beginning'])"
   ]
  },
  {
   "cell_type": "markdown",
   "metadata": {
    "id": "-t1dUFw6-lKQ"
   },
   "source": [
    "### Noted that BEST2009 corpus labels if a character is beginning of a word.\n",
    "\n",
    "***\n",
    "## Construct Characters set"
   ]
  },
  {
   "cell_type": "code",
   "execution_count": null,
   "metadata": {
    "id": "Be7v5QNsRA9p"
   },
   "outputs": [],
   "source": [
    "charset = ['\\n', ' ', '!', '\"', '#', '$', '%', '&', \"'\", '(', ')', '*', '+', ',', '-', '.', '/', '0', '1', '2', '3', '4', '5', '6', '7', '8', '9', ':', ';', '<', '=', '>', '?', '@', 'A', 'B', 'C', 'D', 'E', 'F', 'G', 'H', 'I', 'J', 'K', 'L', 'M', 'N', 'O', 'P', 'Q', 'R', 'S', 'T', 'U', 'V', 'W', 'X', 'Y', 'Z', '[', '\\\\', ']', '^', '_', 'a', 'b', 'c', 'd', 'e', 'f', 'g', 'h', 'i', 'j', 'k', 'l', 'm', 'n', 'o', 'p', 'q', 'r', 's', 't', 'u', 'v', 'w', 'x', 'y', 'z', '}', '~', 'ก', 'ข', 'ฃ', 'ค', 'ฅ', 'ฆ', 'ง', 'จ', 'ฉ', 'ช', 'ซ', 'ฌ', 'ญ', 'ฎ', 'ฏ', 'ฐ', 'ฑ', 'ฒ', 'ณ', 'ด', 'ต', 'ถ', 'ท', 'ธ', 'น', 'บ', 'ป', 'ผ', 'ฝ', 'พ', 'ฟ', 'ภ', 'ม', 'ย', 'ร', 'ฤ', 'ล', 'ว', 'ศ', 'ษ', 'ส', 'ห', 'ฬ', 'อ', 'ฮ', 'ฯ', 'ะ', 'ั', 'า', 'ำ', 'ิ', 'ี', 'ึ', 'ื', 'ุ', 'ู', 'ฺ', 'เ', 'แ', 'โ', 'ใ', 'ไ', 'ๅ', 'ๆ', '็', '่', '้', '๊', '๋', '์', 'ํ', '๐', '๑', '๒', '๓', '๔', '๕', '๖', '๗', '๘', '๙', '‘', '’', '\\ufeff']"
   ]
  },
  {
   "cell_type": "code",
   "execution_count": null,
   "metadata": {
    "id": "mgEg7gx6RAft"
   },
   "outputs": [],
   "source": []
  },
  {
   "cell_type": "code",
   "execution_count": null,
   "metadata": {
    "colab": {
     "base_uri": "https://localhost:8080/"
    },
    "executionInfo": {
     "elapsed": 56776,
     "status": "ok",
     "timestamp": 1627110410441,
     "user": {
      "displayName": "Sanparith Marukatat",
      "photoUrl": "",
      "userId": "06465963793803140513"
     },
     "user_tz": -420
    },
    "id": "FZu-zO1E-bTY",
    "outputId": "612ae381-4626-40e0-a72f-29345ded7442"
   },
   "outputs": [
    {
     "name": "stdout",
     "output_type": "stream",
     "text": [
      "['\\n', ' ', '!', '\"', '#', '$', '%', '&', \"'\", '(', ')', '*', '+', ',', '-', '.', '/', '0', '1', '2', '3', '4', '5', '6', '7', '8', '9', ':', ';', '<', '=', '>', '?', '@', 'A', 'B', 'C', 'D', 'E', 'F', 'G', 'H', 'I', 'J', 'K', 'L', 'M', 'N', 'O', 'P', 'Q', 'R', 'S', 'T', 'U', 'V', 'W', 'X', 'Y', 'Z', '[', '\\\\', ']', '^', '_', 'a', 'b', 'c', 'd', 'e', 'f', 'g', 'h', 'i', 'j', 'k', 'l', 'm', 'n', 'o', 'p', 'q', 'r', 's', 't', 'u', 'v', 'w', 'x', 'y', 'z', '}', '~', 'ก', 'ข', 'ฃ', 'ค', 'ฅ', 'ฆ', 'ง', 'จ', 'ฉ', 'ช', 'ซ', 'ฌ', 'ญ', 'ฎ', 'ฏ', 'ฐ', 'ฑ', 'ฒ', 'ณ', 'ด', 'ต', 'ถ', 'ท', 'ธ', 'น', 'บ', 'ป', 'ผ', 'ฝ', 'พ', 'ฟ', 'ภ', 'ม', 'ย', 'ร', 'ฤ', 'ล', 'ว', 'ศ', 'ษ', 'ส', 'ห', 'ฬ', 'อ', 'ฮ', 'ฯ', 'ะ', 'ั', 'า', 'ำ', 'ิ', 'ี', 'ึ', 'ื', 'ุ', 'ู', 'ฺ', 'เ', 'แ', 'โ', 'ใ', 'ไ', 'ๅ', 'ๆ', '็', '่', '้', '๊', '๋', '์', 'ํ', '๐', '๑', '๒', '๓', '๔', '๕', '๖', '๗', '๘', '๙', '‘', '’', '\\ufeff']\n",
      "177\n"
     ]
    }
   ],
   "source": [
    "charset = set()\n",
    "for i in range(len(dataset['train'])):\n",
    "  charset = charset.union(set(dataset['train'][i]['char']))\n",
    "\n",
    "charset = sorted(charset)\n",
    "print(charset)\n",
    "print(len(charset))"
   ]
  },
  {
   "cell_type": "code",
   "execution_count": null,
   "metadata": {
    "id": "gweZHR-j-7Bl"
   },
   "outputs": [],
   "source": [
    "# save the charset to google drive for future use\n",
    "..."
   ]
  },
  {
   "cell_type": "code",
   "execution_count": null,
   "metadata": {
    "id": "ugaA1pPB-tWp"
   },
   "outputs": [],
   "source": [
    "# mapping char to index of character in the charset\n",
    "char_indices = dict((c, i) for i, c in enumerate(charset))\n",
    "char_indices['<unk>']   = len(char_indices)\n",
    "char_indices['<blank>'] = len(char_indices)"
   ]
  },
  {
   "cell_type": "code",
   "execution_count": null,
   "metadata": {
    "colab": {
     "base_uri": "https://localhost:8080/"
    },
    "executionInfo": {
     "elapsed": 360,
     "status": "ok",
     "timestamp": 1627713196571,
     "user": {
      "displayName": "Sanparith Marukatat",
      "photoUrl": "",
      "userId": "06465963793803140513"
     },
     "user_tz": -420
    },
    "id": "VW-kWE6iWLZS",
    "outputId": "08ed94eb-15e5-4f79-9167-58d56b02862b"
   },
   "outputs": [
    {
     "data": {
      "text/plain": [
       "120"
      ]
     },
     "execution_count": 14,
     "metadata": {
      "tags": []
     },
     "output_type": "execute_result"
    }
   ],
   "source": [
    "char_indices['ผ']"
   ]
  },
  {
   "cell_type": "code",
   "execution_count": null,
   "metadata": {
    "id": "lzN7R3iP-tTq"
   },
   "outputs": [],
   "source": [
    "# reverse mapping from index of character to char\n",
    "char_rindices = dict((i, c) for i, c in enumerate(charset))\n",
    "char_rindices[len(char_rindices)] = '<unk>'\n",
    "char_rindices[len(char_rindices)] = ' '"
   ]
  },
  {
   "cell_type": "code",
   "execution_count": null,
   "metadata": {
    "colab": {
     "base_uri": "https://localhost:8080/",
     "height": 35
    },
    "executionInfo": {
     "elapsed": 330,
     "status": "ok",
     "timestamp": 1627110613226,
     "user": {
      "displayName": "Sanparith Marukatat",
      "photoUrl": "",
      "userId": "06465963793803140513"
     },
     "user_tz": -420
    },
    "id": "hl42sGOrWYR3",
    "outputId": "9dbec8aa-1347-48d0-819d-052d85a6ad02"
   },
   "outputs": [
    {
     "data": {
      "application/vnd.google.colaboratory.intrinsic+json": {
       "type": "string"
      },
      "text/plain": [
       "'ผ'"
      ]
     },
     "execution_count": 18,
     "metadata": {
      "tags": []
     },
     "output_type": "execute_result"
    }
   ],
   "source": [
    "char_rindices[120]"
   ]
  },
  {
   "cell_type": "code",
   "execution_count": null,
   "metadata": {
    "colab": {
     "base_uri": "https://localhost:8080/"
    },
    "executionInfo": {
     "elapsed": 313,
     "status": "ok",
     "timestamp": 1627110814636,
     "user": {
      "displayName": "Sanparith Marukatat",
      "photoUrl": "",
      "userId": "06465963793803140513"
     },
     "user_tz": -420
    },
    "id": "aPg-VrmbXJTx",
    "outputId": "101f8783-987d-4393-c457-e77f27c8b736"
   },
   "outputs": [
    {
     "data": {
      "text/plain": [
       "148995"
      ]
     },
     "execution_count": 19,
     "metadata": {
      "tags": []
     },
     "output_type": "execute_result"
    }
   ],
   "source": [
    "len(dataset['train'])"
   ]
  },
  {
   "cell_type": "markdown",
   "metadata": {
    "id": "i9bB8P2c_GFS"
   },
   "source": [
    "## Prepare training set\n",
    "Given string \"abc|def\".\n",
    "For context length = 2, it can be split into \n",
    "- (\"a\", 1) (1 = is beginning)\n",
    "- (\"ba\", 0) (0 = not beginning)\n",
    "- (\"cb\", 0)\n",
    "- (\"dc\", 1)\n",
    "- (\"ed\", 0)\n",
    "- (\"fe\", 0)\n",
    "\n",
    "\n",
    "For full training, we should split every string in the corpus into training examples, then shuffle.\n",
    "This could be a large training set. \n",
    "To reduce memory requirement, we could sampling training example on-the-fly and use class derived from __tensorflow.keras.utils.Sequence__."
   ]
  },
  {
   "cell_type": "code",
   "execution_count": null,
   "metadata": {
    "id": "EvVF1jN-C9nm"
   },
   "outputs": [],
   "source": [
    "import tensorflow as tf\n",
    "from tensorflow.keras.models import *\n",
    "from tensorflow.keras.layers import *\n",
    "from tensorflow.keras.optimizers import *"
   ]
  },
  {
   "cell_type": "code",
   "execution_count": null,
   "metadata": {
    "id": "WwDa-mkP-tRA"
   },
   "outputs": [],
   "source": [
    "import numpy as np\n",
    "\n",
    "def sample_training_example(chars, is_beginning, char_indices, context_length):\n",
    "\n",
    "  x = [char_indices['<blank>']] * context_length\n",
    "  i = 1 + np.random.randint(len(chars)-1) if len(chars)>1 else 0\n",
    "  for j in range(i,-1,-1):\n",
    "    k = i-j\n",
    "    if k>=context_length: break\n",
    "\n",
    "    x[k] = char_indices[chars[j]]\n",
    "\n",
    "  return (x, is_beginning[i])"
   ]
  },
  {
   "cell_type": "code",
   "execution_count": null,
   "metadata": {
    "id": "mdZ8e8sW-tOY"
   },
   "outputs": [],
   "source": [
    "class DataGenerator(tf.keras.utils.Sequence):\n",
    "\n",
    "    def __init__(self, dataset, char_indices, batch_size, context_length):\n",
    "        self.dataset        = dataset\n",
    "        self.char_indices   = char_indices\n",
    "        self.indices        = np.arange(len(self.dataset))\n",
    "        self.batch_size     = batch_size\n",
    "        self.context_length = context_length\n",
    "\n",
    "    def on_epoch_end(self):\n",
    "        np.random.shuffle(self.indices)\n",
    "    \n",
    "    def __len__(self): # Return total number of batches\n",
    "        return int(np.floor(len(self.dataset) / self.batch_size))\n",
    "\n",
    "    def __getitem__(self, index):\n",
    "        offset = index*self.batch_size\n",
    "\n",
    "        batch_in, batch_out  = [], []\n",
    "        for i in range(self.batch_size):\n",
    "\n",
    "            idx = int(self.indices[ offset + i ])\n",
    "\n",
    "            x,y = sample_training_example(self.dataset[idx]['char'], \n",
    "                                          self.dataset[idx]['is_beginning'],\n",
    "                                          self.char_indices,\n",
    "                                          self.context_length)          \n",
    "            batch_in.append( x ) \n",
    "            batch_out.append( y )\n",
    "\n",
    "        batch_in  = np.array(batch_in)\n",
    "        batch_out = np.array(batch_out)\n",
    "\n",
    "        return batch_in, batch_out\n",
    "\n"
   ]
  },
  {
   "cell_type": "code",
   "execution_count": null,
   "metadata": {
    "id": "yiTPyWH1-tLi"
   },
   "outputs": [],
   "source": [
    "training_set = DataGenerator(dataset['train'], char_indices, 32, 8)"
   ]
  },
  {
   "cell_type": "code",
   "execution_count": null,
   "metadata": {
    "colab": {
     "base_uri": "https://localhost:8080/"
    },
    "executionInfo": {
     "elapsed": 304,
     "status": "ok",
     "timestamp": 1627111277312,
     "user": {
      "displayName": "Sanparith Marukatat",
      "photoUrl": "",
      "userId": "06465963793803140513"
     },
     "user_tz": -420
    },
    "id": "FXJAJQ66-tIs",
    "outputId": "c59987d3-096d-4263-9a03-9557924264c6"
   },
   "outputs": [
    {
     "name": "stdout",
     "output_type": "stream",
     "text": [
      "(32, 8) (32,)\n",
      "กฎหมายก 1\n",
      "ันธ์ทางก 1\n",
      "ไพ 0\n",
      "ตร์ มหาว 0\n",
      "(บทความ 0\n",
      "ความน 1\n",
      "ทางไปสู่ 0\n",
      "ั้งประเด 0\n"
     ]
    }
   ],
   "source": [
    "# test the training_set\n",
    "X,Y = training_set[0]\n",
    "print(X.shape, Y.shape)\n",
    "for i in range(8):\n",
    "  z = []\n",
    "  for j in range(8):\n",
    "    if X[i,j] == char_indices['<blank>']:\n",
    "      break\n",
    "    else:\n",
    "      z.insert(0,char_rindices[X[i,j]])\n",
    "  print(''.join(z), Y[i])"
   ]
  },
  {
   "cell_type": "markdown",
   "metadata": {
    "id": "7EsVA0OZDy-y"
   },
   "source": [
    "## Model construction"
   ]
  },
  {
   "cell_type": "code",
   "execution_count": null,
   "metadata": {
    "colab": {
     "base_uri": "https://localhost:8080/"
    },
    "executionInfo": {
     "elapsed": 315,
     "status": "ok",
     "timestamp": 1627111487124,
     "user": {
      "displayName": "Sanparith Marukatat",
      "photoUrl": "",
      "userId": "06465963793803140513"
     },
     "user_tz": -420
    },
    "id": "jKX9yGEfZu5b",
    "outputId": "4352c3ee-e100-4a4a-91ce-a0319a3d60e2"
   },
   "outputs": [
    {
     "data": {
      "text/plain": [
       "179"
      ]
     },
     "execution_count": 26,
     "metadata": {
      "tags": []
     },
     "output_type": "execute_result"
    }
   ],
   "source": [
    "len(char_indices)"
   ]
  },
  {
   "cell_type": "code",
   "execution_count": null,
   "metadata": {
    "id": "8k0JF8vjZOqt"
   },
   "outputs": [],
   "source": [
    "[1,20,170,4,...,]"
   ]
  },
  {
   "cell_type": "code",
   "execution_count": null,
   "metadata": {
    "id": "Hz43dBKJDTjw"
   },
   "outputs": [],
   "source": [
    "context_length = 10\n",
    "batch_size     = 32"
   ]
  },
  {
   "cell_type": "code",
   "execution_count": null,
   "metadata": {
    "colab": {
     "base_uri": "https://localhost:8080/"
    },
    "executionInfo": {
     "elapsed": 302,
     "status": "ok",
     "timestamp": 1627111821094,
     "user": {
      "displayName": "Sanparith Marukatat",
      "photoUrl": "",
      "userId": "06465963793803140513"
     },
     "user_tz": -420
    },
    "id": "BiozQfZna7Fd",
    "outputId": "0de361f7-96f2-446a-d2ab-67b415f76ba1"
   },
   "outputs": [
    {
     "name": "stdout",
     "output_type": "stream",
     "text": [
      "(32, 10) (32,)\n"
     ]
    }
   ],
   "source": [
    "training_set = DataGenerator(dataset['train'], char_indices, batch_size, context_length)\n",
    "X,Y = training_set[0]\n",
    "\n",
    "print(X.shape, Y.shape)"
   ]
  },
  {
   "cell_type": "code",
   "execution_count": null,
   "metadata": {
    "colab": {
     "base_uri": "https://localhost:8080/"
    },
    "executionInfo": {
     "elapsed": 1852,
     "status": "ok",
     "timestamp": 1627713203443,
     "user": {
      "displayName": "Sanparith Marukatat",
      "photoUrl": "",
      "userId": "06465963793803140513"
     },
     "user_tz": -420
    },
    "id": "5K--ibEMqIkq",
    "outputId": "5d089fa9-5f5f-4846-9189-f61b55c45881"
   },
   "outputs": [
    {
     "name": "stdout",
     "output_type": "stream",
     "text": [
      "Model: \"model\"\n",
      "_________________________________________________________________\n",
      "Layer (type)                 Output Shape              Param #   \n",
      "=================================================================\n",
      "input_2 (InputLayer)         [(None, 10)]              0         \n",
      "_________________________________________________________________\n",
      "embedding (Embedding)        (None, 10, 128)           22912     \n",
      "_________________________________________________________________\n",
      "bidirectional (Bidirectional (None, 10, 16)            8768      \n",
      "_________________________________________________________________\n",
      "bidirectional_1 (Bidirection (None, 16)                1600      \n",
      "_________________________________________________________________\n",
      "dense (Dense)                (None, 1)                 17        \n",
      "=================================================================\n",
      "Total params: 33,297\n",
      "Trainable params: 33,297\n",
      "Non-trainable params: 0\n",
      "_________________________________________________________________\n"
     ]
    }
   ],
   "source": [
    "input = Input(shape=(context_length,))\n",
    "\n",
    "x = Embedding(len(char_indices), 128)(input)\n",
    "x = Bidirectional(LSTM(8, return_sequences=True),merge_mode='concat')(x)\n",
    "x = Bidirectional(LSTM(8, return_sequences=False),merge_mode='concat')(x)\n",
    "x = Dense(1, activation='sigmoid')(x)\n",
    "\n",
    "mod = Model(inputs=[input], outputs=[x])\n",
    "mod.summary()"
   ]
  },
  {
   "cell_type": "code",
   "execution_count": null,
   "metadata": {
    "id": "4ln3AfciRH5B"
   },
   "outputs": [],
   "source": [
    "mod.compile(loss='binary_crossentropy', optimizer='adam')\n",
    "mod.save('toto.h5')"
   ]
  },
  {
   "cell_type": "code",
   "execution_count": null,
   "metadata": {
    "colab": {
     "base_uri": "https://localhost:8080/"
    },
    "executionInfo": {
     "elapsed": 316,
     "status": "ok",
     "timestamp": 1627115540169,
     "user": {
      "displayName": "Sanparith Marukatat",
      "photoUrl": "",
      "userId": "06465963793803140513"
     },
     "user_tz": -420
    },
    "id": "EiQ7nNuWouP8",
    "outputId": "d0f3c012-3422-4edb-b211-f35b40d33448"
   },
   "outputs": [
    {
     "name": "stdout",
     "output_type": "stream",
     "text": [
      "Model: \"model_8\"\n",
      "_________________________________________________________________\n",
      "Layer (type)                 Output Shape              Param #   \n",
      "=================================================================\n",
      "input_9 (InputLayer)         [(None, 10)]              0         \n",
      "_________________________________________________________________\n",
      "embedding_8 (Embedding)      (None, 10, 128)           22912     \n",
      "_________________________________________________________________\n",
      "conv1d_1 (Conv1D)            (None, 8, 8)              3080      \n",
      "_________________________________________________________________\n",
      "flatten_4 (Flatten)          (None, 64)                0         \n",
      "_________________________________________________________________\n",
      "dense_8 (Dense)              (None, 1)                 65        \n",
      "=================================================================\n",
      "Total params: 26,057\n",
      "Trainable params: 26,057\n",
      "Non-trainable params: 0\n",
      "_________________________________________________________________\n"
     ]
    }
   ],
   "source": [
    "input = Input(shape=(context_length,))\n",
    "\n",
    "x = Embedding(len(char_indices), 128)(input)\n",
    "x = Conv1D(8, kernel_size=3, padding='same')(x)\n",
    "\n",
    "x = Flatten()(x)\n",
    "x = Dense(1, activation='sigmoid')(x)\n",
    "\n",
    "mod = Model(inputs=[input], outputs=[x])\n",
    "mod.summary()"
   ]
  },
  {
   "cell_type": "code",
   "execution_count": null,
   "metadata": {
    "colab": {
     "base_uri": "https://localhost:8080/"
    },
    "executionInfo": {
     "elapsed": 831,
     "status": "ok",
     "timestamp": 1627112388005,
     "user": {
      "displayName": "Sanparith Marukatat",
      "photoUrl": "",
      "userId": "06465963793803140513"
     },
     "user_tz": -420
    },
    "id": "Oeupmib5D13v",
    "outputId": "806cfaa1-2850-495f-82ae-15bc860dec0e"
   },
   "outputs": [
    {
     "name": "stdout",
     "output_type": "stream",
     "text": [
      "Model: \"model_6\"\n",
      "_________________________________________________________________\n",
      "Layer (type)                 Output Shape              Param #   \n",
      "=================================================================\n",
      "input_7 (InputLayer)         [(None, 10)]              0         \n",
      "_________________________________________________________________\n",
      "embedding_6 (Embedding)      (None, 10, 128)           22912     \n",
      "_________________________________________________________________\n",
      "lstm_6 (LSTM)                (None, 10, 8)             4384      \n",
      "_________________________________________________________________\n",
      "lstm_7 (LSTM)                (None, 8)                 544       \n",
      "_________________________________________________________________\n",
      "dense_6 (Dense)              (None, 1)                 9         \n",
      "=================================================================\n",
      "Total params: 27,849\n",
      "Trainable params: 27,849\n",
      "Non-trainable params: 0\n",
      "_________________________________________________________________\n"
     ]
    }
   ],
   "source": [
    "input = Input(shape=(context_length,))\n",
    "\n",
    "x = Embedding(len(char_indices), 128)(input)\n",
    "x = LSTM(8, return_sequences=True)(x)\n",
    "x = LSTM(8, return_sequences=False)(x)\n",
    "x = Dense(1, activation='sigmoid')(x)\n",
    "\n",
    "mod = Model(inputs=[input], outputs=[x])\n",
    "mod.summary()"
   ]
  },
  {
   "cell_type": "code",
   "execution_count": null,
   "metadata": {
    "id": "o5wHq8nmD5hJ"
   },
   "outputs": [],
   "source": [
    "mod.compile(loss='binary_crossentropy', optimizer='adam', metrics=['accuracy'])"
   ]
  },
  {
   "cell_type": "code",
   "execution_count": null,
   "metadata": {
    "id": "ISQ-BPWUD9Q5"
   },
   "outputs": [],
   "source": [
    "training_set = DataGenerator(dataset['train'], char_indices, batch_size, context_length)"
   ]
  },
  {
   "cell_type": "code",
   "execution_count": null,
   "metadata": {
    "colab": {
     "base_uri": "https://localhost:8080/"
    },
    "executionInfo": {
     "elapsed": 1675742,
     "status": "ok",
     "timestamp": 1627114106911,
     "user": {
      "displayName": "Sanparith Marukatat",
      "photoUrl": "",
      "userId": "06465963793803140513"
     },
     "user_tz": -420
    },
    "id": "Lnt8u0rUD-3d",
    "outputId": "e7b8f7ec-e717-46e5-a99c-3cd7a30c569d"
   },
   "outputs": [
    {
     "name": "stdout",
     "output_type": "stream",
     "text": [
      "Epoch 1/10\n",
      "4656/4656 [==============================] - 162s 34ms/step - loss: 0.2942 - accuracy: 0.8777\n",
      "Epoch 2/10\n",
      "4656/4656 [==============================] - 156s 34ms/step - loss: 0.2077 - accuracy: 0.9121\n",
      "Epoch 3/10\n",
      "4656/4656 [==============================] - 155s 33ms/step - loss: 0.1877 - accuracy: 0.9241\n",
      "Epoch 4/10\n",
      "4656/4656 [==============================] - 156s 33ms/step - loss: 0.1773 - accuracy: 0.9297\n",
      "Epoch 5/10\n",
      "4656/4656 [==============================] - 165s 35ms/step - loss: 0.1685 - accuracy: 0.9335\n",
      "Epoch 6/10\n",
      "4656/4656 [==============================] - 158s 34ms/step - loss: 0.1643 - accuracy: 0.9355\n",
      "Epoch 7/10\n",
      "4656/4656 [==============================] - 159s 34ms/step - loss: 0.1586 - accuracy: 0.9373\n",
      "Epoch 8/10\n",
      "4656/4656 [==============================] - 160s 34ms/step - loss: 0.1572 - accuracy: 0.9385\n",
      "Epoch 9/10\n",
      "4656/4656 [==============================] - 157s 34ms/step - loss: 0.1539 - accuracy: 0.9399\n",
      "Epoch 10/10\n",
      "4656/4656 [==============================] - 157s 34ms/step - loss: 0.1518 - accuracy: 0.9414\n"
     ]
    },
    {
     "data": {
      "text/plain": [
       "<tensorflow.python.keras.callbacks.History at 0x7f01fac94b90>"
      ]
     },
     "execution_count": 39,
     "metadata": {
      "tags": []
     },
     "output_type": "execute_result"
    }
   ],
   "source": [
    "mod.fit(training_set, epochs=10)"
   ]
  },
  {
   "cell_type": "markdown",
   "metadata": {
    "id": "Pw4h-jsplFI9"
   },
   "source": [
    "# Layers for text\n",
    "## RNN\n",
    "- GRU\n",
    "- LSTM\n",
    "- RNN\n",
    "- SimpleRNN\n",
    "\n",
    "## Wrapper\n",
    "- Bidirectional\n",
    "\n",
    "## Misc\n",
    "- Conv1D\n",
    "\n",
    "## General\n",
    "- Dense\n",
    "- Dropout\n",
    "- Flatten\n",
    "\n",
    "\n"
   ]
  },
  {
   "cell_type": "code",
   "execution_count": null,
   "metadata": {
    "id": "YCV5n0z_EAKm"
   },
   "outputs": [],
   "source": [
    "def segment(text, char_indices, context_length, model):\n",
    "\n",
    "  out = []\n",
    "  for i in range(len(text)):\n",
    "    x = [char_indices['<blank>']] * context_length\n",
    "    for j in range(i,-1,-1):\n",
    "      k = i-j\n",
    "      if k>=context_length: break\n",
    "      x[k] = char_indices[text[j]]\n",
    "\n",
    "    o = model.predict(np.array([x]))[0]\n",
    "    if o>0.5:\n",
    "      out.append('|')\n",
    "\n",
    "    out.append(text[i])\n",
    "\n",
    "  return ''.join(out)"
   ]
  },
  {
   "cell_type": "code",
   "execution_count": null,
   "metadata": {
    "colab": {
     "base_uri": "https://localhost:8080/"
    },
    "executionInfo": {
     "elapsed": 337,
     "status": "ok",
     "timestamp": 1627114676958,
     "user": {
      "displayName": "Sanparith Marukatat",
      "photoUrl": "",
      "userId": "06465963793803140513"
     },
     "user_tz": -420
    },
    "id": "6bSD94zNJ_cy",
    "outputId": "ce69a1ad-3fef-43f1-ea05-7a69b37c4d12"
   },
   "outputs": [
    {
     "name": "stdout",
     "output_type": "stream",
     "text": [
      "กฎหมายกับการเบียดบังคนจน\n",
      "\n"
     ]
    }
   ],
   "source": [
    "text = ''.join(dataset['train'][0]['char'])\n",
    "print(text)"
   ]
  },
  {
   "cell_type": "code",
   "execution_count": null,
   "metadata": {
    "colab": {
     "base_uri": "https://localhost:8080/",
     "height": 35
    },
    "executionInfo": {
     "elapsed": 2427,
     "status": "ok",
     "timestamp": 1627114686231,
     "user": {
      "displayName": "Sanparith Marukatat",
      "photoUrl": "",
      "userId": "06465963793803140513"
     },
     "user_tz": -420
    },
    "id": "PoduxrGGJ2px",
    "outputId": "4fa86699-8325-4330-b34e-216dc2e097b7"
   },
   "outputs": [
    {
     "data": {
      "application/vnd.google.colaboratory.intrinsic+json": {
       "type": "string"
      },
      "text/plain": [
       "'กฎหมาย|กับ|การ|เบียด|บังคน|จน|\\n'"
      ]
     },
     "execution_count": 42,
     "metadata": {
      "tags": []
     },
     "output_type": "execute_result"
    }
   ],
   "source": [
    "segment(text, char_indices, context_length, new_model)"
   ]
  },
  {
   "cell_type": "code",
   "execution_count": null,
   "metadata": {
    "id": "dhuS-P-ZRrzJ"
   },
   "outputs": [],
   "source": [
    "new_model = tf.keras.models.load_model('toto.h5')"
   ]
  },
  {
   "cell_type": "code",
   "execution_count": null,
   "metadata": {
    "colab": {
     "base_uri": "https://localhost:8080/"
    },
    "executionInfo": {
     "elapsed": 308,
     "status": "ok",
     "timestamp": 1627713390033,
     "user": {
      "displayName": "Sanparith Marukatat",
      "photoUrl": "",
      "userId": "06465963793803140513"
     },
     "user_tz": -420
    },
    "id": "mmWjTvF6KLPL",
    "outputId": "dabd4239-21fa-4570-f5cb-b98b01921b6e"
   },
   "outputs": [
    {
     "name": "stdout",
     "output_type": "stream",
     "text": [
      "Model: \"model\"\n",
      "_________________________________________________________________\n",
      "Layer (type)                 Output Shape              Param #   \n",
      "=================================================================\n",
      "input_2 (InputLayer)         [(None, 10)]              0         \n",
      "_________________________________________________________________\n",
      "embedding (Embedding)        (None, 10, 128)           22912     \n",
      "_________________________________________________________________\n",
      "bidirectional (Bidirectional (None, 10, 16)            8768      \n",
      "_________________________________________________________________\n",
      "bidirectional_1 (Bidirection (None, 16)                1600      \n",
      "_________________________________________________________________\n",
      "dense (Dense)                (None, 1)                 17        \n",
      "=================================================================\n",
      "Total params: 33,297\n",
      "Trainable params: 33,297\n",
      "Non-trainable params: 0\n",
      "_________________________________________________________________\n"
     ]
    }
   ],
   "source": [
    "new_model.summary()"
   ]
  },
  {
   "cell_type": "markdown",
   "metadata": {
    "id": "w0U-W9iySbCC"
   },
   "source": [
    "# ONNX standard format for NN"
   ]
  },
  {
   "cell_type": "code",
   "execution_count": null,
   "metadata": {
    "id": "3TMmgKuzR0CJ"
   },
   "outputs": [],
   "source": []
  }
 ],
 "metadata": {
  "colab": {
   "authorship_tag": "ABX9TyOharnJ5N+8IVvoKrdD/HOz",
   "collapsed_sections": [],
   "name": "word segmentation.ipynb",
   "provenance": []
  },
  "kernelspec": {
   "display_name": "Python 3",
   "language": "python",
   "name": "python3"
  },
  "language_info": {
   "codemirror_mode": {
    "name": "ipython",
    "version": 3
   },
   "file_extension": ".py",
   "mimetype": "text/x-python",
   "name": "python",
   "nbconvert_exporter": "python",
   "pygments_lexer": "ipython3",
   "version": "3.8.5"
  },
  "widgets": {
   "application/vnd.jupyter.widget-state+json": {
    "0b7f4e0cf854432f99b091168829b21f": {
     "model_module": "@jupyter-widgets/controls",
     "model_name": "HTMLModel",
     "state": {
      "_dom_classes": [],
      "_model_module": "@jupyter-widgets/controls",
      "_model_module_version": "1.5.0",
      "_model_name": "HTMLModel",
      "_view_count": null,
      "_view_module": "@jupyter-widgets/controls",
      "_view_module_version": "1.5.0",
      "_view_name": "HTMLView",
      "description": "",
      "description_tooltip": null,
      "layout": "IPY_MODEL_c2970d487d804e37b77c1a2f2c62caf6",
      "placeholder": "​",
      "style": "IPY_MODEL_bad5ce2bfca64e1a90114551516d5c8a",
      "value": "Downloading: "
     }
    },
    "1cce0b69650e4bcb91dcc8d57326f0d3": {
     "model_module": "@jupyter-widgets/controls",
     "model_name": "ProgressStyleModel",
     "state": {
      "_model_module": "@jupyter-widgets/controls",
      "_model_module_version": "1.5.0",
      "_model_name": "ProgressStyleModel",
      "_view_count": null,
      "_view_module": "@jupyter-widgets/base",
      "_view_module_version": "1.2.0",
      "_view_name": "StyleView",
      "bar_color": null,
      "description_width": ""
     }
    },
    "21e215c27693417a8d7ea7cbb7d3901f": {
     "model_module": "@jupyter-widgets/base",
     "model_name": "LayoutModel",
     "state": {
      "_model_module": "@jupyter-widgets/base",
      "_model_module_version": "1.2.0",
      "_model_name": "LayoutModel",
      "_view_count": null,
      "_view_module": "@jupyter-widgets/base",
      "_view_module_version": "1.2.0",
      "_view_name": "LayoutView",
      "align_content": null,
      "align_items": null,
      "align_self": null,
      "border": null,
      "bottom": null,
      "display": null,
      "flex": null,
      "flex_flow": null,
      "grid_area": null,
      "grid_auto_columns": null,
      "grid_auto_flow": null,
      "grid_auto_rows": null,
      "grid_column": null,
      "grid_gap": null,
      "grid_row": null,
      "grid_template_areas": null,
      "grid_template_columns": null,
      "grid_template_rows": null,
      "height": null,
      "justify_content": null,
      "justify_items": null,
      "left": null,
      "margin": null,
      "max_height": null,
      "max_width": null,
      "min_height": null,
      "min_width": null,
      "object_fit": null,
      "object_position": null,
      "order": null,
      "overflow": null,
      "overflow_x": null,
      "overflow_y": null,
      "padding": null,
      "right": null,
      "top": null,
      "visibility": null,
      "width": null
     }
    },
    "24696d1726024c81862741ba51f460d6": {
     "model_module": "@jupyter-widgets/controls",
     "model_name": "HBoxModel",
     "state": {
      "_dom_classes": [],
      "_model_module": "@jupyter-widgets/controls",
      "_model_module_version": "1.5.0",
      "_model_name": "HBoxModel",
      "_view_count": null,
      "_view_module": "@jupyter-widgets/controls",
      "_view_module_version": "1.5.0",
      "_view_name": "HBoxView",
      "box_style": "",
      "children": [
       "IPY_MODEL_57a357906dd44912b1a875bd7ce61227",
       "IPY_MODEL_c6df48db0d174ca692de20549a5d5645",
       "IPY_MODEL_b67231bde7a5471ab28fbba9454fccd2"
      ],
      "layout": "IPY_MODEL_fdf2a13b21474aa484963f4654ef0ad4"
     }
    },
    "3cff011a0c104f6fb23761b8b8dce319": {
     "model_module": "@jupyter-widgets/controls",
     "model_name": "DescriptionStyleModel",
     "state": {
      "_model_module": "@jupyter-widgets/controls",
      "_model_module_version": "1.5.0",
      "_model_name": "DescriptionStyleModel",
      "_view_count": null,
      "_view_module": "@jupyter-widgets/base",
      "_view_module_version": "1.2.0",
      "_view_name": "StyleView",
      "description_width": ""
     }
    },
    "4a6c616403c348348bc5f9d79a5affe2": {
     "model_module": "@jupyter-widgets/base",
     "model_name": "LayoutModel",
     "state": {
      "_model_module": "@jupyter-widgets/base",
      "_model_module_version": "1.2.0",
      "_model_name": "LayoutModel",
      "_view_count": null,
      "_view_module": "@jupyter-widgets/base",
      "_view_module_version": "1.2.0",
      "_view_name": "LayoutView",
      "align_content": null,
      "align_items": null,
      "align_self": null,
      "border": null,
      "bottom": null,
      "display": null,
      "flex": null,
      "flex_flow": null,
      "grid_area": null,
      "grid_auto_columns": null,
      "grid_auto_flow": null,
      "grid_auto_rows": null,
      "grid_column": null,
      "grid_gap": null,
      "grid_row": null,
      "grid_template_areas": null,
      "grid_template_columns": null,
      "grid_template_rows": null,
      "height": null,
      "justify_content": null,
      "justify_items": null,
      "left": null,
      "margin": null,
      "max_height": null,
      "max_width": null,
      "min_height": null,
      "min_width": null,
      "object_fit": null,
      "object_position": null,
      "order": null,
      "overflow": null,
      "overflow_x": null,
      "overflow_y": null,
      "padding": null,
      "right": null,
      "top": null,
      "visibility": null,
      "width": null
     }
    },
    "4b24c4fa7f4f493188c455fdb7d259a8": {
     "model_module": "@jupyter-widgets/controls",
     "model_name": "HBoxModel",
     "state": {
      "_dom_classes": [],
      "_model_module": "@jupyter-widgets/controls",
      "_model_module_version": "1.5.0",
      "_model_name": "HBoxModel",
      "_view_count": null,
      "_view_module": "@jupyter-widgets/controls",
      "_view_module_version": "1.5.0",
      "_view_name": "HBoxView",
      "box_style": "",
      "children": [
       "IPY_MODEL_0b7f4e0cf854432f99b091168829b21f",
       "IPY_MODEL_8f98fb5f54554090a27cd54e89e49f32",
       "IPY_MODEL_b3ebaa44f6524122a67ef388813b3ad5"
      ],
      "layout": "IPY_MODEL_4a6c616403c348348bc5f9d79a5affe2"
     }
    },
    "4f36137d14e3407694926002c4896c0c": {
     "model_module": "@jupyter-widgets/base",
     "model_name": "LayoutModel",
     "state": {
      "_model_module": "@jupyter-widgets/base",
      "_model_module_version": "1.2.0",
      "_model_name": "LayoutModel",
      "_view_count": null,
      "_view_module": "@jupyter-widgets/base",
      "_view_module_version": "1.2.0",
      "_view_name": "LayoutView",
      "align_content": null,
      "align_items": null,
      "align_self": null,
      "border": null,
      "bottom": null,
      "display": null,
      "flex": null,
      "flex_flow": null,
      "grid_area": null,
      "grid_auto_columns": null,
      "grid_auto_flow": null,
      "grid_auto_rows": null,
      "grid_column": null,
      "grid_gap": null,
      "grid_row": null,
      "grid_template_areas": null,
      "grid_template_columns": null,
      "grid_template_rows": null,
      "height": null,
      "justify_content": null,
      "justify_items": null,
      "left": null,
      "margin": null,
      "max_height": null,
      "max_width": null,
      "min_height": null,
      "min_width": null,
      "object_fit": null,
      "object_position": null,
      "order": null,
      "overflow": null,
      "overflow_x": null,
      "overflow_y": null,
      "padding": null,
      "right": null,
      "top": null,
      "visibility": null,
      "width": null
     }
    },
    "57a357906dd44912b1a875bd7ce61227": {
     "model_module": "@jupyter-widgets/controls",
     "model_name": "HTMLModel",
     "state": {
      "_dom_classes": [],
      "_model_module": "@jupyter-widgets/controls",
      "_model_module_version": "1.5.0",
      "_model_name": "HTMLModel",
      "_view_count": null,
      "_view_module": "@jupyter-widgets/controls",
      "_view_module_version": "1.5.0",
      "_view_name": "HTMLView",
      "description": "",
      "description_tooltip": null,
      "layout": "IPY_MODEL_4f36137d14e3407694926002c4896c0c",
      "placeholder": "​",
      "style": "IPY_MODEL_3cff011a0c104f6fb23761b8b8dce319",
      "value": "Downloading: "
     }
    },
    "77e1d35d81f84ab983feb82a25803627": {
     "model_module": "@jupyter-widgets/controls",
     "model_name": "ProgressStyleModel",
     "state": {
      "_model_module": "@jupyter-widgets/controls",
      "_model_module_version": "1.5.0",
      "_model_name": "ProgressStyleModel",
      "_view_count": null,
      "_view_module": "@jupyter-widgets/base",
      "_view_module_version": "1.2.0",
      "_view_name": "StyleView",
      "bar_color": null,
      "description_width": ""
     }
    },
    "8f98fb5f54554090a27cd54e89e49f32": {
     "model_module": "@jupyter-widgets/controls",
     "model_name": "FloatProgressModel",
     "state": {
      "_dom_classes": [],
      "_model_module": "@jupyter-widgets/controls",
      "_model_module_version": "1.5.0",
      "_model_name": "FloatProgressModel",
      "_view_count": null,
      "_view_module": "@jupyter-widgets/controls",
      "_view_module_version": "1.5.0",
      "_view_name": "ProgressView",
      "bar_style": "success",
      "description": "",
      "description_tooltip": null,
      "layout": "IPY_MODEL_c85ae4777861461cbf0d062c468058e7",
      "max": 2359,
      "min": 0,
      "orientation": "horizontal",
      "style": "IPY_MODEL_1cce0b69650e4bcb91dcc8d57326f0d3",
      "value": 2359
     }
    },
    "942681090b684f5e8ea16e659c408ede": {
     "model_module": "@jupyter-widgets/controls",
     "model_name": "DescriptionStyleModel",
     "state": {
      "_model_module": "@jupyter-widgets/controls",
      "_model_module_version": "1.5.0",
      "_model_name": "DescriptionStyleModel",
      "_view_count": null,
      "_view_module": "@jupyter-widgets/base",
      "_view_module_version": "1.2.0",
      "_view_name": "StyleView",
      "description_width": ""
     }
    },
    "9ca87057ec804fa59dd1f56e44b16ac6": {
     "model_module": "@jupyter-widgets/controls",
     "model_name": "DescriptionStyleModel",
     "state": {
      "_model_module": "@jupyter-widgets/controls",
      "_model_module_version": "1.5.0",
      "_model_name": "DescriptionStyleModel",
      "_view_count": null,
      "_view_module": "@jupyter-widgets/base",
      "_view_module_version": "1.2.0",
      "_view_name": "StyleView",
      "description_width": ""
     }
    },
    "b3ebaa44f6524122a67ef388813b3ad5": {
     "model_module": "@jupyter-widgets/controls",
     "model_name": "HTMLModel",
     "state": {
      "_dom_classes": [],
      "_model_module": "@jupyter-widgets/controls",
      "_model_module_version": "1.5.0",
      "_model_name": "HTMLModel",
      "_view_count": null,
      "_view_module": "@jupyter-widgets/controls",
      "_view_module_version": "1.5.0",
      "_view_name": "HTMLView",
      "description": "",
      "description_tooltip": null,
      "layout": "IPY_MODEL_bd7e5513c41049da8da2e57d1557543c",
      "placeholder": "​",
      "style": "IPY_MODEL_9ca87057ec804fa59dd1f56e44b16ac6",
      "value": " 5.60k/? [00:00&lt;00:00, 90.3kB/s]"
     }
    },
    "b67231bde7a5471ab28fbba9454fccd2": {
     "model_module": "@jupyter-widgets/controls",
     "model_name": "HTMLModel",
     "state": {
      "_dom_classes": [],
      "_model_module": "@jupyter-widgets/controls",
      "_model_module_version": "1.5.0",
      "_model_name": "HTMLModel",
      "_view_count": null,
      "_view_module": "@jupyter-widgets/controls",
      "_view_module_version": "1.5.0",
      "_view_name": "HTMLView",
      "description": "",
      "description_tooltip": null,
      "layout": "IPY_MODEL_21e215c27693417a8d7ea7cbb7d3901f",
      "placeholder": "​",
      "style": "IPY_MODEL_942681090b684f5e8ea16e659c408ede",
      "value": " 2.68k/? [00:00&lt;00:00, 67.3kB/s]"
     }
    },
    "bad5ce2bfca64e1a90114551516d5c8a": {
     "model_module": "@jupyter-widgets/controls",
     "model_name": "DescriptionStyleModel",
     "state": {
      "_model_module": "@jupyter-widgets/controls",
      "_model_module_version": "1.5.0",
      "_model_name": "DescriptionStyleModel",
      "_view_count": null,
      "_view_module": "@jupyter-widgets/base",
      "_view_module_version": "1.2.0",
      "_view_name": "StyleView",
      "description_width": ""
     }
    },
    "bd7e5513c41049da8da2e57d1557543c": {
     "model_module": "@jupyter-widgets/base",
     "model_name": "LayoutModel",
     "state": {
      "_model_module": "@jupyter-widgets/base",
      "_model_module_version": "1.2.0",
      "_model_name": "LayoutModel",
      "_view_count": null,
      "_view_module": "@jupyter-widgets/base",
      "_view_module_version": "1.2.0",
      "_view_name": "LayoutView",
      "align_content": null,
      "align_items": null,
      "align_self": null,
      "border": null,
      "bottom": null,
      "display": null,
      "flex": null,
      "flex_flow": null,
      "grid_area": null,
      "grid_auto_columns": null,
      "grid_auto_flow": null,
      "grid_auto_rows": null,
      "grid_column": null,
      "grid_gap": null,
      "grid_row": null,
      "grid_template_areas": null,
      "grid_template_columns": null,
      "grid_template_rows": null,
      "height": null,
      "justify_content": null,
      "justify_items": null,
      "left": null,
      "margin": null,
      "max_height": null,
      "max_width": null,
      "min_height": null,
      "min_width": null,
      "object_fit": null,
      "object_position": null,
      "order": null,
      "overflow": null,
      "overflow_x": null,
      "overflow_y": null,
      "padding": null,
      "right": null,
      "top": null,
      "visibility": null,
      "width": null
     }
    },
    "c2970d487d804e37b77c1a2f2c62caf6": {
     "model_module": "@jupyter-widgets/base",
     "model_name": "LayoutModel",
     "state": {
      "_model_module": "@jupyter-widgets/base",
      "_model_module_version": "1.2.0",
      "_model_name": "LayoutModel",
      "_view_count": null,
      "_view_module": "@jupyter-widgets/base",
      "_view_module_version": "1.2.0",
      "_view_name": "LayoutView",
      "align_content": null,
      "align_items": null,
      "align_self": null,
      "border": null,
      "bottom": null,
      "display": null,
      "flex": null,
      "flex_flow": null,
      "grid_area": null,
      "grid_auto_columns": null,
      "grid_auto_flow": null,
      "grid_auto_rows": null,
      "grid_column": null,
      "grid_gap": null,
      "grid_row": null,
      "grid_template_areas": null,
      "grid_template_columns": null,
      "grid_template_rows": null,
      "height": null,
      "justify_content": null,
      "justify_items": null,
      "left": null,
      "margin": null,
      "max_height": null,
      "max_width": null,
      "min_height": null,
      "min_width": null,
      "object_fit": null,
      "object_position": null,
      "order": null,
      "overflow": null,
      "overflow_x": null,
      "overflow_y": null,
      "padding": null,
      "right": null,
      "top": null,
      "visibility": null,
      "width": null
     }
    },
    "c6df48db0d174ca692de20549a5d5645": {
     "model_module": "@jupyter-widgets/controls",
     "model_name": "FloatProgressModel",
     "state": {
      "_dom_classes": [],
      "_model_module": "@jupyter-widgets/controls",
      "_model_module_version": "1.5.0",
      "_model_name": "FloatProgressModel",
      "_view_count": null,
      "_view_module": "@jupyter-widgets/controls",
      "_view_module_version": "1.5.0",
      "_view_name": "ProgressView",
      "bar_style": "success",
      "description": "",
      "description_tooltip": null,
      "layout": "IPY_MODEL_ebacb96349e04174b7af21c71f7b4858",
      "max": 1171,
      "min": 0,
      "orientation": "horizontal",
      "style": "IPY_MODEL_77e1d35d81f84ab983feb82a25803627",
      "value": 1171
     }
    },
    "c85ae4777861461cbf0d062c468058e7": {
     "model_module": "@jupyter-widgets/base",
     "model_name": "LayoutModel",
     "state": {
      "_model_module": "@jupyter-widgets/base",
      "_model_module_version": "1.2.0",
      "_model_name": "LayoutModel",
      "_view_count": null,
      "_view_module": "@jupyter-widgets/base",
      "_view_module_version": "1.2.0",
      "_view_name": "LayoutView",
      "align_content": null,
      "align_items": null,
      "align_self": null,
      "border": null,
      "bottom": null,
      "display": null,
      "flex": null,
      "flex_flow": null,
      "grid_area": null,
      "grid_auto_columns": null,
      "grid_auto_flow": null,
      "grid_auto_rows": null,
      "grid_column": null,
      "grid_gap": null,
      "grid_row": null,
      "grid_template_areas": null,
      "grid_template_columns": null,
      "grid_template_rows": null,
      "height": null,
      "justify_content": null,
      "justify_items": null,
      "left": null,
      "margin": null,
      "max_height": null,
      "max_width": null,
      "min_height": null,
      "min_width": null,
      "object_fit": null,
      "object_position": null,
      "order": null,
      "overflow": null,
      "overflow_x": null,
      "overflow_y": null,
      "padding": null,
      "right": null,
      "top": null,
      "visibility": null,
      "width": null
     }
    },
    "ebacb96349e04174b7af21c71f7b4858": {
     "model_module": "@jupyter-widgets/base",
     "model_name": "LayoutModel",
     "state": {
      "_model_module": "@jupyter-widgets/base",
      "_model_module_version": "1.2.0",
      "_model_name": "LayoutModel",
      "_view_count": null,
      "_view_module": "@jupyter-widgets/base",
      "_view_module_version": "1.2.0",
      "_view_name": "LayoutView",
      "align_content": null,
      "align_items": null,
      "align_self": null,
      "border": null,
      "bottom": null,
      "display": null,
      "flex": null,
      "flex_flow": null,
      "grid_area": null,
      "grid_auto_columns": null,
      "grid_auto_flow": null,
      "grid_auto_rows": null,
      "grid_column": null,
      "grid_gap": null,
      "grid_row": null,
      "grid_template_areas": null,
      "grid_template_columns": null,
      "grid_template_rows": null,
      "height": null,
      "justify_content": null,
      "justify_items": null,
      "left": null,
      "margin": null,
      "max_height": null,
      "max_width": null,
      "min_height": null,
      "min_width": null,
      "object_fit": null,
      "object_position": null,
      "order": null,
      "overflow": null,
      "overflow_x": null,
      "overflow_y": null,
      "padding": null,
      "right": null,
      "top": null,
      "visibility": null,
      "width": null
     }
    },
    "fdf2a13b21474aa484963f4654ef0ad4": {
     "model_module": "@jupyter-widgets/base",
     "model_name": "LayoutModel",
     "state": {
      "_model_module": "@jupyter-widgets/base",
      "_model_module_version": "1.2.0",
      "_model_name": "LayoutModel",
      "_view_count": null,
      "_view_module": "@jupyter-widgets/base",
      "_view_module_version": "1.2.0",
      "_view_name": "LayoutView",
      "align_content": null,
      "align_items": null,
      "align_self": null,
      "border": null,
      "bottom": null,
      "display": null,
      "flex": null,
      "flex_flow": null,
      "grid_area": null,
      "grid_auto_columns": null,
      "grid_auto_flow": null,
      "grid_auto_rows": null,
      "grid_column": null,
      "grid_gap": null,
      "grid_row": null,
      "grid_template_areas": null,
      "grid_template_columns": null,
      "grid_template_rows": null,
      "height": null,
      "justify_content": null,
      "justify_items": null,
      "left": null,
      "margin": null,
      "max_height": null,
      "max_width": null,
      "min_height": null,
      "min_width": null,
      "object_fit": null,
      "object_position": null,
      "order": null,
      "overflow": null,
      "overflow_x": null,
      "overflow_y": null,
      "padding": null,
      "right": null,
      "top": null,
      "visibility": null,
      "width": null
     }
    }
   }
  }
 },
 "nbformat": 4,
 "nbformat_minor": 1
}
