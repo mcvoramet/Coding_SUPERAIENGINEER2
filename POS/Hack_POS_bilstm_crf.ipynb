{
  "cells": [
    {
      "cell_type": "code",
      "execution_count": null,
      "metadata": {
        "id": "fIXKs45_9ADZ"
      },
      "outputs": [],
      "source": [
        "from google.colab import drive\n",
        "drive.mount('/content/drive')"
      ]
    },
    {
      "cell_type": "code",
      "execution_count": null,
      "metadata": {
        "id": "EHQiRRDo-XHR"
      },
      "outputs": [],
      "source": [
        "!unzip -q /content/drive/MyDrive/NLP_POS/superai2_pos_tagging.zip"
      ]
    },
    {
      "cell_type": "code",
      "execution_count": null,
      "metadata": {
        "id": "C7yJF0WcMhSK"
      },
      "outputs": [],
      "source": [
        "path = \"/content/super-ai-engineer-2021-nlp-pos-tagging/train/LST20 (Main Resource)/LST20_Corpus/LST20_Corpus/train/\""
      ]
    },
    {
      "cell_type": "code",
      "source": [
        "!pip install -U sentence-transformers"
      ],
      "metadata": {
        "id": "iYvDcBMoA2xg"
      },
      "execution_count": null,
      "outputs": []
    },
    {
      "cell_type": "code",
      "source": [
        "!pip install tqdm"
      ],
      "metadata": {
        "id": "zmnjnKeoA79r"
      },
      "execution_count": null,
      "outputs": []
    },
    {
      "cell_type": "code",
      "source": [
        "!pip install keras-crf"
      ],
      "metadata": {
        "id": "uzHvg2w5BSAb"
      },
      "execution_count": null,
      "outputs": []
    },
    {
      "cell_type": "code",
      "execution_count": null,
      "metadata": {
        "id": "eB03tIcJKHIz"
      },
      "outputs": [],
      "source": [
        "import os\n",
        "import pandas as pd\n",
        "from sentence_transformers import SentenceTransformer\n",
        "import gc\n",
        "import tensorflow as tf \n",
        "import numpy as np\n",
        "from keras import layers\n",
        "from keras.models import Model\n",
        "from keras.layers import Dense, Input, Dropout, LSTM, Activation\n",
        "from tqdm import tqdm\n",
        "from keras.models import Model, Input\n",
        "from keras.layers import LSTM, Embedding, Dense, TimeDistributed, Dropout, Bidirectional\n",
        "from keras_crf import CRFModel"
      ]
    },
    {
      "cell_type": "code",
      "execution_count": null,
      "metadata": {
        "id": "kCgXf_NjNXkD"
      },
      "outputs": [],
      "source": [
        "dir_list = os.listdir(path)"
      ]
    },
    {
      "cell_type": "code",
      "execution_count": null,
      "metadata": {
        "id": "v9GzImfhQCNR"
      },
      "outputs": [],
      "source": [
        "dir_list.sort()\n",
        "dir_list=dir_list[1:]"
      ]
    },
    {
      "cell_type": "code",
      "execution_count": null,
      "metadata": {
        "id": "T2u9PD3zyT2V"
      },
      "outputs": [],
      "source": [
        "word=[]\n",
        "pos=[]\n",
        "for file in dir_list:\n",
        "  file2 = open(path+file, 'r')\n",
        "  Lines = file2.readlines()\n",
        "  for line in Lines:\n",
        "    if line == \"\\n\":\n",
        "      word.append(\"_\")\n",
        "      pos.append(\"PU\")\n",
        "    else:\n",
        "      word.append(line.split(\"\\t\")[0])\n",
        "      pos.append(line.split(\"\\t\")[1])\n",
        "  file2.close()"
      ]
    },
    {
      "cell_type": "code",
      "execution_count": null,
      "metadata": {
        "id": "EqD8vIg90B28"
      },
      "outputs": [],
      "source": [
        "All_data = pd.DataFrame()\n",
        "All_data[\"word\"]=word\n",
        "All_data[\"POS\"]=pos"
      ]
    },
    {
      "cell_type": "code",
      "source": [
        "del dir_list,word,pos,Lines \n",
        "gc.collect()"
      ],
      "metadata": {
        "colab": {
          "base_uri": "https://localhost:8080/"
        },
        "id": "WcrX22twiqRk",
        "outputId": "17a62928-529f-4216-94e7-a40c98a097e1"
      },
      "execution_count": null,
      "outputs": [
        {
          "output_type": "execute_result",
          "data": {
            "text/plain": [
              "275"
            ]
          },
          "metadata": {},
          "execution_count": 8
        }
      ]
    },
    {
      "cell_type": "code",
      "execution_count": null,
      "metadata": {
        "colab": {
          "base_uri": "https://localhost:8080/",
          "height": 423
        },
        "id": "GmzrTCZJ-SYV",
        "outputId": "31643871-8f39-457e-c957-e1c0ce6215c7"
      },
      "outputs": [
        {
          "output_type": "execute_result",
          "data": {
            "text/html": [
              "\n",
              "  <div id=\"df-05efaf3a-ceb9-4c73-b4a7-b1da5f8377f4\">\n",
              "    <div class=\"colab-df-container\">\n",
              "      <div>\n",
              "<style scoped>\n",
              "    .dataframe tbody tr th:only-of-type {\n",
              "        vertical-align: middle;\n",
              "    }\n",
              "\n",
              "    .dataframe tbody tr th {\n",
              "        vertical-align: top;\n",
              "    }\n",
              "\n",
              "    .dataframe thead th {\n",
              "        text-align: right;\n",
              "    }\n",
              "</style>\n",
              "<table border=\"1\" class=\"dataframe\">\n",
              "  <thead>\n",
              "    <tr style=\"text-align: right;\">\n",
              "      <th></th>\n",
              "      <th>word</th>\n",
              "      <th>POS</th>\n",
              "    </tr>\n",
              "  </thead>\n",
              "  <tbody>\n",
              "    <tr>\n",
              "      <th>0</th>\n",
              "      <td>สุรยุทธ์</td>\n",
              "      <td>NN</td>\n",
              "    </tr>\n",
              "    <tr>\n",
              "      <th>1</th>\n",
              "      <td>ยัน</td>\n",
              "      <td>VV</td>\n",
              "    </tr>\n",
              "    <tr>\n",
              "      <th>2</th>\n",
              "      <td>ปฏิเสธ</td>\n",
              "      <td>VV</td>\n",
              "    </tr>\n",
              "    <tr>\n",
              "      <th>3</th>\n",
              "      <td>ลงนาม</td>\n",
              "      <td>VV</td>\n",
              "    </tr>\n",
              "    <tr>\n",
              "      <th>4</th>\n",
              "      <td>_</td>\n",
              "      <td>PU</td>\n",
              "    </tr>\n",
              "    <tr>\n",
              "      <th>...</th>\n",
              "      <td>...</td>\n",
              "      <td>...</td>\n",
              "    </tr>\n",
              "    <tr>\n",
              "      <th>2778031</th>\n",
              "      <td>ถอน</td>\n",
              "      <td>VV</td>\n",
              "    </tr>\n",
              "    <tr>\n",
              "      <th>2778032</th>\n",
              "      <td>รายชื่อ</td>\n",
              "      <td>NN</td>\n",
              "    </tr>\n",
              "    <tr>\n",
              "      <th>2778033</th>\n",
              "      <td>ด้วย</td>\n",
              "      <td>PS</td>\n",
              "    </tr>\n",
              "    <tr>\n",
              "      <th>2778034</th>\n",
              "      <td>.</td>\n",
              "      <td>PU</td>\n",
              "    </tr>\n",
              "    <tr>\n",
              "      <th>2778035</th>\n",
              "      <td>_</td>\n",
              "      <td>PU</td>\n",
              "    </tr>\n",
              "  </tbody>\n",
              "</table>\n",
              "<p>2778036 rows × 2 columns</p>\n",
              "</div>\n",
              "      <button class=\"colab-df-convert\" onclick=\"convertToInteractive('df-05efaf3a-ceb9-4c73-b4a7-b1da5f8377f4')\"\n",
              "              title=\"Convert this dataframe to an interactive table.\"\n",
              "              style=\"display:none;\">\n",
              "        \n",
              "  <svg xmlns=\"http://www.w3.org/2000/svg\" height=\"24px\"viewBox=\"0 0 24 24\"\n",
              "       width=\"24px\">\n",
              "    <path d=\"M0 0h24v24H0V0z\" fill=\"none\"/>\n",
              "    <path d=\"M18.56 5.44l.94 2.06.94-2.06 2.06-.94-2.06-.94-.94-2.06-.94 2.06-2.06.94zm-11 1L8.5 8.5l.94-2.06 2.06-.94-2.06-.94L8.5 2.5l-.94 2.06-2.06.94zm10 10l.94 2.06.94-2.06 2.06-.94-2.06-.94-.94-2.06-.94 2.06-2.06.94z\"/><path d=\"M17.41 7.96l-1.37-1.37c-.4-.4-.92-.59-1.43-.59-.52 0-1.04.2-1.43.59L10.3 9.45l-7.72 7.72c-.78.78-.78 2.05 0 2.83L4 21.41c.39.39.9.59 1.41.59.51 0 1.02-.2 1.41-.59l7.78-7.78 2.81-2.81c.8-.78.8-2.07 0-2.86zM5.41 20L4 18.59l7.72-7.72 1.47 1.35L5.41 20z\"/>\n",
              "  </svg>\n",
              "      </button>\n",
              "      \n",
              "  <style>\n",
              "    .colab-df-container {\n",
              "      display:flex;\n",
              "      flex-wrap:wrap;\n",
              "      gap: 12px;\n",
              "    }\n",
              "\n",
              "    .colab-df-convert {\n",
              "      background-color: #E8F0FE;\n",
              "      border: none;\n",
              "      border-radius: 50%;\n",
              "      cursor: pointer;\n",
              "      display: none;\n",
              "      fill: #1967D2;\n",
              "      height: 32px;\n",
              "      padding: 0 0 0 0;\n",
              "      width: 32px;\n",
              "    }\n",
              "\n",
              "    .colab-df-convert:hover {\n",
              "      background-color: #E2EBFA;\n",
              "      box-shadow: 0px 1px 2px rgba(60, 64, 67, 0.3), 0px 1px 3px 1px rgba(60, 64, 67, 0.15);\n",
              "      fill: #174EA6;\n",
              "    }\n",
              "\n",
              "    [theme=dark] .colab-df-convert {\n",
              "      background-color: #3B4455;\n",
              "      fill: #D2E3FC;\n",
              "    }\n",
              "\n",
              "    [theme=dark] .colab-df-convert:hover {\n",
              "      background-color: #434B5C;\n",
              "      box-shadow: 0px 1px 3px 1px rgba(0, 0, 0, 0.15);\n",
              "      filter: drop-shadow(0px 1px 2px rgba(0, 0, 0, 0.3));\n",
              "      fill: #FFFFFF;\n",
              "    }\n",
              "  </style>\n",
              "\n",
              "      <script>\n",
              "        const buttonEl =\n",
              "          document.querySelector('#df-05efaf3a-ceb9-4c73-b4a7-b1da5f8377f4 button.colab-df-convert');\n",
              "        buttonEl.style.display =\n",
              "          google.colab.kernel.accessAllowed ? 'block' : 'none';\n",
              "\n",
              "        async function convertToInteractive(key) {\n",
              "          const element = document.querySelector('#df-05efaf3a-ceb9-4c73-b4a7-b1da5f8377f4');\n",
              "          const dataTable =\n",
              "            await google.colab.kernel.invokeFunction('convertToInteractive',\n",
              "                                                     [key], {});\n",
              "          if (!dataTable) return;\n",
              "\n",
              "          const docLinkHtml = 'Like what you see? Visit the ' +\n",
              "            '<a target=\"_blank\" href=https://colab.research.google.com/notebooks/data_table.ipynb>data table notebook</a>'\n",
              "            + ' to learn more about interactive tables.';\n",
              "          element.innerHTML = '';\n",
              "          dataTable['output_type'] = 'display_data';\n",
              "          await google.colab.output.renderOutput(dataTable, element);\n",
              "          const docLink = document.createElement('div');\n",
              "          docLink.innerHTML = docLinkHtml;\n",
              "          element.appendChild(docLink);\n",
              "        }\n",
              "      </script>\n",
              "    </div>\n",
              "  </div>\n",
              "  "
            ],
            "text/plain": [
              "             word POS\n",
              "0        สุรยุทธ์  NN\n",
              "1             ยัน  VV\n",
              "2          ปฏิเสธ  VV\n",
              "3           ลงนาม  VV\n",
              "4               _  PU\n",
              "...           ...  ..\n",
              "2778031       ถอน  VV\n",
              "2778032   รายชื่อ  NN\n",
              "2778033      ด้วย  PS\n",
              "2778034         .  PU\n",
              "2778035         _  PU\n",
              "\n",
              "[2778036 rows x 2 columns]"
            ]
          },
          "metadata": {},
          "execution_count": 9
        }
      ],
      "source": [
        "All_data"
      ]
    },
    {
      "cell_type": "code",
      "execution_count": null,
      "metadata": {
        "id": "YHzTT4pYtalC"
      },
      "outputs": [],
      "source": [
        "model_emb = SentenceTransformer('mrp/simcse-model-roberta-base-thai')"
      ]
    },
    {
      "cell_type": "code",
      "execution_count": null,
      "metadata": {
        "id": "VHAVPu2L2-sV"
      },
      "outputs": [],
      "source": [
        "n=len(All_data)//256"
      ]
    },
    {
      "cell_type": "code",
      "execution_count": null,
      "metadata": {
        "colab": {
          "base_uri": "https://localhost:8080/"
        },
        "id": "CaumcW7iCehd",
        "outputId": "25c93ee1-052d-4945-9792-23de988f80ff"
      },
      "outputs": [
        {
          "output_type": "stream",
          "name": "stderr",
          "text": [
            "100%|██████████| 10852/10852 [29:10<00:00,  6.20it/s]\n"
          ]
        }
      ],
      "source": [
        "emb_list=[]\n",
        "for i in tqdm(range(n+1)):\n",
        "  if i==n:\n",
        "    embeddings = model_emb.encode(list(All_data.iloc[256*i:len(All_data[\"word\"]),0]))\n",
        "  else:\n",
        "    embeddings = model_emb.encode(list(All_data.iloc[256*i:(256*(i+1)),0]))  \n",
        "\n",
        "  emb_list=emb_list+list(embeddings)"
      ]
    },
    {
      "cell_type": "code",
      "source": [
        "del embeddings\n",
        "gc.collect()"
      ],
      "metadata": {
        "colab": {
          "base_uri": "https://localhost:8080/"
        },
        "id": "-vix-es6xbVF",
        "outputId": "b37d0671-209a-454c-a16f-8e5dd186e75a"
      },
      "execution_count": null,
      "outputs": [
        {
          "output_type": "execute_result",
          "data": {
            "text/plain": [
              "134"
            ]
          },
          "metadata": {},
          "execution_count": 20
        }
      ]
    },
    {
      "cell_type": "code",
      "source": [
        "len(emb_list[100])"
      ],
      "metadata": {
        "colab": {
          "base_uri": "https://localhost:8080/"
        },
        "id": "hsyc-xWe_An_",
        "outputId": "5c2b1a70-dcf3-4115-b503-31009779add7"
      },
      "execution_count": null,
      "outputs": [
        {
          "output_type": "execute_result",
          "data": {
            "text/plain": [
              "768"
            ]
          },
          "metadata": {},
          "execution_count": 20
        }
      ]
    },
    {
      "cell_type": "code",
      "execution_count": null,
      "metadata": {
        "id": "atoJtu6vsCOr"
      },
      "outputs": [],
      "source": [
        "Pos_unique = All_data['POS'].unique()"
      ]
    },
    {
      "cell_type": "code",
      "execution_count": null,
      "metadata": {
        "id": "rlYmq7FNurUj"
      },
      "outputs": [],
      "source": [
        "Pos_unique=list(Pos_unique)"
      ]
    },
    {
      "cell_type": "code",
      "execution_count": null,
      "metadata": {
        "id": "dkBkrxtcsQ_U"
      },
      "outputs": [],
      "source": [
        "def converlabel(Pos_unique,s):\n",
        "  ind = Pos_unique.index(s)\n",
        "  return ind"
      ]
    },
    {
      "cell_type": "code",
      "execution_count": null,
      "metadata": {
        "id": "6cRRz23wtbRb"
      },
      "outputs": [],
      "source": [
        "relabel=[]\n",
        "for i in All_data['POS']:\n",
        "  relabel.append(converlabel(Pos_unique,i))"
      ]
    },
    {
      "cell_type": "code",
      "execution_count": null,
      "metadata": {
        "colab": {
          "base_uri": "https://localhost:8080/"
        },
        "id": "Kz3cpXY3_-o3",
        "outputId": "e7e95e42-744b-4cae-fbf0-fa870e207d49"
      },
      "outputs": [
        {
          "output_type": "stream",
          "name": "stdout",
          "text": [
            "2778036\n"
          ]
        },
        {
          "output_type": "stream",
          "name": "stderr",
          "text": [
            "100%|██████████| 173628/173628 [00:00<00:00, 221378.27it/s]\n"
          ]
        }
      ],
      "source": [
        "new_emb_list = []\n",
        "print(len(emb_list))\n",
        "for i in tqdm(range(0,len(emb_list),16)):\n",
        "  if i in list(range(16)): \n",
        "    temp0 = [0]*768\n",
        "    temp = emb_list[0:i+1]\n",
        "    for j in range(16-i-1):\n",
        "      temp.insert(0,temp0)\n",
        "  elif i>=16 and i < len(emb_list)-16: \n",
        "    temp = emb_list[i-8:i+8]\n",
        "  else:\n",
        "    temp = emb_list[i:len(emb_list)]\n",
        "    temp0 = [0]*768\n",
        "    for j in range(16-(len(emb_list)-i)):\n",
        "      temp.append(temp0)\n",
        "  new_emb_list.append(temp)"
      ]
    },
    {
      "cell_type": "code",
      "source": [
        "del emb_list\n",
        "gc.collect()"
      ],
      "metadata": {
        "colab": {
          "base_uri": "https://localhost:8080/"
        },
        "id": "4Fnvx9c13tAL",
        "outputId": "9e449c2d-34d1-408c-c271-dbb4e955ae59"
      },
      "execution_count": null,
      "outputs": [
        {
          "output_type": "execute_result",
          "data": {
            "text/plain": [
              "129"
            ]
          },
          "metadata": {},
          "execution_count": 26
        }
      ]
    },
    {
      "cell_type": "code",
      "source": [
        "del All_data,temp,temp0\n",
        "gc.collect()"
      ],
      "metadata": {
        "id": "S106Pumd2Ob1",
        "colab": {
          "base_uri": "https://localhost:8080/"
        },
        "outputId": "511bb997-a76d-43d3-f8b2-2d00bfa07cb4"
      },
      "execution_count": null,
      "outputs": [
        {
          "output_type": "execute_result",
          "data": {
            "text/plain": [
              "88"
            ]
          },
          "metadata": {},
          "execution_count": 27
        }
      ]
    },
    {
      "cell_type": "code",
      "execution_count": null,
      "metadata": {
        "id": "Llt3vB_5YLes"
      },
      "outputs": [],
      "source": [
        "gc.collect()\n",
        "new_emb_list = np.asarray(new_emb_list,dtype='float32')"
      ]
    },
    {
      "cell_type": "code",
      "execution_count": null,
      "metadata": {
        "colab": {
          "base_uri": "https://localhost:8080/"
        },
        "id": "_0GVCA7IYrnm",
        "outputId": "64214bbe-0588-4023-9a9e-7ddf49bafa8c"
      },
      "outputs": [
        {
          "output_type": "execute_result",
          "data": {
            "text/plain": [
              "(173628, 16, 768)"
            ]
          },
          "metadata": {},
          "execution_count": 28
        }
      ],
      "source": [
        "new_emb_list.shape"
      ]
    },
    {
      "cell_type": "code",
      "execution_count": null,
      "metadata": {
        "id": "LEhiKwCAvHB_"
      },
      "outputs": [],
      "source": [
        "def text_clasifier_lstm(input_shape):\n",
        "\n",
        "    \n",
        "    # Define sentence_indices as the input of the graph, it should be of shape input_shape and dtype 'int32' (as it contains indices).\n",
        "    input = Input(shape=input_shape)  \n",
        "\n",
        "    X = Bidirectional(layers.LSTM(256, return_sequences=True,dropout=0.1))(input)\n",
        "    X = Bidirectional(layers.LSTM(256, activation='relu', return_sequences=True,go_backwards=True,dropout=0.1))(X)\n",
        "    # Propagate the embeddings through an LSTM layer with 128-dimensional hidden state\n",
        "    # Be careful, the returned output should be a batch of sequences.\n",
        "    X = LSTM(128, return_sequences=True)(X)\n",
        "    # Add dropout with a probability of 0.1\n",
        "    X = Dropout(0.3)(X)\n",
        "    # Propagate X trough another LSTM layer with 128-dimensional hidden state\n",
        "    # Be careful, the returned output should be a single hidden state, not a batch of sequences.\n",
        "    X = LSTM(128,return_sequences=True)(X)\n",
        "    # Add dropout with a probability of 0.1\n",
        "    X = Dropout(0.3)(X)\n",
        "    # Propagate X through a Dense layer with softmax activation to get back a batch of 5-dimensional vectors.\n",
        "    X = Dense(64)(X)\n",
        "    # Add a softmax activation\n",
        "    #X = Activation('softmax')(X)\n",
        "    #main_lstm = layers.TimeDistributed(Dense(16, activation=\"relu\"))(X)\n",
        "    base=tf.keras.Model(inputs=input,outputs=X)\n",
        "    model=CRFModel(base,16)\n",
        "    # CRF\n",
        "    #crf = CRF(17)  # CRF layer\n",
        "    #out = crf(main_lstm)  # output\n",
        "    # Create Model instance which converts sentence_indices into X.\n",
        "    #model = Model(input, out)\n",
        "    \n",
        "    return model"
      ]
    },
    {
      "cell_type": "code",
      "execution_count": null,
      "metadata": {
        "colab": {
          "base_uri": "https://localhost:8080/"
        },
        "id": "zP_tYoZuvMT2",
        "outputId": "a3e8799c-d3b8-43f6-ca4a-80c7b2645537"
      },
      "outputs": [
        {
          "output_type": "stream",
          "name": "stdout",
          "text": [
            "WARNING:tensorflow:Layer lstm_1 will not use cuDNN kernels since it doesn't meet the criteria. It will use a generic GPU kernel as fallback when running on GPU.\n",
            "WARNING:tensorflow:Layer lstm_1 will not use cuDNN kernels since it doesn't meet the criteria. It will use a generic GPU kernel as fallback when running on GPU.\n",
            "WARNING:tensorflow:Layer lstm_1 will not use cuDNN kernels since it doesn't meet the criteria. It will use a generic GPU kernel as fallback when running on GPU.\n"
          ]
        }
      ],
      "source": [
        "model = text_clasifier_lstm((16,768))"
      ]
    },
    {
      "cell_type": "code",
      "execution_count": null,
      "metadata": {
        "colab": {
          "base_uri": "https://localhost:8080/"
        },
        "id": "HbsuBPpmwkGO",
        "outputId": "ae0f83ea-d9fb-4bde-860d-9c102e556660"
      },
      "outputs": [
        {
          "output_type": "stream",
          "name": "stdout",
          "text": [
            "Model: \"crf_model\"\n",
            "__________________________________________________________________________________________________\n",
            " Layer (type)                   Output Shape         Param #     Connected to                     \n",
            "==================================================================================================\n",
            " input_1 (InputLayer)           [(None, 16, 768)]    0           []                               \n",
            "                                                                                                  \n",
            " bidirectional (Bidirectional)  (None, 16, 512)      2099200     ['input_1[0][0]']                \n",
            "                                                                                                  \n",
            " bidirectional_1 (Bidirectional  (None, 16, 512)     1574912     ['bidirectional[0][0]']          \n",
            " )                                                                                                \n",
            "                                                                                                  \n",
            " lstm_2 (LSTM)                  (None, 16, 128)      328192      ['bidirectional_1[0][0]']        \n",
            "                                                                                                  \n",
            " dropout (Dropout)              (None, 16, 128)      0           ['lstm_2[0][0]']                 \n",
            "                                                                                                  \n",
            " lstm_3 (LSTM)                  (None, 16, 128)      131584      ['dropout[0][0]']                \n",
            "                                                                                                  \n",
            " dropout_1 (Dropout)            (None, 16, 128)      0           ['lstm_3[0][0]']                 \n",
            "                                                                                                  \n",
            " dense (Dense)                  (None, 16, 64)       8256        ['dropout_1[0][0]']              \n",
            "                                                                                                  \n",
            " crf (CRF)                      [(None, 16),         1328        ['dense[0][0]']                  \n",
            "                                 (None, 16, 16),                                                  \n",
            "                                 (None,),                                                         \n",
            "                                 (16, 16)]                                                        \n",
            "                                                                                                  \n",
            " decode_sequence (Lambda)       (None, 16)           0           ['crf[0][0]']                    \n",
            "                                                                                                  \n",
            " potentials (Lambda)            (None, 16, 16)       0           ['crf[0][1]']                    \n",
            "                                                                                                  \n",
            " sequence_length (Lambda)       (None,)              0           ['crf[0][2]']                    \n",
            "                                                                                                  \n",
            " kernel (Lambda)                (16, 16)             0           ['crf[0][3]']                    \n",
            "                                                                                                  \n",
            "==================================================================================================\n",
            "Total params: 4,143,472\n",
            "Trainable params: 4,143,472\n",
            "Non-trainable params: 0\n",
            "__________________________________________________________________________________________________\n"
          ]
        }
      ],
      "source": [
        "model.summary()"
      ]
    },
    {
      "cell_type": "code",
      "execution_count": null,
      "metadata": {
        "colab": {
          "base_uri": "https://localhost:8080/"
        },
        "id": "NpU5iqUr0uVG",
        "outputId": "2ebf4b10-9334-4b62-bd1d-c4c547d2fc3a"
      },
      "outputs": [
        {
          "output_type": "stream",
          "name": "stderr",
          "text": [
            "100%|██████████| 173628/173628 [00:00<00:00, 289026.89it/s]\n"
          ]
        }
      ],
      "source": [
        "Y_train = []\n",
        "for i in tqdm(range(0,len(relabel),16)):\n",
        "  if i in list(range(16)): \n",
        "    temp0 = 2\n",
        "    temp = relabel[0:i+1]\n",
        "    for j in range(16-i-1):\n",
        "      temp.insert(0,temp0)\n",
        "  elif i>=10 and i < len(relabel)-16: \n",
        "    temp = relabel[i-8:i+8]\n",
        "  else:\n",
        "    temp = relabel[i:len(relabel)]\n",
        "    temp0 = 2\n",
        "    for j in range(16-(len(relabel)-i)):\n",
        "      temp.append(temp0)\n",
        "  Y_train.append(temp)"
      ]
    },
    {
      "cell_type": "code",
      "execution_count": null,
      "metadata": {
        "id": "KtYT0gNzwz-f"
      },
      "outputs": [],
      "source": [
        "del temp,temp0,relabel\n",
        "gc.collect()\n",
        "Y_train = np.asarray(Y_train,dtype='float32')"
      ]
    },
    {
      "cell_type": "code",
      "source": [
        "Y_train.shape"
      ],
      "metadata": {
        "colab": {
          "base_uri": "https://localhost:8080/"
        },
        "id": "tRjnmrBH1r8t",
        "outputId": "faf9b75d-4a87-4298-b004-72f8dc0b574d"
      },
      "execution_count": null,
      "outputs": [
        {
          "output_type": "execute_result",
          "data": {
            "text/plain": [
              "(173628, 16)"
            ]
          },
          "metadata": {},
          "execution_count": 39
        }
      ]
    },
    {
      "cell_type": "code",
      "execution_count": null,
      "metadata": {
        "id": "Xz2Ubxxd74Na"
      },
      "outputs": [],
      "source": [
        "path1 = \"/content/super-ai-engineer-2021-nlp-pos-tagging/train/LST20 (Main Resource)/LST20_Corpus/LST20_Corpus/eval/\""
      ]
    },
    {
      "cell_type": "code",
      "execution_count": null,
      "metadata": {
        "id": "N8XxuyaLcioS"
      },
      "outputs": [],
      "source": [
        "dir_list1 = os.listdir(path1)\n",
        "dir_list1.sort()\n",
        "dir_list1=dir_list1[1:]"
      ]
    },
    {
      "cell_type": "code",
      "execution_count": null,
      "metadata": {
        "id": "kGCGoqpoh4pW"
      },
      "outputs": [],
      "source": [
        "word1=[]\n",
        "pos1=[]\n",
        "for file in dir_list1:\n",
        "  file3 = open(path1+file, 'r')\n",
        "  Lines = file3.readlines()\n",
        "  for line in Lines:\n",
        "    if line == \"\\n\":\n",
        "      word1.append(\"_\")\n",
        "      pos1.append(\"PU\")\n",
        "    else:\n",
        "      word1.append(line.split(\"\\t\")[0])\n",
        "      pos1.append(line.split(\"\\t\")[1])\n",
        "  file3.close()"
      ]
    },
    {
      "cell_type": "code",
      "execution_count": null,
      "metadata": {
        "id": "Q2QPZmt5iNRm"
      },
      "outputs": [],
      "source": [
        "All_data1 = pd.DataFrame()\n",
        "All_data1[\"word\"]=word1\n",
        "All_data1[\"POS\"]=pos1"
      ]
    },
    {
      "cell_type": "code",
      "execution_count": null,
      "metadata": {
        "colab": {
          "base_uri": "https://localhost:8080/",
          "height": 423
        },
        "id": "WOG8tpThevuq",
        "outputId": "415349c0-cc74-4b1c-8a56-e0c09cadb02f"
      },
      "outputs": [
        {
          "output_type": "execute_result",
          "data": {
            "text/html": [
              "\n",
              "  <div id=\"df-572f7986-17e1-4ed3-ae84-ad20d8eb5a75\">\n",
              "    <div class=\"colab-df-container\">\n",
              "      <div>\n",
              "<style scoped>\n",
              "    .dataframe tbody tr th:only-of-type {\n",
              "        vertical-align: middle;\n",
              "    }\n",
              "\n",
              "    .dataframe tbody tr th {\n",
              "        vertical-align: top;\n",
              "    }\n",
              "\n",
              "    .dataframe thead th {\n",
              "        text-align: right;\n",
              "    }\n",
              "</style>\n",
              "<table border=\"1\" class=\"dataframe\">\n",
              "  <thead>\n",
              "    <tr style=\"text-align: right;\">\n",
              "      <th></th>\n",
              "      <th>word</th>\n",
              "      <th>POS</th>\n",
              "    </tr>\n",
              "  </thead>\n",
              "  <tbody>\n",
              "    <tr>\n",
              "      <th>0</th>\n",
              "      <td>สลด</td>\n",
              "      <td>VV</td>\n",
              "    </tr>\n",
              "    <tr>\n",
              "      <th>1</th>\n",
              "      <td>ผัว</td>\n",
              "      <td>NN</td>\n",
              "    </tr>\n",
              "    <tr>\n",
              "      <th>2</th>\n",
              "      <td>เมีย</td>\n",
              "      <td>NN</td>\n",
              "    </tr>\n",
              "    <tr>\n",
              "      <th>3</th>\n",
              "      <td>เฒ่า</td>\n",
              "      <td>NN</td>\n",
              "    </tr>\n",
              "    <tr>\n",
              "      <th>4</th>\n",
              "      <td>ถูก</td>\n",
              "      <td>AX</td>\n",
              "    </tr>\n",
              "    <tr>\n",
              "      <th>...</th>\n",
              "      <td>...</td>\n",
              "      <td>...</td>\n",
              "    </tr>\n",
              "    <tr>\n",
              "      <th>246475</th>\n",
              "      <td>ขอ</td>\n",
              "      <td>VV</td>\n",
              "    </tr>\n",
              "    <tr>\n",
              "      <th>246476</th>\n",
              "      <td>ไว้</td>\n",
              "      <td>AV</td>\n",
              "    </tr>\n",
              "    <tr>\n",
              "      <th>246477</th>\n",
              "      <td>ดูแล</td>\n",
              "      <td>VV</td>\n",
              "    </tr>\n",
              "    <tr>\n",
              "      <th>246478</th>\n",
              "      <td>เอง</td>\n",
              "      <td>AV</td>\n",
              "    </tr>\n",
              "    <tr>\n",
              "      <th>246479</th>\n",
              "      <td>_</td>\n",
              "      <td>PU</td>\n",
              "    </tr>\n",
              "  </tbody>\n",
              "</table>\n",
              "<p>246480 rows × 2 columns</p>\n",
              "</div>\n",
              "      <button class=\"colab-df-convert\" onclick=\"convertToInteractive('df-572f7986-17e1-4ed3-ae84-ad20d8eb5a75')\"\n",
              "              title=\"Convert this dataframe to an interactive table.\"\n",
              "              style=\"display:none;\">\n",
              "        \n",
              "  <svg xmlns=\"http://www.w3.org/2000/svg\" height=\"24px\"viewBox=\"0 0 24 24\"\n",
              "       width=\"24px\">\n",
              "    <path d=\"M0 0h24v24H0V0z\" fill=\"none\"/>\n",
              "    <path d=\"M18.56 5.44l.94 2.06.94-2.06 2.06-.94-2.06-.94-.94-2.06-.94 2.06-2.06.94zm-11 1L8.5 8.5l.94-2.06 2.06-.94-2.06-.94L8.5 2.5l-.94 2.06-2.06.94zm10 10l.94 2.06.94-2.06 2.06-.94-2.06-.94-.94-2.06-.94 2.06-2.06.94z\"/><path d=\"M17.41 7.96l-1.37-1.37c-.4-.4-.92-.59-1.43-.59-.52 0-1.04.2-1.43.59L10.3 9.45l-7.72 7.72c-.78.78-.78 2.05 0 2.83L4 21.41c.39.39.9.59 1.41.59.51 0 1.02-.2 1.41-.59l7.78-7.78 2.81-2.81c.8-.78.8-2.07 0-2.86zM5.41 20L4 18.59l7.72-7.72 1.47 1.35L5.41 20z\"/>\n",
              "  </svg>\n",
              "      </button>\n",
              "      \n",
              "  <style>\n",
              "    .colab-df-container {\n",
              "      display:flex;\n",
              "      flex-wrap:wrap;\n",
              "      gap: 12px;\n",
              "    }\n",
              "\n",
              "    .colab-df-convert {\n",
              "      background-color: #E8F0FE;\n",
              "      border: none;\n",
              "      border-radius: 50%;\n",
              "      cursor: pointer;\n",
              "      display: none;\n",
              "      fill: #1967D2;\n",
              "      height: 32px;\n",
              "      padding: 0 0 0 0;\n",
              "      width: 32px;\n",
              "    }\n",
              "\n",
              "    .colab-df-convert:hover {\n",
              "      background-color: #E2EBFA;\n",
              "      box-shadow: 0px 1px 2px rgba(60, 64, 67, 0.3), 0px 1px 3px 1px rgba(60, 64, 67, 0.15);\n",
              "      fill: #174EA6;\n",
              "    }\n",
              "\n",
              "    [theme=dark] .colab-df-convert {\n",
              "      background-color: #3B4455;\n",
              "      fill: #D2E3FC;\n",
              "    }\n",
              "\n",
              "    [theme=dark] .colab-df-convert:hover {\n",
              "      background-color: #434B5C;\n",
              "      box-shadow: 0px 1px 3px 1px rgba(0, 0, 0, 0.15);\n",
              "      filter: drop-shadow(0px 1px 2px rgba(0, 0, 0, 0.3));\n",
              "      fill: #FFFFFF;\n",
              "    }\n",
              "  </style>\n",
              "\n",
              "      <script>\n",
              "        const buttonEl =\n",
              "          document.querySelector('#df-572f7986-17e1-4ed3-ae84-ad20d8eb5a75 button.colab-df-convert');\n",
              "        buttonEl.style.display =\n",
              "          google.colab.kernel.accessAllowed ? 'block' : 'none';\n",
              "\n",
              "        async function convertToInteractive(key) {\n",
              "          const element = document.querySelector('#df-572f7986-17e1-4ed3-ae84-ad20d8eb5a75');\n",
              "          const dataTable =\n",
              "            await google.colab.kernel.invokeFunction('convertToInteractive',\n",
              "                                                     [key], {});\n",
              "          if (!dataTable) return;\n",
              "\n",
              "          const docLinkHtml = 'Like what you see? Visit the ' +\n",
              "            '<a target=\"_blank\" href=https://colab.research.google.com/notebooks/data_table.ipynb>data table notebook</a>'\n",
              "            + ' to learn more about interactive tables.';\n",
              "          element.innerHTML = '';\n",
              "          dataTable['output_type'] = 'display_data';\n",
              "          await google.colab.output.renderOutput(dataTable, element);\n",
              "          const docLink = document.createElement('div');\n",
              "          docLink.innerHTML = docLinkHtml;\n",
              "          element.appendChild(docLink);\n",
              "        }\n",
              "      </script>\n",
              "    </div>\n",
              "  </div>\n",
              "  "
            ],
            "text/plain": [
              "        word POS\n",
              "0        สลด  VV\n",
              "1        ผัว  NN\n",
              "2       เมีย  NN\n",
              "3       เฒ่า  NN\n",
              "4        ถูก  AX\n",
              "...      ...  ..\n",
              "246475    ขอ  VV\n",
              "246476   ไว้  AV\n",
              "246477  ดูแล  VV\n",
              "246478   เอง  AV\n",
              "246479     _  PU\n",
              "\n",
              "[246480 rows x 2 columns]"
            ]
          },
          "metadata": {},
          "execution_count": 43
        }
      ],
      "source": [
        "All_data1"
      ]
    },
    {
      "cell_type": "code",
      "source": [
        "del dir_list1, word1,pos1\n",
        "gc.collect()"
      ],
      "metadata": {
        "colab": {
          "base_uri": "https://localhost:8080/"
        },
        "id": "Epc4g2S4vPPe",
        "outputId": "7871af6d-d22d-4579-ea3d-7cbe471e75b0"
      },
      "execution_count": null,
      "outputs": [
        {
          "output_type": "execute_result",
          "data": {
            "text/plain": [
              "0"
            ]
          },
          "metadata": {},
          "execution_count": 42
        }
      ]
    },
    {
      "cell_type": "code",
      "execution_count": null,
      "metadata": {
        "id": "S489HWhdidTe"
      },
      "outputs": [],
      "source": [
        "m=len(All_data1)//256"
      ]
    },
    {
      "cell_type": "code",
      "execution_count": null,
      "metadata": {
        "colab": {
          "base_uri": "https://localhost:8080/"
        },
        "id": "kzYwNhxxdbPE",
        "outputId": "60a11429-2bf6-4e92-8635-338249f37ce3"
      },
      "outputs": [
        {
          "output_type": "stream",
          "name": "stderr",
          "text": [
            "100%|██████████| 963/963 [01:58<00:00,  8.11it/s]\n"
          ]
        }
      ],
      "source": [
        "emb_list1=[]\n",
        "for i in tqdm(range(m+1)):\n",
        "  if i==m:\n",
        "    embeddings = model_emb.encode(list(All_data1.iloc[256*i:len(All_data1[\"word\"]),0]))\n",
        "  else:\n",
        "    embeddings = model_emb.encode(list(All_data1.iloc[256*i:(256*(i+1)),0]))\n",
        "  emb_list1=emb_list1+list(embeddings)"
      ]
    },
    {
      "cell_type": "code",
      "source": [
        "len(emb_list1)"
      ],
      "metadata": {
        "colab": {
          "base_uri": "https://localhost:8080/"
        },
        "id": "80-jhSYO5CCw",
        "outputId": "6ff73008-833e-4559-b8b1-9c12df71e40c"
      },
      "execution_count": null,
      "outputs": [
        {
          "output_type": "execute_result",
          "data": {
            "text/plain": [
              "246480"
            ]
          },
          "metadata": {},
          "execution_count": 75
        }
      ]
    },
    {
      "cell_type": "code",
      "execution_count": null,
      "metadata": {
        "id": "X5hHlQNdeUKy"
      },
      "outputs": [],
      "source": [
        "relabel1=[]\n",
        "for i in All_data1['POS']:\n",
        "  relabel1.append(converlabel(Pos_unique,i))"
      ]
    },
    {
      "cell_type": "code",
      "source": [
        "len(relabel1)"
      ],
      "metadata": {
        "colab": {
          "base_uri": "https://localhost:8080/"
        },
        "id": "Su8L-MRZ49eQ",
        "outputId": "9b3a1b8c-1385-46d2-f127-2456ad2c065c"
      },
      "execution_count": null,
      "outputs": [
        {
          "output_type": "execute_result",
          "data": {
            "text/plain": [
              "246480"
            ]
          },
          "metadata": {},
          "execution_count": 69
        }
      ]
    },
    {
      "cell_type": "code",
      "source": [
        "del embeddings\n",
        "gc.collect()"
      ],
      "metadata": {
        "colab": {
          "base_uri": "https://localhost:8080/"
        },
        "id": "ypA3LD_3ve2O",
        "outputId": "baecf1bd-f240-47b0-ce28-85ba0f4e44df"
      },
      "execution_count": null,
      "outputs": [
        {
          "output_type": "execute_result",
          "data": {
            "text/plain": [
              "576"
            ]
          },
          "metadata": {},
          "execution_count": 46
        }
      ]
    },
    {
      "cell_type": "code",
      "source": [
        "new_emb_list1 = []\n",
        "for i in tqdm(range(0,len(emb_list1),16)):\n",
        "  if len(emb_list1)-i<16:\n",
        "    temp = emb_list1[i:len(emb_list1)]\n",
        "    temp0 = [0]*768\n",
        "    for j in range(16-(len(emb_list1)-i)):\n",
        "      temp.append(temp0)\n",
        "    new_emb_list1.append(temp)\n",
        "  else:\n",
        "    new_emb_list1.append(emb_list1[i:i+16])"
      ],
      "metadata": {
        "colab": {
          "base_uri": "https://localhost:8080/"
        },
        "id": "95hxUGpQr7oI",
        "outputId": "f0bf7095-d764-4ed0-f443-7d6894854688"
      },
      "execution_count": null,
      "outputs": [
        {
          "output_type": "stream",
          "name": "stderr",
          "text": [
            "100%|██████████| 15405/15405 [00:00<00:00, 626528.46it/s]\n"
          ]
        }
      ]
    },
    {
      "cell_type": "code",
      "execution_count": null,
      "metadata": {
        "id": "oM4YfqNgkIuo"
      },
      "outputs": [],
      "source": [
        "#del temp,temp0,embeddings,emb_list1\n",
        "#gc.collect()\n",
        "new_emb_list1 = np.asarray(new_emb_list1,dtype='float32')"
      ]
    },
    {
      "cell_type": "code",
      "source": [
        "new_emb_list1.shape"
      ],
      "metadata": {
        "colab": {
          "base_uri": "https://localhost:8080/"
        },
        "id": "fCXMYpNx3AMQ",
        "outputId": "1918d212-df75-4cef-bfb6-39896ee630af"
      },
      "execution_count": null,
      "outputs": [
        {
          "output_type": "execute_result",
          "data": {
            "text/plain": [
              "(15405, 16, 768)"
            ]
          },
          "metadata": {},
          "execution_count": 49
        }
      ]
    },
    {
      "cell_type": "code",
      "execution_count": null,
      "metadata": {
        "colab": {
          "base_uri": "https://localhost:8080/"
        },
        "id": "vsJ7HfaQdujR",
        "outputId": "0555b91a-7e3d-4f78-fa42-12da0fa89a25"
      },
      "outputs": [
        {
          "output_type": "stream",
          "name": "stderr",
          "text": [
            "100%|██████████| 15405/15405 [00:00<00:00, 425720.17it/s]\n"
          ]
        }
      ],
      "source": [
        "Y_val = []\n",
        "for i in tqdm(range(0,len(relabel1),16)):\n",
        "  if len(emb_list1)-i<16:\n",
        "    temp = relabel1[i:len(relabel1)]\n",
        "    temp0=0\n",
        "    for j in range(16-(len(relabel1)-i)):\n",
        "      temp.append(temp0)\n",
        "    Y_val.append(temp)\n",
        "  else:\n",
        "    Y_val.append(relabel1[i:i+16])"
      ]
    },
    {
      "cell_type": "code",
      "source": [
        "Y_val=np.asarray(Y_val,dtype='float32')"
      ],
      "metadata": {
        "id": "vERcVL0kOHup"
      },
      "execution_count": null,
      "outputs": []
    },
    {
      "cell_type": "code",
      "source": [
        "Y_val.shape"
      ],
      "metadata": {
        "colab": {
          "base_uri": "https://localhost:8080/"
        },
        "id": "PtSUlezH3h0G",
        "outputId": "a30311de-b1d5-4f16-8b9a-98a51171ad5c"
      },
      "execution_count": null,
      "outputs": [
        {
          "output_type": "execute_result",
          "data": {
            "text/plain": [
              "(15405, 16)"
            ]
          },
          "metadata": {},
          "execution_count": 52
        }
      ]
    },
    {
      "cell_type": "code",
      "source": [
        "gc.collect()"
      ],
      "metadata": {
        "colab": {
          "base_uri": "https://localhost:8080/",
          "height": 182
        },
        "id": "tPBdu7t0wdjB",
        "outputId": "0098cc73-6872-42d2-8fe5-e7e20cb3788c"
      },
      "execution_count": null,
      "outputs": [
        {
          "output_type": "error",
          "ename": "NameError",
          "evalue": "ignored",
          "traceback": [
            "\u001b[0;31m---------------------------------------------------------------------------\u001b[0m",
            "\u001b[0;31mNameError\u001b[0m                                 Traceback (most recent call last)",
            "\u001b[0;32m<ipython-input-53-976ed82a8ff7>\u001b[0m in \u001b[0;36m<module>\u001b[0;34m()\u001b[0m\n\u001b[0;32m----> 1\u001b[0;31m \u001b[0;32mdel\u001b[0m \u001b[0mtemp\u001b[0m\u001b[0;34m,\u001b[0m\u001b[0mtemp0\u001b[0m\u001b[0;34m\u001b[0m\u001b[0;34m\u001b[0m\u001b[0m\n\u001b[0m\u001b[1;32m      2\u001b[0m \u001b[0mgc\u001b[0m\u001b[0;34m.\u001b[0m\u001b[0mcollect\u001b[0m\u001b[0;34m(\u001b[0m\u001b[0;34m)\u001b[0m\u001b[0;34m\u001b[0m\u001b[0;34m\u001b[0m\u001b[0m\n",
            "\u001b[0;31mNameError\u001b[0m: name 'temp' is not defined"
          ]
        }
      ]
    },
    {
      "cell_type": "code",
      "execution_count": null,
      "metadata": {
        "id": "SueM-8Z45QlM"
      },
      "outputs": [],
      "source": [
        "from keras import backend as K\n",
        "\n",
        "def dice_coef(y_true, y_pred, smooth=1):\n",
        "    \"\"\"\n",
        "    Dice = (2*|X & Y|)/ (|X|+ |Y|)\n",
        "         =  2*sum(|A*B|)/(sum(A^2)+sum(B^2))\n",
        "    ref: https://arxiv.org/pdf/1606.04797v1.pdf\n",
        "    \"\"\"\n",
        "    intersection = K.sum(K.abs(y_true * y_pred), axis=-1)\n",
        "    return (2. * intersection + smooth) / (K.sum(K.square(y_true),-1) + K.sum(K.square(y_pred),-1) + smooth)\n",
        "\n",
        "def dice_coef_loss(y_true, y_pred):\n",
        "    return 1-dice_coef(y_true, y_pred)"
      ]
    },
    {
      "cell_type": "code",
      "source": [
        "import keras.backend as K\n",
        "\n",
        "def f1_metric(y_true, y_pred):\n",
        "    true_positives = K.sum(K.round(K.clip(y_true * y_pred, 0, 1)))\n",
        "    possible_positives = K.sum(K.round(K.clip(y_true, 0, 1)))\n",
        "    predicted_positives = K.sum(K.round(K.clip(y_pred, 0, 1)))\n",
        "    precision = true_positives / (predicted_positives + K.epsilon())\n",
        "    recall = true_positives / (possible_positives + K.epsilon())\n",
        "    f1_val = 2*(precision*recall)/(precision+recall+K.epsilon())\n",
        "    return f1_val"
      ],
      "metadata": {
        "id": "DMvx9s8wQre3"
      },
      "execution_count": null,
      "outputs": []
    },
    {
      "cell_type": "code",
      "execution_count": null,
      "metadata": {
        "colab": {
          "base_uri": "https://localhost:8080/"
        },
        "id": "V0iNunl6vzrY",
        "outputId": "80dc28b0-1615-44a2-d424-f04bf89735fc"
      },
      "outputs": [
        {
          "output_type": "stream",
          "name": "stderr",
          "text": [
            "/usr/local/lib/python3.7/dist-packages/keras/optimizer_v2/adam.py:105: UserWarning: The `lr` argument is deprecated, use `learning_rate` instead.\n",
            "  super(Adam, self).__init__(name, **kwargs)\n"
          ]
        }
      ],
      "source": [
        "checkpoint=tf.keras.callbacks.ModelCheckpoint(filepath='/content/drive/MyDrive/NLP_POS/best_model2.h5')\n",
        "\n",
        "adam = tf.keras.optimizers.Adam(lr=0.0005)\n",
        "model.compile(optimizer=adam, loss=dice_coef_loss, metrics=[\"accuracy\"])"
      ]
    },
    {
      "cell_type": "code",
      "execution_count": null,
      "metadata": {
        "id": "ouMU-xgkrqx2",
        "colab": {
          "base_uri": "https://localhost:8080/"
        },
        "outputId": "cd59ce34-d464-4702-c072-f6975d79738b"
      },
      "outputs": [
        {
          "output_type": "stream",
          "name": "stdout",
          "text": [
            "Epoch 1/3\n",
            "5426/5426 [==============================] - 683s 123ms/step - decode_sequence_accuracy: 0.7490 - loss: 11.1309 - val_decode_sequence_accuracy: 0.9325 - val_loss: 5.9282\n",
            "Epoch 2/3\n",
            "5426/5426 [==============================] - 652s 120ms/step - decode_sequence_accuracy: 0.9313 - loss: 3.3301 - val_decode_sequence_accuracy: 0.9491 - val_loss: 4.6642\n",
            "Epoch 3/3\n",
            " 592/5426 [==>...........................] - ETA: 9:32 - decode_sequence_accuracy: 0.9441 - loss: 2.7442"
          ]
        }
      ],
      "source": [
        "model.fit(new_emb_list, Y_train, epochs = 5, batch_size = 32, shuffle=True,validation_data=(new_emb_list1,Y_val) ) "
      ]
    },
    {
      "cell_type": "code",
      "execution_count": null,
      "metadata": {
        "id": "vinhoPtk72M2"
      },
      "outputs": [],
      "source": [
        "model.save('/content/drive/MyDrive/POSTAG/model1.h5')"
      ]
    },
    {
      "cell_type": "code",
      "execution_count": null,
      "metadata": {
        "id": "IKwgDh0QjXyJ"
      },
      "outputs": [],
      "source": [
        "?;'path2 = \"/content/super-ai-engineer-2021-nlp-pos-tagging/train/LST20 (Main Resource)/LST20_Corpus/LST20_Corpus/test/\""
      ]
    },
    {
      "cell_type": "code",
      "execution_count": null,
      "metadata": {
        "id": "JSsHjOMdjeEa"
      },
      "outputs": [],
      "source": [
        "dir_list2 = os.listdir(path2)\n",
        "dir_list2.sort()\n",
        "dir_list2=dir_list2[1:]"
      ]
    },
    {
      "cell_type": "code",
      "execution_count": null,
      "metadata": {
        "id": "qi5tpTBkpz1w"
      },
      "outputs": [],
      "source": [
        "All_data2=pd.DataFrame()\n",
        "for file in dir_list2:\n",
        "  data = pd.DataFrame(pd.read_csv(path2+file,sep='\\t',header=None,names=['word','POS','NER','boundary'], quotechar=' '))\n",
        "  All_data2=All_data2.append(data, ignore_index=True)"
      ]
    },
    {
      "cell_type": "code",
      "execution_count": null,
      "metadata": {
        "colab": {
          "base_uri": "https://localhost:8080/",
          "height": 423
        },
        "id": "qurkmI_fjmdQ",
        "outputId": "c077f024-fc42-4cf7-8455-547e5b43e4ee"
      },
      "outputs": [
        {
          "data": {
            "text/html": [
              "\n",
              "  <div id=\"df-1d06282c-a575-4f8d-8947-19c79f5e060a\">\n",
              "    <div class=\"colab-df-container\">\n",
              "      <div>\n",
              "<style scoped>\n",
              "    .dataframe tbody tr th:only-of-type {\n",
              "        vertical-align: middle;\n",
              "    }\n",
              "\n",
              "    .dataframe tbody tr th {\n",
              "        vertical-align: top;\n",
              "    }\n",
              "\n",
              "    .dataframe thead th {\n",
              "        text-align: right;\n",
              "    }\n",
              "</style>\n",
              "<table border=\"1\" class=\"dataframe\">\n",
              "  <thead>\n",
              "    <tr style=\"text-align: right;\">\n",
              "      <th></th>\n",
              "      <th>word</th>\n",
              "      <th>POS</th>\n",
              "      <th>NER</th>\n",
              "      <th>boundary</th>\n",
              "    </tr>\n",
              "  </thead>\n",
              "  <tbody>\n",
              "    <tr>\n",
              "      <th>0</th>\n",
              "      <td>จีน</td>\n",
              "      <td>NN</td>\n",
              "      <td>B_LOC</td>\n",
              "      <td>B_CLS</td>\n",
              "    </tr>\n",
              "    <tr>\n",
              "      <th>1</th>\n",
              "      <td>-</td>\n",
              "      <td>PU</td>\n",
              "      <td>O</td>\n",
              "      <td>I_CLS</td>\n",
              "    </tr>\n",
              "    <tr>\n",
              "      <th>2</th>\n",
              "      <td>อินเดีย</td>\n",
              "      <td>NN</td>\n",
              "      <td>B_LOC</td>\n",
              "      <td>I_CLS</td>\n",
              "    </tr>\n",
              "    <tr>\n",
              "      <th>3</th>\n",
              "      <td>เสี่ยง</td>\n",
              "      <td>VV</td>\n",
              "      <td>O</td>\n",
              "      <td>I_CLS</td>\n",
              "    </tr>\n",
              "    <tr>\n",
              "      <th>4</th>\n",
              "      <td>สูญเสีย</td>\n",
              "      <td>VV</td>\n",
              "      <td>O</td>\n",
              "      <td>I_CLS</td>\n",
              "    </tr>\n",
              "    <tr>\n",
              "      <th>...</th>\n",
              "      <td>...</td>\n",
              "      <td>...</td>\n",
              "      <td>...</td>\n",
              "      <td>...</td>\n",
              "    </tr>\n",
              "    <tr>\n",
              "      <th>207273</th>\n",
              "      <td>ครหา</td>\n",
              "      <td>VV</td>\n",
              "      <td>O</td>\n",
              "      <td>I_CLS</td>\n",
              "    </tr>\n",
              "    <tr>\n",
              "      <th>207274</th>\n",
              "      <td>เกี่ยวกับ</td>\n",
              "      <td>VV</td>\n",
              "      <td>O</td>\n",
              "      <td>I_CLS</td>\n",
              "    </tr>\n",
              "    <tr>\n",
              "      <th>207275</th>\n",
              "      <td>ความ</td>\n",
              "      <td>FX</td>\n",
              "      <td>O</td>\n",
              "      <td>I_CLS</td>\n",
              "    </tr>\n",
              "    <tr>\n",
              "      <th>207276</th>\n",
              "      <td>ไม่</td>\n",
              "      <td>NG</td>\n",
              "      <td>O</td>\n",
              "      <td>I_CLS</td>\n",
              "    </tr>\n",
              "    <tr>\n",
              "      <th>207277</th>\n",
              "      <td>ถูกต้อง</td>\n",
              "      <td>VV</td>\n",
              "      <td>O</td>\n",
              "      <td>E_CLS</td>\n",
              "    </tr>\n",
              "  </tbody>\n",
              "</table>\n",
              "<p>207278 rows × 4 columns</p>\n",
              "</div>\n",
              "      <button class=\"colab-df-convert\" onclick=\"convertToInteractive('df-1d06282c-a575-4f8d-8947-19c79f5e060a')\"\n",
              "              title=\"Convert this dataframe to an interactive table.\"\n",
              "              style=\"display:none;\">\n",
              "        \n",
              "  <svg xmlns=\"http://www.w3.org/2000/svg\" height=\"24px\"viewBox=\"0 0 24 24\"\n",
              "       width=\"24px\">\n",
              "    <path d=\"M0 0h24v24H0V0z\" fill=\"none\"/>\n",
              "    <path d=\"M18.56 5.44l.94 2.06.94-2.06 2.06-.94-2.06-.94-.94-2.06-.94 2.06-2.06.94zm-11 1L8.5 8.5l.94-2.06 2.06-.94-2.06-.94L8.5 2.5l-.94 2.06-2.06.94zm10 10l.94 2.06.94-2.06 2.06-.94-2.06-.94-.94-2.06-.94 2.06-2.06.94z\"/><path d=\"M17.41 7.96l-1.37-1.37c-.4-.4-.92-.59-1.43-.59-.52 0-1.04.2-1.43.59L10.3 9.45l-7.72 7.72c-.78.78-.78 2.05 0 2.83L4 21.41c.39.39.9.59 1.41.59.51 0 1.02-.2 1.41-.59l7.78-7.78 2.81-2.81c.8-.78.8-2.07 0-2.86zM5.41 20L4 18.59l7.72-7.72 1.47 1.35L5.41 20z\"/>\n",
              "  </svg>\n",
              "      </button>\n",
              "      \n",
              "  <style>\n",
              "    .colab-df-container {\n",
              "      display:flex;\n",
              "      flex-wrap:wrap;\n",
              "      gap: 12px;\n",
              "    }\n",
              "\n",
              "    .colab-df-convert {\n",
              "      background-color: #E8F0FE;\n",
              "      border: none;\n",
              "      border-radius: 50%;\n",
              "      cursor: pointer;\n",
              "      display: none;\n",
              "      fill: #1967D2;\n",
              "      height: 32px;\n",
              "      padding: 0 0 0 0;\n",
              "      width: 32px;\n",
              "    }\n",
              "\n",
              "    .colab-df-convert:hover {\n",
              "      background-color: #E2EBFA;\n",
              "      box-shadow: 0px 1px 2px rgba(60, 64, 67, 0.3), 0px 1px 3px 1px rgba(60, 64, 67, 0.15);\n",
              "      fill: #174EA6;\n",
              "    }\n",
              "\n",
              "    [theme=dark] .colab-df-convert {\n",
              "      background-color: #3B4455;\n",
              "      fill: #D2E3FC;\n",
              "    }\n",
              "\n",
              "    [theme=dark] .colab-df-convert:hover {\n",
              "      background-color: #434B5C;\n",
              "      box-shadow: 0px 1px 3px 1px rgba(0, 0, 0, 0.15);\n",
              "      filter: drop-shadow(0px 1px 2px rgba(0, 0, 0, 0.3));\n",
              "      fill: #FFFFFF;\n",
              "    }\n",
              "  </style>\n",
              "\n",
              "      <script>\n",
              "        const buttonEl =\n",
              "          document.querySelector('#df-1d06282c-a575-4f8d-8947-19c79f5e060a button.colab-df-convert');\n",
              "        buttonEl.style.display =\n",
              "          google.colab.kernel.accessAllowed ? 'block' : 'none';\n",
              "\n",
              "        async function convertToInteractive(key) {\n",
              "          const element = document.querySelector('#df-1d06282c-a575-4f8d-8947-19c79f5e060a');\n",
              "          const dataTable =\n",
              "            await google.colab.kernel.invokeFunction('convertToInteractive',\n",
              "                                                     [key], {});\n",
              "          if (!dataTable) return;\n",
              "\n",
              "          const docLinkHtml = 'Like what you see? Visit the ' +\n",
              "            '<a target=\"_blank\" href=https://colab.research.google.com/notebooks/data_table.ipynb>data table notebook</a>'\n",
              "            + ' to learn more about interactive tables.';\n",
              "          element.innerHTML = '';\n",
              "          dataTable['output_type'] = 'display_data';\n",
              "          await google.colab.output.renderOutput(dataTable, element);\n",
              "          const docLink = document.createElement('div');\n",
              "          docLink.innerHTML = docLinkHtml;\n",
              "          element.appendChild(docLink);\n",
              "        }\n",
              "      </script>\n",
              "    </div>\n",
              "  </div>\n",
              "  "
            ],
            "text/plain": [
              "             word POS    NER boundary\n",
              "0             จีน  NN  B_LOC    B_CLS\n",
              "1               -  PU      O    I_CLS\n",
              "2         อินเดีย  NN  B_LOC    I_CLS\n",
              "3          เสี่ยง  VV      O    I_CLS\n",
              "4         สูญเสีย  VV      O    I_CLS\n",
              "...           ...  ..    ...      ...\n",
              "207273       ครหา  VV      O    I_CLS\n",
              "207274  เกี่ยวกับ  VV      O    I_CLS\n",
              "207275       ความ  FX      O    I_CLS\n",
              "207276        ไม่  NG      O    I_CLS\n",
              "207277    ถูกต้อง  VV      O    E_CLS\n",
              "\n",
              "[207278 rows x 4 columns]"
            ]
          },
          "execution_count": 45,
          "metadata": {},
          "output_type": "execute_result"
        }
      ],
      "source": [
        "All_data2"
      ]
    },
    {
      "cell_type": "code",
      "execution_count": null,
      "metadata": {
        "colab": {
          "base_uri": "https://localhost:8080/"
        },
        "id": "FVP6E2kTjp5i",
        "outputId": "0abcae9f-a7f2-48c5-ca7a-b36169b199da"
      },
      "outputs": [
        {
          "name": "stderr",
          "output_type": "stream",
          "text": [
            "/usr/local/lib/python3.7/dist-packages/ipykernel_launcher.py:32: DeprecationWarning: Call to deprecated `wv` (Attribute will be removed in 4.0.0, use self instead).\n"
          ]
        }
      ],
      "source": [
        "X_test_indices = sentences_to_indices(All_data2['word'], word2vec, 12)"
      ]
    },
    {
      "cell_type": "code",
      "execution_count": null,
      "metadata": {
        "id": "9F3JIVtqjym4"
      },
      "outputs": [],
      "source": [
        "relabel2=[]\n",
        "for i in All_data2['POS']:\n",
        "  relabel2.append(converlabel(Pos_unique,i))"
      ]
    },
    {
      "cell_type": "code",
      "execution_count": null,
      "metadata": {
        "id": "dTaRtxr9j6Ux"
      },
      "outputs": [],
      "source": [
        "Y_test_oh = convert_to_one_hot(relabel2, 16)"
      ]
    },
    {
      "cell_type": "code",
      "execution_count": null,
      "metadata": {
        "id": "M3Oc3pLprLBY"
      },
      "outputs": [],
      "source": [
        "solution = model.predict(X_test_indices)"
      ]
    },
    {
      "cell_type": "code",
      "execution_count": null,
      "metadata": {
        "id": "ItJQR152rxSg"
      },
      "outputs": [],
      "source": [
        "def inverselabel(Pos_unique,x):\n",
        "  return Pos_unique[x]"
      ]
    },
    {
      "cell_type": "code",
      "execution_count": null,
      "metadata": {
        "id": "cKvIlMsGkA-h"
      },
      "outputs": [],
      "source": [
        "result=[]\n",
        "for i in solution:\n",
        "  result.append(inverselabel(Pos_unique,np.argmax(i)))"
      ]
    },
    {
      "cell_type": "code",
      "execution_count": null,
      "metadata": {
        "id": "aTgYHeASqjSM"
      },
      "outputs": [],
      "source": [
        "All_data2[\"result\"]=result"
      ]
    },
    {
      "cell_type": "code",
      "execution_count": null,
      "metadata": {
        "colab": {
          "base_uri": "https://localhost:8080/",
          "height": 423
        },
        "id": "2H-5S9K6tsu5",
        "outputId": "66603217-7bc2-4aa9-c4ad-9e64a9cf059b"
      },
      "outputs": [
        {
          "data": {
            "text/html": [
              "\n",
              "  <div id=\"df-d8d69011-bc48-41f3-a103-b67f761a1fe3\">\n",
              "    <div class=\"colab-df-container\">\n",
              "      <div>\n",
              "<style scoped>\n",
              "    .dataframe tbody tr th:only-of-type {\n",
              "        vertical-align: middle;\n",
              "    }\n",
              "\n",
              "    .dataframe tbody tr th {\n",
              "        vertical-align: top;\n",
              "    }\n",
              "\n",
              "    .dataframe thead th {\n",
              "        text-align: right;\n",
              "    }\n",
              "</style>\n",
              "<table border=\"1\" class=\"dataframe\">\n",
              "  <thead>\n",
              "    <tr style=\"text-align: right;\">\n",
              "      <th></th>\n",
              "      <th>word</th>\n",
              "      <th>POS</th>\n",
              "      <th>NER</th>\n",
              "      <th>boundary</th>\n",
              "      <th>result</th>\n",
              "    </tr>\n",
              "  </thead>\n",
              "  <tbody>\n",
              "    <tr>\n",
              "      <th>0</th>\n",
              "      <td>จีน</td>\n",
              "      <td>NN</td>\n",
              "      <td>B_LOC</td>\n",
              "      <td>B_CLS</td>\n",
              "      <td>NN</td>\n",
              "    </tr>\n",
              "    <tr>\n",
              "      <th>1</th>\n",
              "      <td>-</td>\n",
              "      <td>PU</td>\n",
              "      <td>O</td>\n",
              "      <td>I_CLS</td>\n",
              "      <td>PU</td>\n",
              "    </tr>\n",
              "    <tr>\n",
              "      <th>2</th>\n",
              "      <td>อินเดีย</td>\n",
              "      <td>NN</td>\n",
              "      <td>B_LOC</td>\n",
              "      <td>I_CLS</td>\n",
              "      <td>NN</td>\n",
              "    </tr>\n",
              "    <tr>\n",
              "      <th>3</th>\n",
              "      <td>เสี่ยง</td>\n",
              "      <td>VV</td>\n",
              "      <td>O</td>\n",
              "      <td>I_CLS</td>\n",
              "      <td>VV</td>\n",
              "    </tr>\n",
              "    <tr>\n",
              "      <th>4</th>\n",
              "      <td>สูญเสีย</td>\n",
              "      <td>VV</td>\n",
              "      <td>O</td>\n",
              "      <td>I_CLS</td>\n",
              "      <td>VV</td>\n",
              "    </tr>\n",
              "    <tr>\n",
              "      <th>...</th>\n",
              "      <td>...</td>\n",
              "      <td>...</td>\n",
              "      <td>...</td>\n",
              "      <td>...</td>\n",
              "      <td>...</td>\n",
              "    </tr>\n",
              "    <tr>\n",
              "      <th>207273</th>\n",
              "      <td>ครหา</td>\n",
              "      <td>VV</td>\n",
              "      <td>O</td>\n",
              "      <td>I_CLS</td>\n",
              "      <td>VV</td>\n",
              "    </tr>\n",
              "    <tr>\n",
              "      <th>207274</th>\n",
              "      <td>เกี่ยวกับ</td>\n",
              "      <td>VV</td>\n",
              "      <td>O</td>\n",
              "      <td>I_CLS</td>\n",
              "      <td>VV</td>\n",
              "    </tr>\n",
              "    <tr>\n",
              "      <th>207275</th>\n",
              "      <td>ความ</td>\n",
              "      <td>FX</td>\n",
              "      <td>O</td>\n",
              "      <td>I_CLS</td>\n",
              "      <td>FX</td>\n",
              "    </tr>\n",
              "    <tr>\n",
              "      <th>207276</th>\n",
              "      <td>ไม่</td>\n",
              "      <td>NG</td>\n",
              "      <td>O</td>\n",
              "      <td>I_CLS</td>\n",
              "      <td>NG</td>\n",
              "    </tr>\n",
              "    <tr>\n",
              "      <th>207277</th>\n",
              "      <td>ถูกต้อง</td>\n",
              "      <td>VV</td>\n",
              "      <td>O</td>\n",
              "      <td>E_CLS</td>\n",
              "      <td>VV</td>\n",
              "    </tr>\n",
              "  </tbody>\n",
              "</table>\n",
              "<p>207278 rows × 5 columns</p>\n",
              "</div>\n",
              "      <button class=\"colab-df-convert\" onclick=\"convertToInteractive('df-d8d69011-bc48-41f3-a103-b67f761a1fe3')\"\n",
              "              title=\"Convert this dataframe to an interactive table.\"\n",
              "              style=\"display:none;\">\n",
              "        \n",
              "  <svg xmlns=\"http://www.w3.org/2000/svg\" height=\"24px\"viewBox=\"0 0 24 24\"\n",
              "       width=\"24px\">\n",
              "    <path d=\"M0 0h24v24H0V0z\" fill=\"none\"/>\n",
              "    <path d=\"M18.56 5.44l.94 2.06.94-2.06 2.06-.94-2.06-.94-.94-2.06-.94 2.06-2.06.94zm-11 1L8.5 8.5l.94-2.06 2.06-.94-2.06-.94L8.5 2.5l-.94 2.06-2.06.94zm10 10l.94 2.06.94-2.06 2.06-.94-2.06-.94-.94-2.06-.94 2.06-2.06.94z\"/><path d=\"M17.41 7.96l-1.37-1.37c-.4-.4-.92-.59-1.43-.59-.52 0-1.04.2-1.43.59L10.3 9.45l-7.72 7.72c-.78.78-.78 2.05 0 2.83L4 21.41c.39.39.9.59 1.41.59.51 0 1.02-.2 1.41-.59l7.78-7.78 2.81-2.81c.8-.78.8-2.07 0-2.86zM5.41 20L4 18.59l7.72-7.72 1.47 1.35L5.41 20z\"/>\n",
              "  </svg>\n",
              "      </button>\n",
              "      \n",
              "  <style>\n",
              "    .colab-df-container {\n",
              "      display:flex;\n",
              "      flex-wrap:wrap;\n",
              "      gap: 12px;\n",
              "    }\n",
              "\n",
              "    .colab-df-convert {\n",
              "      background-color: #E8F0FE;\n",
              "      border: none;\n",
              "      border-radius: 50%;\n",
              "      cursor: pointer;\n",
              "      display: none;\n",
              "      fill: #1967D2;\n",
              "      height: 32px;\n",
              "      padding: 0 0 0 0;\n",
              "      width: 32px;\n",
              "    }\n",
              "\n",
              "    .colab-df-convert:hover {\n",
              "      background-color: #E2EBFA;\n",
              "      box-shadow: 0px 1px 2px rgba(60, 64, 67, 0.3), 0px 1px 3px 1px rgba(60, 64, 67, 0.15);\n",
              "      fill: #174EA6;\n",
              "    }\n",
              "\n",
              "    [theme=dark] .colab-df-convert {\n",
              "      background-color: #3B4455;\n",
              "      fill: #D2E3FC;\n",
              "    }\n",
              "\n",
              "    [theme=dark] .colab-df-convert:hover {\n",
              "      background-color: #434B5C;\n",
              "      box-shadow: 0px 1px 3px 1px rgba(0, 0, 0, 0.15);\n",
              "      filter: drop-shadow(0px 1px 2px rgba(0, 0, 0, 0.3));\n",
              "      fill: #FFFFFF;\n",
              "    }\n",
              "  </style>\n",
              "\n",
              "      <script>\n",
              "        const buttonEl =\n",
              "          document.querySelector('#df-d8d69011-bc48-41f3-a103-b67f761a1fe3 button.colab-df-convert');\n",
              "        buttonEl.style.display =\n",
              "          google.colab.kernel.accessAllowed ? 'block' : 'none';\n",
              "\n",
              "        async function convertToInteractive(key) {\n",
              "          const element = document.querySelector('#df-d8d69011-bc48-41f3-a103-b67f761a1fe3');\n",
              "          const dataTable =\n",
              "            await google.colab.kernel.invokeFunction('convertToInteractive',\n",
              "                                                     [key], {});\n",
              "          if (!dataTable) return;\n",
              "\n",
              "          const docLinkHtml = 'Like what you see? Visit the ' +\n",
              "            '<a target=\"_blank\" href=https://colab.research.google.com/notebooks/data_table.ipynb>data table notebook</a>'\n",
              "            + ' to learn more about interactive tables.';\n",
              "          element.innerHTML = '';\n",
              "          dataTable['output_type'] = 'display_data';\n",
              "          await google.colab.output.renderOutput(dataTable, element);\n",
              "          const docLink = document.createElement('div');\n",
              "          docLink.innerHTML = docLinkHtml;\n",
              "          element.appendChild(docLink);\n",
              "        }\n",
              "      </script>\n",
              "    </div>\n",
              "  </div>\n",
              "  "
            ],
            "text/plain": [
              "             word POS    NER boundary result\n",
              "0             จีน  NN  B_LOC    B_CLS     NN\n",
              "1               -  PU      O    I_CLS     PU\n",
              "2         อินเดีย  NN  B_LOC    I_CLS     NN\n",
              "3          เสี่ยง  VV      O    I_CLS     VV\n",
              "4         สูญเสีย  VV      O    I_CLS     VV\n",
              "...           ...  ..    ...      ...    ...\n",
              "207273       ครหา  VV      O    I_CLS     VV\n",
              "207274  เกี่ยวกับ  VV      O    I_CLS     VV\n",
              "207275       ความ  FX      O    I_CLS     FX\n",
              "207276        ไม่  NG      O    I_CLS     NG\n",
              "207277    ถูกต้อง  VV      O    E_CLS     VV\n",
              "\n",
              "[207278 rows x 5 columns]"
            ]
          },
          "execution_count": 53,
          "metadata": {},
          "output_type": "execute_result"
        }
      ],
      "source": [
        "All_data2"
      ]
    },
    {
      "cell_type": "code",
      "execution_count": null,
      "metadata": {
        "id": "mWjPuu_bLhgZ"
      },
      "outputs": [],
      "source": [
        "path3 = \"/content/drive/MyDrive/NLP_POS/\""
      ]
    },
    {
      "cell_type": "code",
      "execution_count": null,
      "metadata": {
        "colab": {
          "base_uri": "https://localhost:8080/"
        },
        "id": "tbUGCvazLqGy",
        "outputId": "d68686de-64be-488f-f9c9-e3f7f005fb90"
      },
      "outputs": [
        {
          "output_type": "stream",
          "name": "stdout",
          "text": [
            "unzip:  cannot find or open /content/drive/MyDrive/NLP_POS/pos_test.txt.zip, /content/drive/MyDrive/NLP_POS/pos_test.txt.zip.zip or /content/drive/MyDrive/NLP_POS/pos_test.txt.zip.ZIP.\n"
          ]
        }
      ],
      "source": [
        "!unzip \"/content/drive/MyDrive/NLP_POS/pos_test.txt.zip\""
      ]
    },
    {
      "cell_type": "code",
      "execution_count": null,
      "metadata": {
        "id": "mvuk8GnEOsrx"
      },
      "outputs": [],
      "source": [
        "file1 = open('/content/super-ai-engineer-2021-nlp-pos-tagging/pos_test.txt', 'r')\n",
        "Lines = file1.readlines()"
      ]
    },
    {
      "cell_type": "code",
      "execution_count": null,
      "metadata": {
        "id": "k2y-YYwROxVx"
      },
      "outputs": [],
      "source": [
        "data_t=[]\n",
        "for line in Lines:\n",
        "  data_t.append(line)"
      ]
    },
    {
      "cell_type": "code",
      "execution_count": null,
      "metadata": {
        "id": "3-ky_h6WO_hA"
      },
      "outputs": [],
      "source": [
        "dat=[]\n",
        "for i in data_t:\n",
        "  dat.append(i.rstrip(\"\\n\"))"
      ]
    },
    {
      "cell_type": "code",
      "execution_count": null,
      "metadata": {
        "id": "DMQCF9C4PgFQ"
      },
      "outputs": [],
      "source": [
        "Data3=pd.DataFrame(dat)"
      ]
    },
    {
      "cell_type": "code",
      "execution_count": null,
      "metadata": {
        "id": "QW1TWcojVKPR"
      },
      "outputs": [],
      "source": [
        "result3=[]\n",
        "for i,row in Data3.iterrow():\n",
        "  if row[0]==' ':\n",
        "    result3.append(' ')\n",
        "  else : \n",
        "    All_data3['word'], word2vec, 12)\n",
        "    result3.append(X_test1_indices = sentences_to_indices(All_data3['word'], word2vec, 12))"
      ]
    },
    {
      "cell_type": "code",
      "execution_count": null,
      "metadata": {
        "id": "zm7aeI_1OJBZ"
      },
      "outputs": [],
      "source": [
        "All_data4 = pd.DataFrame(pd.read_csv(\"/content/super-ai-engineer-2021-nlp-pos-tagging/pos_sample_submission.csv\",sep='\\t',header=None,names=['word']))"
      ]
    },
    {
      "cell_type": "code",
      "execution_count": null,
      "metadata": {
        "colab": {
          "base_uri": "https://localhost:8080/",
          "height": 423
        },
        "id": "sGtJUNVsN2rq",
        "outputId": "e8e1a40d-4718-475d-f032-92cfde84c7b5"
      },
      "outputs": [
        {
          "output_type": "execute_result",
          "data": {
            "text/html": [
              "\n",
              "  <div id=\"df-12d1d93f-292b-49e8-9263-20d2eb5def92\">\n",
              "    <div class=\"colab-df-container\">\n",
              "      <div>\n",
              "<style scoped>\n",
              "    .dataframe tbody tr th:only-of-type {\n",
              "        vertical-align: middle;\n",
              "    }\n",
              "\n",
              "    .dataframe tbody tr th {\n",
              "        vertical-align: top;\n",
              "    }\n",
              "\n",
              "    .dataframe thead th {\n",
              "        text-align: right;\n",
              "    }\n",
              "</style>\n",
              "<table border=\"1\" class=\"dataframe\">\n",
              "  <thead>\n",
              "    <tr style=\"text-align: right;\">\n",
              "      <th></th>\n",
              "      <th>0</th>\n",
              "    </tr>\n",
              "  </thead>\n",
              "  <tbody>\n",
              "    <tr>\n",
              "      <th>0</th>\n",
              "      <td>อย่างไรก็ตาม</td>\n",
              "    </tr>\n",
              "    <tr>\n",
              "      <th>1</th>\n",
              "      <td>เครื่อง</td>\n",
              "    </tr>\n",
              "    <tr>\n",
              "      <th>2</th>\n",
              "      <td>บิน</td>\n",
              "    </tr>\n",
              "    <tr>\n",
              "      <th>3</th>\n",
              "      <td>แอร์บัส</td>\n",
              "    </tr>\n",
              "    <tr>\n",
              "      <th>4</th>\n",
              "      <td></td>\n",
              "    </tr>\n",
              "    <tr>\n",
              "      <th>...</th>\n",
              "      <td>...</td>\n",
              "    </tr>\n",
              "    <tr>\n",
              "      <th>103909</th>\n",
              "      <td>พร้อม</td>\n",
              "    </tr>\n",
              "    <tr>\n",
              "      <th>103910</th>\n",
              "      <td>รับ</td>\n",
              "    </tr>\n",
              "    <tr>\n",
              "      <th>103911</th>\n",
              "      <td>การ</td>\n",
              "    </tr>\n",
              "    <tr>\n",
              "      <th>103912</th>\n",
              "      <td>โจมตี</td>\n",
              "    </tr>\n",
              "    <tr>\n",
              "      <th>103913</th>\n",
              "      <td></td>\n",
              "    </tr>\n",
              "  </tbody>\n",
              "</table>\n",
              "<p>103914 rows × 1 columns</p>\n",
              "</div>\n",
              "      <button class=\"colab-df-convert\" onclick=\"convertToInteractive('df-12d1d93f-292b-49e8-9263-20d2eb5def92')\"\n",
              "              title=\"Convert this dataframe to an interactive table.\"\n",
              "              style=\"display:none;\">\n",
              "        \n",
              "  <svg xmlns=\"http://www.w3.org/2000/svg\" height=\"24px\"viewBox=\"0 0 24 24\"\n",
              "       width=\"24px\">\n",
              "    <path d=\"M0 0h24v24H0V0z\" fill=\"none\"/>\n",
              "    <path d=\"M18.56 5.44l.94 2.06.94-2.06 2.06-.94-2.06-.94-.94-2.06-.94 2.06-2.06.94zm-11 1L8.5 8.5l.94-2.06 2.06-.94-2.06-.94L8.5 2.5l-.94 2.06-2.06.94zm10 10l.94 2.06.94-2.06 2.06-.94-2.06-.94-.94-2.06-.94 2.06-2.06.94z\"/><path d=\"M17.41 7.96l-1.37-1.37c-.4-.4-.92-.59-1.43-.59-.52 0-1.04.2-1.43.59L10.3 9.45l-7.72 7.72c-.78.78-.78 2.05 0 2.83L4 21.41c.39.39.9.59 1.41.59.51 0 1.02-.2 1.41-.59l7.78-7.78 2.81-2.81c.8-.78.8-2.07 0-2.86zM5.41 20L4 18.59l7.72-7.72 1.47 1.35L5.41 20z\"/>\n",
              "  </svg>\n",
              "      </button>\n",
              "      \n",
              "  <style>\n",
              "    .colab-df-container {\n",
              "      display:flex;\n",
              "      flex-wrap:wrap;\n",
              "      gap: 12px;\n",
              "    }\n",
              "\n",
              "    .colab-df-convert {\n",
              "      background-color: #E8F0FE;\n",
              "      border: none;\n",
              "      border-radius: 50%;\n",
              "      cursor: pointer;\n",
              "      display: none;\n",
              "      fill: #1967D2;\n",
              "      height: 32px;\n",
              "      padding: 0 0 0 0;\n",
              "      width: 32px;\n",
              "    }\n",
              "\n",
              "    .colab-df-convert:hover {\n",
              "      background-color: #E2EBFA;\n",
              "      box-shadow: 0px 1px 2px rgba(60, 64, 67, 0.3), 0px 1px 3px 1px rgba(60, 64, 67, 0.15);\n",
              "      fill: #174EA6;\n",
              "    }\n",
              "\n",
              "    [theme=dark] .colab-df-convert {\n",
              "      background-color: #3B4455;\n",
              "      fill: #D2E3FC;\n",
              "    }\n",
              "\n",
              "    [theme=dark] .colab-df-convert:hover {\n",
              "      background-color: #434B5C;\n",
              "      box-shadow: 0px 1px 3px 1px rgba(0, 0, 0, 0.15);\n",
              "      filter: drop-shadow(0px 1px 2px rgba(0, 0, 0, 0.3));\n",
              "      fill: #FFFFFF;\n",
              "    }\n",
              "  </style>\n",
              "\n",
              "      <script>\n",
              "        const buttonEl =\n",
              "          document.querySelector('#df-12d1d93f-292b-49e8-9263-20d2eb5def92 button.colab-df-convert');\n",
              "        buttonEl.style.display =\n",
              "          google.colab.kernel.accessAllowed ? 'block' : 'none';\n",
              "\n",
              "        async function convertToInteractive(key) {\n",
              "          const element = document.querySelector('#df-12d1d93f-292b-49e8-9263-20d2eb5def92');\n",
              "          const dataTable =\n",
              "            await google.colab.kernel.invokeFunction('convertToInteractive',\n",
              "                                                     [key], {});\n",
              "          if (!dataTable) return;\n",
              "\n",
              "          const docLinkHtml = 'Like what you see? Visit the ' +\n",
              "            '<a target=\"_blank\" href=https://colab.research.google.com/notebooks/data_table.ipynb>data table notebook</a>'\n",
              "            + ' to learn more about interactive tables.';\n",
              "          element.innerHTML = '';\n",
              "          dataTable['output_type'] = 'display_data';\n",
              "          await google.colab.output.renderOutput(dataTable, element);\n",
              "          const docLink = document.createElement('div');\n",
              "          docLink.innerHTML = docLinkHtml;\n",
              "          element.appendChild(docLink);\n",
              "        }\n",
              "      </script>\n",
              "    </div>\n",
              "  </div>\n",
              "  "
            ],
            "text/plain": [
              "                   0\n",
              "0       อย่างไรก็ตาม\n",
              "1            เครื่อง\n",
              "2                บิน\n",
              "3            แอร์บัส\n",
              "4                   \n",
              "...              ...\n",
              "103909         พร้อม\n",
              "103910           รับ\n",
              "103911           การ\n",
              "103912         โจมตี\n",
              "103913              \n",
              "\n",
              "[103914 rows x 1 columns]"
            ]
          },
          "metadata": {},
          "execution_count": 114
        }
      ],
      "source": [
        "Data3"
      ]
    },
    {
      "cell_type": "code",
      "execution_count": null,
      "metadata": {
        "id": "3ZpgVHzTMHvF"
      },
      "outputs": [],
      "source": [
        "Data3 = Data3.replace('','_')"
      ]
    },
    {
      "cell_type": "code",
      "execution_count": null,
      "metadata": {
        "colab": {
          "base_uri": "https://localhost:8080/",
          "height": 423
        },
        "id": "sE1Ir1qxYgIW",
        "outputId": "3ae4d68d-c452-4351-fe34-19d4d810afdb"
      },
      "outputs": [
        {
          "output_type": "execute_result",
          "data": {
            "text/html": [
              "\n",
              "  <div id=\"df-bcffb0e1-88c5-4c58-a712-6f77829ad950\">\n",
              "    <div class=\"colab-df-container\">\n",
              "      <div>\n",
              "<style scoped>\n",
              "    .dataframe tbody tr th:only-of-type {\n",
              "        vertical-align: middle;\n",
              "    }\n",
              "\n",
              "    .dataframe tbody tr th {\n",
              "        vertical-align: top;\n",
              "    }\n",
              "\n",
              "    .dataframe thead th {\n",
              "        text-align: right;\n",
              "    }\n",
              "</style>\n",
              "<table border=\"1\" class=\"dataframe\">\n",
              "  <thead>\n",
              "    <tr style=\"text-align: right;\">\n",
              "      <th></th>\n",
              "      <th>0</th>\n",
              "    </tr>\n",
              "  </thead>\n",
              "  <tbody>\n",
              "    <tr>\n",
              "      <th>0</th>\n",
              "      <td>อย่างไรก็ตาม</td>\n",
              "    </tr>\n",
              "    <tr>\n",
              "      <th>1</th>\n",
              "      <td>เครื่อง</td>\n",
              "    </tr>\n",
              "    <tr>\n",
              "      <th>2</th>\n",
              "      <td>บิน</td>\n",
              "    </tr>\n",
              "    <tr>\n",
              "      <th>3</th>\n",
              "      <td>แอร์บัส</td>\n",
              "    </tr>\n",
              "    <tr>\n",
              "      <th>4</th>\n",
              "      <td>_</td>\n",
              "    </tr>\n",
              "    <tr>\n",
              "      <th>...</th>\n",
              "      <td>...</td>\n",
              "    </tr>\n",
              "    <tr>\n",
              "      <th>103909</th>\n",
              "      <td>พร้อม</td>\n",
              "    </tr>\n",
              "    <tr>\n",
              "      <th>103910</th>\n",
              "      <td>รับ</td>\n",
              "    </tr>\n",
              "    <tr>\n",
              "      <th>103911</th>\n",
              "      <td>การ</td>\n",
              "    </tr>\n",
              "    <tr>\n",
              "      <th>103912</th>\n",
              "      <td>โจมตี</td>\n",
              "    </tr>\n",
              "    <tr>\n",
              "      <th>103913</th>\n",
              "      <td>_</td>\n",
              "    </tr>\n",
              "  </tbody>\n",
              "</table>\n",
              "<p>103914 rows × 1 columns</p>\n",
              "</div>\n",
              "      <button class=\"colab-df-convert\" onclick=\"convertToInteractive('df-bcffb0e1-88c5-4c58-a712-6f77829ad950')\"\n",
              "              title=\"Convert this dataframe to an interactive table.\"\n",
              "              style=\"display:none;\">\n",
              "        \n",
              "  <svg xmlns=\"http://www.w3.org/2000/svg\" height=\"24px\"viewBox=\"0 0 24 24\"\n",
              "       width=\"24px\">\n",
              "    <path d=\"M0 0h24v24H0V0z\" fill=\"none\"/>\n",
              "    <path d=\"M18.56 5.44l.94 2.06.94-2.06 2.06-.94-2.06-.94-.94-2.06-.94 2.06-2.06.94zm-11 1L8.5 8.5l.94-2.06 2.06-.94-2.06-.94L8.5 2.5l-.94 2.06-2.06.94zm10 10l.94 2.06.94-2.06 2.06-.94-2.06-.94-.94-2.06-.94 2.06-2.06.94z\"/><path d=\"M17.41 7.96l-1.37-1.37c-.4-.4-.92-.59-1.43-.59-.52 0-1.04.2-1.43.59L10.3 9.45l-7.72 7.72c-.78.78-.78 2.05 0 2.83L4 21.41c.39.39.9.59 1.41.59.51 0 1.02-.2 1.41-.59l7.78-7.78 2.81-2.81c.8-.78.8-2.07 0-2.86zM5.41 20L4 18.59l7.72-7.72 1.47 1.35L5.41 20z\"/>\n",
              "  </svg>\n",
              "      </button>\n",
              "      \n",
              "  <style>\n",
              "    .colab-df-container {\n",
              "      display:flex;\n",
              "      flex-wrap:wrap;\n",
              "      gap: 12px;\n",
              "    }\n",
              "\n",
              "    .colab-df-convert {\n",
              "      background-color: #E8F0FE;\n",
              "      border: none;\n",
              "      border-radius: 50%;\n",
              "      cursor: pointer;\n",
              "      display: none;\n",
              "      fill: #1967D2;\n",
              "      height: 32px;\n",
              "      padding: 0 0 0 0;\n",
              "      width: 32px;\n",
              "    }\n",
              "\n",
              "    .colab-df-convert:hover {\n",
              "      background-color: #E2EBFA;\n",
              "      box-shadow: 0px 1px 2px rgba(60, 64, 67, 0.3), 0px 1px 3px 1px rgba(60, 64, 67, 0.15);\n",
              "      fill: #174EA6;\n",
              "    }\n",
              "\n",
              "    [theme=dark] .colab-df-convert {\n",
              "      background-color: #3B4455;\n",
              "      fill: #D2E3FC;\n",
              "    }\n",
              "\n",
              "    [theme=dark] .colab-df-convert:hover {\n",
              "      background-color: #434B5C;\n",
              "      box-shadow: 0px 1px 3px 1px rgba(0, 0, 0, 0.15);\n",
              "      filter: drop-shadow(0px 1px 2px rgba(0, 0, 0, 0.3));\n",
              "      fill: #FFFFFF;\n",
              "    }\n",
              "  </style>\n",
              "\n",
              "      <script>\n",
              "        const buttonEl =\n",
              "          document.querySelector('#df-bcffb0e1-88c5-4c58-a712-6f77829ad950 button.colab-df-convert');\n",
              "        buttonEl.style.display =\n",
              "          google.colab.kernel.accessAllowed ? 'block' : 'none';\n",
              "\n",
              "        async function convertToInteractive(key) {\n",
              "          const element = document.querySelector('#df-bcffb0e1-88c5-4c58-a712-6f77829ad950');\n",
              "          const dataTable =\n",
              "            await google.colab.kernel.invokeFunction('convertToInteractive',\n",
              "                                                     [key], {});\n",
              "          if (!dataTable) return;\n",
              "\n",
              "          const docLinkHtml = 'Like what you see? Visit the ' +\n",
              "            '<a target=\"_blank\" href=https://colab.research.google.com/notebooks/data_table.ipynb>data table notebook</a>'\n",
              "            + ' to learn more about interactive tables.';\n",
              "          element.innerHTML = '';\n",
              "          dataTable['output_type'] = 'display_data';\n",
              "          await google.colab.output.renderOutput(dataTable, element);\n",
              "          const docLink = document.createElement('div');\n",
              "          docLink.innerHTML = docLinkHtml;\n",
              "          element.appendChild(docLink);\n",
              "        }\n",
              "      </script>\n",
              "    </div>\n",
              "  </div>\n",
              "  "
            ],
            "text/plain": [
              "                   0\n",
              "0       อย่างไรก็ตาม\n",
              "1            เครื่อง\n",
              "2                บิน\n",
              "3            แอร์บัส\n",
              "4                  _\n",
              "...              ...\n",
              "103909         พร้อม\n",
              "103910           รับ\n",
              "103911           การ\n",
              "103912         โจมตี\n",
              "103913             _\n",
              "\n",
              "[103914 rows x 1 columns]"
            ]
          },
          "metadata": {},
          "execution_count": 116
        }
      ],
      "source": [
        "Data3"
      ]
    },
    {
      "cell_type": "code",
      "source": [
        "m=len(Data3)//256"
      ],
      "metadata": {
        "id": "0QM32jPEBo7_"
      },
      "execution_count": null,
      "outputs": []
    },
    {
      "cell_type": "code",
      "source": [
        "m"
      ],
      "metadata": {
        "colab": {
          "base_uri": "https://localhost:8080/"
        },
        "id": "2f133UmeK9yV",
        "outputId": "61654ee1-0a30-48ae-fdd9-1363cfcb33c3"
      },
      "execution_count": null,
      "outputs": [
        {
          "output_type": "execute_result",
          "data": {
            "text/plain": [
              "405"
            ]
          },
          "metadata": {},
          "execution_count": 186
        }
      ]
    },
    {
      "cell_type": "code",
      "source": [
        "emb_list3=[]\n",
        "for i in tqdm(range(m+1)):\n",
        "  if i==m:\n",
        "    embeddings = model_emb.encode(list(Data3.iloc[256*i:len(Data3),0]))\n",
        "  else:\n",
        "    embeddings = model_emb.encode(list(Data3.iloc[256*i:(256*(i+1)),0]))\n",
        "  emb_list3=emb_list3+list(embeddings)"
      ],
      "metadata": {
        "id": "NERh4-hRBakM"
      },
      "execution_count": null,
      "outputs": []
    },
    {
      "cell_type": "code",
      "source": [
        "len(emb_list3)"
      ],
      "metadata": {
        "colab": {
          "base_uri": "https://localhost:8080/"
        },
        "id": "kKDG05ZGKeXE",
        "outputId": "ab168d99-9f0d-4bb8-e43e-422f4e239c90"
      },
      "execution_count": null,
      "outputs": [
        {
          "output_type": "execute_result",
          "data": {
            "text/plain": [
              "103914"
            ]
          },
          "metadata": {},
          "execution_count": 193
        }
      ]
    },
    {
      "cell_type": "code",
      "source": [
        "len(emb_list3)"
      ],
      "metadata": {
        "colab": {
          "base_uri": "https://localhost:8080/"
        },
        "id": "utU4ICw3Mer2",
        "outputId": "e8c52076-63f7-45b3-d0b4-b82c80394f99"
      },
      "execution_count": null,
      "outputs": [
        {
          "output_type": "execute_result",
          "data": {
            "text/plain": [
              "103680"
            ]
          },
          "metadata": {},
          "execution_count": 180
        }
      ]
    },
    {
      "cell_type": "code",
      "source": [
        "new_emb_list3 = []\n",
        "for i in tqdm(range(0,len(emb_list3),17)):\n",
        "  if i>len(emb_list3)-17:\n",
        "    temp = emb_list3[i:len(emb_list3)]\n",
        "    temp0 = [0]*768\n",
        "    for j in range(17-(len(emb_list3)-i)):\n",
        "      temp.append(temp0)\n",
        "    new_emb_list3.append(temp)\n",
        "  else:\n",
        "    new_emb_list3.append(emb_list3[i:i+17])"
      ],
      "metadata": {
        "colab": {
          "base_uri": "https://localhost:8080/"
        },
        "id": "ss2wxwFoBooY",
        "outputId": "0f7a7156-34ba-4547-aa71-e31a7a7b19e8"
      },
      "execution_count": null,
      "outputs": [
        {
          "output_type": "stream",
          "name": "stderr",
          "text": [
            "100%|██████████| 6113/6113 [00:00<00:00, 451039.31it/s]\n"
          ]
        }
      ]
    },
    {
      "cell_type": "code",
      "execution_count": null,
      "metadata": {
        "id": "3Tf_FS-uMfYi"
      },
      "outputs": [],
      "source": [
        "emb_list3 = np.asarray(new_emb_list3,dtype='float32')"
      ]
    },
    {
      "cell_type": "code",
      "source": [
        "emb_list3.shape"
      ],
      "metadata": {
        "colab": {
          "base_uri": "https://localhost:8080/"
        },
        "id": "mGHSioCXFUrc",
        "outputId": "f60f8210-886c-499c-8a4d-8c682992941c"
      },
      "execution_count": null,
      "outputs": [
        {
          "output_type": "execute_result",
          "data": {
            "text/plain": [
              "(6113, 17, 768)"
            ]
          },
          "metadata": {},
          "execution_count": 197
        }
      ]
    },
    {
      "cell_type": "code",
      "source": [
        ""
      ],
      "metadata": {
        "id": "m__qq_43EepL"
      },
      "execution_count": null,
      "outputs": []
    },
    {
      "cell_type": "code",
      "execution_count": null,
      "metadata": {
        "id": "h5lJRaIbMLsw"
      },
      "outputs": [],
      "source": [
        "solution_t = model.predict(emb_list3)"
      ]
    },
    {
      "cell_type": "code",
      "source": [
        "solution_t[0][-1]"
      ],
      "metadata": {
        "colab": {
          "base_uri": "https://localhost:8080/"
        },
        "id": "ix8Qv4KFE_hn",
        "outputId": "7f360d1b-769d-43c2-a02a-517ba50d608d"
      },
      "execution_count": null,
      "outputs": [
        {
          "output_type": "execute_result",
          "data": {
            "text/plain": [
              "array([1, 7, 2, 1, 0, 1, 9, 2, 5, 2, 6, 2, 7, 0, 0, 0, 0], dtype=int32)"
            ]
          },
          "metadata": {},
          "execution_count": 149
        }
      ]
    },
    {
      "cell_type": "code",
      "source": [
        "solution_arr[-10:]"
      ],
      "metadata": {
        "colab": {
          "base_uri": "https://localhost:8080/"
        },
        "id": "lO_Pr8EgHdtE",
        "outputId": "d13cd511-b039-44a8-9b0e-9fc8409facfe"
      },
      "execution_count": null,
      "outputs": [
        {
          "output_type": "execute_result",
          "data": {
            "text/plain": [
              "[array([ 0.41186005,  0.36670464, -0.06030459, -0.45354006,  0.6354215 ,\n",
              "        -0.03617806, -0.29955524, -1.2511351 , -0.25968236,  0.5162085 ,\n",
              "         0.5842173 , -0.23596732,  1.285335  , -0.49517563,  0.05448327,\n",
              "        -0.06756614, -0.20728898], dtype=float32),\n",
              " array([ 0.10158019,  0.6095236 ,  0.05346845,  0.6387213 , -0.27267587,\n",
              "         0.29860535, -0.09092121, -0.88962716, -0.7456176 ,  0.3075279 ,\n",
              "        -0.29413956, -0.04290921, -0.70123124, -0.136271  , -2.106405  ,\n",
              "        -0.45421684,  0.04054083], dtype=float32),\n",
              " array([-0.25548658,  0.9294393 ,  0.87038183, -0.10876553, -0.48384377,\n",
              "        -1.0232762 , -1.0861198 ,  0.26836985, -0.14353186, -0.19304301,\n",
              "        -0.36569595, -1.2143192 , -1.5639814 ,  0.01073818, -1.1165761 ,\n",
              "        -0.42062694, -0.2373863 ], dtype=float32),\n",
              " array([-5.5172962e-01,  5.7764786e-01, -3.8541418e-01, -9.4105446e-01,\n",
              "         3.3763468e-01, -5.0132623e-04, -6.5321475e-01,  2.7053863e-01,\n",
              "        -1.3531423e-01, -1.0069195e+00, -1.7724401e+00,  4.2048046e-01,\n",
              "        -8.8102740e-01, -1.2515042e+00, -1.8729312e+00, -6.8126217e-02,\n",
              "         8.2360312e-02], dtype=float32),\n",
              " array([ 0.47879937, -0.06766131,  0.56367534, -0.72641706,  0.34342358,\n",
              "        -0.928507  ,  0.29562587, -0.00509953,  0.07734283, -1.049209  ,\n",
              "         0.15173218, -1.2455728 , -1.2516248 , -0.4019915 , -0.19693194,\n",
              "        -1.9232184 ,  0.23479712], dtype=float32),\n",
              " array([ 0.04534703,  0.64345026,  0.20924613,  0.47825533, -0.23396952,\n",
              "        -0.9482297 , -1.006462  ,  0.15181781, -0.49445066, -0.44461498,\n",
              "        -0.34064767, -0.5890294 , -0.977457  , -0.724073  ,  0.10763337,\n",
              "        -2.3894    , -0.36546224], dtype=float32),\n",
              " array([-0.6326854 , -0.80615073,  0.64443016, -0.03465835, -0.919491  ,\n",
              "        -0.93105173, -0.4601894 ,  0.04759517, -1.5038918 , -0.8525906 ,\n",
              "        -0.7208509 , -1.4521561 , -1.0646838 ,  0.77344704, -0.14747687,\n",
              "        -0.99066997,  0.37195054], dtype=float32),\n",
              " array([-1.1407949 , -1.1966203 , -0.24687901, -2.7676313 , -0.6449389 ,\n",
              "        -1.9797986 , -2.177356  , -1.1171675 , -1.0576019 , -1.2386253 ,\n",
              "        -0.72774625, -2.4011211 , -0.86057025, -0.43139282,  0.06692459,\n",
              "        -1.1953034 ,  0.20653686], dtype=float32),\n",
              " array([-0.41555002, -0.34149063, -0.09737667, -0.13346404, -0.9767756 ,\n",
              "        -0.58538914, -0.9716457 , -0.7558216 , -2.4227781 ,  0.08620629,\n",
              "        -2.439154  ,  0.13657206, -0.81749415, -0.23992729, -1.2970227 ,\n",
              "         0.24358915, -0.01521759], dtype=float32),\n",
              " array([-0.27187595, -0.45424235, -0.35890287, -0.13242635,  0.06546388,\n",
              "        -0.04563216, -0.06875052, -0.42818117, -0.37109137, -0.28527224,\n",
              "         0.23653996,  0.12794882, -0.547527  , -0.12562989, -0.14724685,\n",
              "         0.452209  , -0.4136892 ], dtype=float32)]"
            ]
          },
          "metadata": {},
          "execution_count": 147
        }
      ]
    },
    {
      "cell_type": "code",
      "source": [
        "solution_arr = [item for sublist in solution_t[0] for item in sublist]"
      ],
      "metadata": {
        "id": "61wX8QxZF9gw"
      },
      "execution_count": null,
      "outputs": []
    },
    {
      "cell_type": "code",
      "source": [
        "len(solution_arr)"
      ],
      "metadata": {
        "colab": {
          "base_uri": "https://localhost:8080/"
        },
        "id": "nlOLhIfbG1Cj",
        "outputId": "a21adb78-cdb8-4fb5-b1d8-87fabf03fdb6"
      },
      "execution_count": null,
      "outputs": [
        {
          "output_type": "execute_result",
          "data": {
            "text/plain": [
              "103921"
            ]
          },
          "metadata": {},
          "execution_count": 200
        }
      ]
    },
    {
      "cell_type": "code",
      "execution_count": null,
      "metadata": {
        "id": "wH9INHIlMsoQ"
      },
      "outputs": [],
      "source": [
        "result_t=[]\n",
        "for i in solution_arr:\n",
        "  result_t.append(inverselabel(Pos_unique,i))"
      ]
    },
    {
      "cell_type": "code",
      "execution_count": null,
      "metadata": {
        "id": "4LjSw0PjM2Hh"
      },
      "outputs": [],
      "source": [
        "result_t=result_t[0:103914]"
      ]
    },
    {
      "cell_type": "code",
      "execution_count": null,
      "metadata": {
        "id": "V1EBgsHDM3a3"
      },
      "outputs": [],
      "source": [
        "Data3[\"result\"]=result_t"
      ]
    },
    {
      "cell_type": "code",
      "execution_count": null,
      "metadata": {
        "id": "GAFe82xeM_H5"
      },
      "outputs": [],
      "source": [
        "Data3=Data3.drop(103913,axis=0)"
      ]
    },
    {
      "cell_type": "code",
      "execution_count": null,
      "metadata": {
        "id": "7yr7uZeJZT3-"
      },
      "outputs": [],
      "source": [
        "Id = []\n",
        "for i in range(1,len(Data3)+1):\n",
        "  Id.append(i)"
      ]
    },
    {
      "cell_type": "code",
      "execution_count": null,
      "metadata": {
        "colab": {
          "base_uri": "https://localhost:8080/"
        },
        "id": "2TKwvAyyZzvQ",
        "outputId": "1a67c8ce-1105-4b43-ce77-e8be68854ec1"
      },
      "outputs": [
        {
          "output_type": "execute_result",
          "data": {
            "text/plain": [
              "103913"
            ]
          },
          "metadata": {},
          "execution_count": 210
        }
      ],
      "source": [
        "len(Id)"
      ]
    },
    {
      "cell_type": "code",
      "execution_count": null,
      "metadata": {
        "id": "2XnNoHYuNA3N"
      },
      "outputs": [],
      "source": [
        "solution1 = dict()\n",
        "for i in range(len(Id)):\n",
        "  solution1[Id[i]]=Data3[\"result\"][i]"
      ]
    },
    {
      "cell_type": "code",
      "execution_count": null,
      "metadata": {
        "colab": {
          "base_uri": "https://localhost:8080/"
        },
        "id": "NJBOpmtXac8-",
        "outputId": "2c794268-c191-43a8-d1a3-63fdd6739e82"
      },
      "outputs": [
        {
          "output_type": "execute_result",
          "data": {
            "text/plain": [
              "{1: 'CC',\n",
              " 2: 'NN',\n",
              " 3: 'VV',\n",
              " 4: 'NN',\n",
              " 5: 'PU',\n",
              " 6: 'NN',\n",
              " 7: 'PU',\n",
              " 8: 'AX',\n",
              " 9: 'VV',\n",
              " 10: 'CC',\n",
              " 11: 'NN',\n",
              " 12: 'PS',\n",
              " 13: 'NN',\n",
              " 14: 'NN',\n",
              " 15: 'PS',\n",
              " 16: 'NN',\n",
              " 17: 'PU',\n",
              " 18: 'NU',\n",
              " 19: 'PU',\n",
              " 20: 'CL',\n",
              " 21: 'CC',\n",
              " 22: 'VV',\n",
              " 23: 'NN',\n",
              " 24: 'VV',\n",
              " 25: 'AJ',\n",
              " 26: 'NU',\n",
              " 27: 'CL',\n",
              " 28: 'PU',\n",
              " 29: 'NN',\n",
              " 30: 'VV',\n",
              " 31: 'VV',\n",
              " 32: 'NN',\n",
              " 33: 'VV',\n",
              " 34: 'NN',\n",
              " 35: 'VV',\n",
              " 36: 'NN',\n",
              " 37: 'NU',\n",
              " 38: 'NN',\n",
              " 39: 'PU',\n",
              " 40: 'NU',\n",
              " 41: 'PU',\n",
              " 42: 'NN',\n",
              " 43: 'PU',\n",
              " 44: 'NU',\n",
              " 45: 'NU',\n",
              " 46: 'CL',\n",
              " 47: 'PU',\n",
              " 48: 'NN',\n",
              " 49: 'NN',\n",
              " 50: 'VV',\n",
              " 51: 'NN',\n",
              " 52: 'VV',\n",
              " 53: 'NN',\n",
              " 54: 'NN',\n",
              " 55: 'VV',\n",
              " 56: 'VV',\n",
              " 57: 'NN',\n",
              " 58: 'NU',\n",
              " 59: 'NN',\n",
              " 60: 'PS',\n",
              " 61: 'NU',\n",
              " 62: 'CL',\n",
              " 63: 'CL',\n",
              " 64: 'VV',\n",
              " 65: 'NN',\n",
              " 66: 'PS',\n",
              " 67: 'PU',\n",
              " 68: 'NU',\n",
              " 69: 'PS',\n",
              " 70: 'NN',\n",
              " 71: 'VV',\n",
              " 72: 'NN',\n",
              " 73: 'NU',\n",
              " 74: 'CL',\n",
              " 75: 'VV',\n",
              " 76: 'NN',\n",
              " 77: 'NU',\n",
              " 78: 'VV',\n",
              " 79: 'VV',\n",
              " 80: 'CC',\n",
              " 81: 'VV',\n",
              " 82: 'NN',\n",
              " 83: 'CC',\n",
              " 84: 'NN',\n",
              " 85: 'NN',\n",
              " 86: 'AJ',\n",
              " 87: 'PU',\n",
              " 88: 'NN',\n",
              " 89: 'PU',\n",
              " 90: 'VV',\n",
              " 91: 'NN',\n",
              " 92: 'VV',\n",
              " 93: 'VV',\n",
              " 94: 'NN',\n",
              " 95: 'VV',\n",
              " 96: 'VV',\n",
              " 97: 'NN',\n",
              " 98: 'VV',\n",
              " 99: 'NN',\n",
              " 100: 'PU',\n",
              " 101: 'PU',\n",
              " 102: 'NU',\n",
              " 103: 'NN',\n",
              " 104: 'PU',\n",
              " 105: 'NN',\n",
              " 106: 'NN',\n",
              " 107: 'PU',\n",
              " 108: 'NN',\n",
              " 109: 'NN',\n",
              " 110: 'NN',\n",
              " 111: 'VV',\n",
              " 112: 'NN',\n",
              " 113: 'AV',\n",
              " 114: 'VV',\n",
              " 115: 'PS',\n",
              " 116: 'NN',\n",
              " 117: 'NN',\n",
              " 118: 'CC',\n",
              " 119: 'NN',\n",
              " 120: 'NN',\n",
              " 121: 'PS',\n",
              " 122: 'NN',\n",
              " 123: 'NN',\n",
              " 124: 'NN',\n",
              " 125: 'CC',\n",
              " 126: 'PS',\n",
              " 127: 'FX',\n",
              " 128: 'VV',\n",
              " 129: 'NN',\n",
              " 130: 'NN',\n",
              " 131: 'PU',\n",
              " 132: 'AV',\n",
              " 133: 'VV',\n",
              " 134: 'CC',\n",
              " 135: 'NN',\n",
              " 136: 'NN',\n",
              " 137: 'NN',\n",
              " 138: 'CC',\n",
              " 139: 'VV',\n",
              " 140: 'NN',\n",
              " 141: 'NN',\n",
              " 142: 'NN',\n",
              " 143: 'VV',\n",
              " 144: 'NN',\n",
              " 145: 'NN',\n",
              " 146: 'VV',\n",
              " 147: 'NN',\n",
              " 148: 'NN',\n",
              " 149: 'NN',\n",
              " 150: 'PS',\n",
              " 151: 'NN',\n",
              " 152: 'NN',\n",
              " 153: 'NU',\n",
              " 154: 'PS',\n",
              " 155: 'NN',\n",
              " 156: 'PS',\n",
              " 157: 'NN',\n",
              " 158: 'NU',\n",
              " 159: 'PU',\n",
              " 160: 'PS',\n",
              " 161: 'AJ',\n",
              " 162: 'VV',\n",
              " 163: 'NN',\n",
              " 164: 'VV',\n",
              " 165: 'VV',\n",
              " 166: 'NN',\n",
              " 167: 'AJ',\n",
              " 168: 'PS',\n",
              " 169: 'NN',\n",
              " 170: 'NU',\n",
              " 171: 'NN',\n",
              " 172: 'CL',\n",
              " 173: 'PU',\n",
              " 174: 'CC',\n",
              " 175: 'VV',\n",
              " 176: 'VV',\n",
              " 177: 'NN',\n",
              " 178: 'AJ',\n",
              " 179: 'NU',\n",
              " 180: 'PU',\n",
              " 181: 'NU',\n",
              " 182: 'CL',\n",
              " 183: 'VV',\n",
              " 184: 'VV',\n",
              " 185: 'NN',\n",
              " 186: 'NU',\n",
              " 187: 'PS',\n",
              " 188: 'NN',\n",
              " 189: 'NN',\n",
              " 190: 'PS',\n",
              " 191: 'NN',\n",
              " 192: 'NN',\n",
              " 193: 'NN',\n",
              " 194: 'PU',\n",
              " 195: 'CC',\n",
              " 196: 'NN',\n",
              " 197: 'NN',\n",
              " 198: 'FX',\n",
              " 199: 'VV',\n",
              " 200: 'NN',\n",
              " 201: 'AX',\n",
              " 202: 'VV',\n",
              " 203: 'NN',\n",
              " 204: 'CC',\n",
              " 205: 'NN',\n",
              " 206: 'PS',\n",
              " 207: 'NU',\n",
              " 208: 'CL',\n",
              " 209: 'AX',\n",
              " 210: 'AX',\n",
              " 211: 'VV',\n",
              " 212: 'NN',\n",
              " 213: 'NN',\n",
              " 214: 'VV',\n",
              " 215: 'NU',\n",
              " 216: 'CL',\n",
              " 217: 'AJ',\n",
              " 218: 'NU',\n",
              " 219: 'CL',\n",
              " 220: 'NU',\n",
              " 221: 'CC',\n",
              " 222: 'VV',\n",
              " 223: 'NU',\n",
              " 224: 'CL',\n",
              " 225: 'CC',\n",
              " 226: 'AX',\n",
              " 227: 'VV',\n",
              " 228: 'CC',\n",
              " 229: 'VV',\n",
              " 230: 'AV',\n",
              " 231: 'VV',\n",
              " 232: 'NN',\n",
              " 233: 'PS',\n",
              " 234: 'PU',\n",
              " 235: 'NU',\n",
              " 236: 'PS',\n",
              " 237: 'NN',\n",
              " 238: 'PU',\n",
              " 239: 'CC',\n",
              " 240: 'VV',\n",
              " 241: 'VV',\n",
              " 242: 'NN',\n",
              " 243: 'CC',\n",
              " 244: 'FX',\n",
              " 245: 'VV',\n",
              " 246: 'FX',\n",
              " 247: 'AV',\n",
              " 248: 'CC',\n",
              " 249: 'VV',\n",
              " 250: 'AX',\n",
              " 251: 'VV',\n",
              " 252: 'NN',\n",
              " 253: 'VV',\n",
              " 254: 'AV',\n",
              " 255: 'PS',\n",
              " 256: 'CC',\n",
              " 257: 'VV',\n",
              " 258: 'NN',\n",
              " 259: 'NN',\n",
              " 260: 'NN',\n",
              " 261: 'NN',\n",
              " 262: 'CC',\n",
              " 263: 'VV',\n",
              " 264: 'VV',\n",
              " 265: 'PR',\n",
              " 266: 'AV',\n",
              " 267: 'PU',\n",
              " 268: 'PS',\n",
              " 269: 'NN',\n",
              " 270: 'FX',\n",
              " 271: 'VV',\n",
              " 272: 'VV',\n",
              " 273: 'NN',\n",
              " 274: 'NN',\n",
              " 275: 'VV',\n",
              " 276: 'NN',\n",
              " 277: 'NN',\n",
              " 278: 'NN',\n",
              " 279: 'CC',\n",
              " 280: 'VV',\n",
              " 281: 'NN',\n",
              " 282: 'AV',\n",
              " 283: 'FX',\n",
              " 284: 'VV',\n",
              " 285: 'NN',\n",
              " 286: 'NN',\n",
              " 287: 'FX',\n",
              " 288: 'VV',\n",
              " 289: 'VV',\n",
              " 290: 'PS',\n",
              " 291: 'NN',\n",
              " 292: 'PS',\n",
              " 293: 'NN',\n",
              " 294: 'NN',\n",
              " 295: 'NN',\n",
              " 296: 'NN',\n",
              " 297: 'PS',\n",
              " 298: 'NN',\n",
              " 299: 'VV',\n",
              " 300: 'NN',\n",
              " 301: 'VV',\n",
              " 302: 'NN',\n",
              " 303: 'VV',\n",
              " 304: 'NN',\n",
              " 305: 'AJ',\n",
              " 306: 'PU',\n",
              " 307: 'CC',\n",
              " 308: 'NN',\n",
              " 309: 'PS',\n",
              " 310: 'NN',\n",
              " 311: 'VV',\n",
              " 312: 'NN',\n",
              " 313: 'VV',\n",
              " 314: 'CC',\n",
              " 315: 'VV',\n",
              " 316: 'VV',\n",
              " 317: 'NN',\n",
              " 318: 'NN',\n",
              " 319: 'NN',\n",
              " 320: 'PU',\n",
              " 321: 'PS',\n",
              " 322: 'NN',\n",
              " 323: 'VV',\n",
              " 324: 'AX',\n",
              " 325: 'CC',\n",
              " 326: 'VV',\n",
              " 327: 'CC',\n",
              " 328: 'AX',\n",
              " 329: 'VV',\n",
              " 330: 'NN',\n",
              " 331: 'NN',\n",
              " 332: 'VV',\n",
              " 333: 'VV',\n",
              " 334: 'VV',\n",
              " 335: 'CC',\n",
              " 336: 'AX',\n",
              " 337: 'VV',\n",
              " 338: 'NN',\n",
              " 339: 'CC',\n",
              " 340: 'VV',\n",
              " 341: 'NN',\n",
              " 342: 'PS',\n",
              " 343: 'NN',\n",
              " 344: 'VV',\n",
              " 345: 'CL',\n",
              " 346: 'AJ',\n",
              " 347: 'AX',\n",
              " 348: 'VV',\n",
              " 349: 'FX',\n",
              " 350: 'VV',\n",
              " 351: 'VV',\n",
              " 352: 'PS',\n",
              " 353: 'PR',\n",
              " 354: 'CC',\n",
              " 355: 'VV',\n",
              " 356: 'CC',\n",
              " 357: 'NN',\n",
              " 358: 'AX',\n",
              " 359: 'VV',\n",
              " 360: 'PU',\n",
              " 361: 'CC',\n",
              " 362: 'PR',\n",
              " 363: 'CC',\n",
              " 364: 'VV',\n",
              " 365: 'NN',\n",
              " 366: 'AX',\n",
              " 367: 'VV',\n",
              " 368: 'FX',\n",
              " 369: 'VV',\n",
              " 370: 'CC',\n",
              " 371: 'AV',\n",
              " 372: 'VV',\n",
              " 373: 'NN',\n",
              " 374: 'NU',\n",
              " 375: 'NN',\n",
              " 376: 'PS',\n",
              " 377: 'NU',\n",
              " 378: 'CL',\n",
              " 379: 'NN',\n",
              " 380: 'PS',\n",
              " 381: 'NU',\n",
              " 382: 'CL',\n",
              " 383: 'NN',\n",
              " 384: 'NN',\n",
              " 385: 'VV',\n",
              " 386: 'PU',\n",
              " 387: 'NN',\n",
              " 388: 'NN',\n",
              " 389: 'CC',\n",
              " 390: 'VV',\n",
              " 391: 'PS',\n",
              " 392: 'VV',\n",
              " 393: 'NN',\n",
              " 394: 'NN',\n",
              " 395: 'VV',\n",
              " 396: 'NU',\n",
              " 397: 'CL',\n",
              " 398: 'VV',\n",
              " 399: 'PU',\n",
              " 400: 'NN',\n",
              " 401: 'PS',\n",
              " 402: 'NN',\n",
              " 403: 'NN',\n",
              " 404: 'PU',\n",
              " 405: 'VV',\n",
              " 406: 'PU',\n",
              " 407: 'NN',\n",
              " 408: 'NN',\n",
              " 409: 'VV',\n",
              " 410: 'NN',\n",
              " 411: 'NN',\n",
              " 412: 'NN',\n",
              " 413: 'NN',\n",
              " 414: 'PU',\n",
              " 415: 'NN',\n",
              " 416: 'NN',\n",
              " 417: 'NN',\n",
              " 418: 'NN',\n",
              " 419: 'VV',\n",
              " 420: 'PS',\n",
              " 421: 'CC',\n",
              " 422: 'CC',\n",
              " 423: 'NN',\n",
              " 424: 'FX',\n",
              " 425: 'VV',\n",
              " 426: 'VV',\n",
              " 427: 'NN',\n",
              " 428: 'AX',\n",
              " 429: 'AV',\n",
              " 430: 'PS',\n",
              " 431: 'NN',\n",
              " 432: 'CC',\n",
              " 433: 'VV',\n",
              " 434: 'AV',\n",
              " 435: 'CC',\n",
              " 436: 'CC',\n",
              " 437: 'AX',\n",
              " 438: 'AX',\n",
              " 439: 'VV',\n",
              " 440: 'FX',\n",
              " 441: 'VV',\n",
              " 442: 'FX',\n",
              " 443: 'VV',\n",
              " 444: 'PS',\n",
              " 445: 'AJ',\n",
              " 446: 'CL',\n",
              " 447: 'AV',\n",
              " 448: 'VV',\n",
              " 449: 'PU',\n",
              " 450: 'CC',\n",
              " 451: 'VV',\n",
              " 452: 'NN',\n",
              " 453: 'NN',\n",
              " 454: 'AV',\n",
              " 455: 'VV',\n",
              " 456: 'NN',\n",
              " 457: 'NN',\n",
              " 458: 'NN',\n",
              " 459: 'NU',\n",
              " 460: 'VV',\n",
              " 461: 'CC',\n",
              " 462: 'AJ',\n",
              " 463: 'CL',\n",
              " 464: 'NU',\n",
              " 465: 'CC',\n",
              " 466: 'VV',\n",
              " 467: 'NN',\n",
              " 468: 'VV',\n",
              " 469: 'AX',\n",
              " 470: 'NN',\n",
              " 471: 'NN',\n",
              " 472: 'VV',\n",
              " 473: 'AV',\n",
              " 474: 'CC',\n",
              " 475: 'NN',\n",
              " 476: 'NN',\n",
              " 477: 'VV',\n",
              " 478: 'NN',\n",
              " 479: 'PS',\n",
              " 480: 'NN',\n",
              " 481: 'NN',\n",
              " 482: 'VV',\n",
              " 483: 'NN',\n",
              " 484: 'NN',\n",
              " 485: 'VV',\n",
              " 486: 'PS',\n",
              " 487: 'NN',\n",
              " 488: 'NN',\n",
              " 489: 'NN',\n",
              " 490: 'VV',\n",
              " 491: 'NN',\n",
              " 492: 'NN',\n",
              " 493: 'NN',\n",
              " 494: 'NN',\n",
              " 495: 'NN',\n",
              " 496: 'VV',\n",
              " 497: 'FX',\n",
              " 498: 'VV',\n",
              " 499: 'AJ',\n",
              " 500: 'NN',\n",
              " 501: 'NN',\n",
              " 502: 'VV',\n",
              " 503: 'FX',\n",
              " 504: 'VV',\n",
              " 505: 'NN',\n",
              " 506: 'NN',\n",
              " 507: 'AJ',\n",
              " 508: 'NN',\n",
              " 509: 'VV',\n",
              " 510: 'NN',\n",
              " 511: 'VV',\n",
              " 512: 'NN',\n",
              " 513: 'FX',\n",
              " 514: 'VV',\n",
              " 515: 'VV',\n",
              " 516: 'NN',\n",
              " 517: 'PS',\n",
              " 518: 'NN',\n",
              " 519: 'VV',\n",
              " 520: 'NG',\n",
              " 521: 'VV',\n",
              " 522: 'AX',\n",
              " 523: 'CC',\n",
              " 524: 'NN',\n",
              " 525: 'VV',\n",
              " 526: 'NN',\n",
              " 527: 'VV',\n",
              " 528: 'PU',\n",
              " 529: 'CC',\n",
              " 530: 'CC',\n",
              " 531: 'AX',\n",
              " 532: 'AX',\n",
              " 533: 'NG',\n",
              " 534: 'VV',\n",
              " 535: 'AV',\n",
              " 536: 'VV',\n",
              " 537: 'CC',\n",
              " 538: 'NN',\n",
              " 539: 'AX',\n",
              " 540: 'VV',\n",
              " 541: 'NN',\n",
              " 542: 'CC',\n",
              " 543: 'PS',\n",
              " 544: 'NN',\n",
              " 545: 'NN',\n",
              " 546: 'CC',\n",
              " 547: 'VV',\n",
              " 548: 'NN',\n",
              " 549: 'VV',\n",
              " 550: 'PS',\n",
              " 551: 'NN',\n",
              " 552: 'NN',\n",
              " 553: 'VV',\n",
              " 554: 'NN',\n",
              " 555: 'VV',\n",
              " 556: 'PS',\n",
              " 557: 'VV',\n",
              " 558: 'NN',\n",
              " 559: 'CC',\n",
              " 560: 'NN',\n",
              " 561: 'PS',\n",
              " 562: 'NN',\n",
              " 563: 'CC',\n",
              " 564: 'AX',\n",
              " 565: 'VV',\n",
              " 566: 'NN',\n",
              " 567: 'NN',\n",
              " 568: 'VV',\n",
              " 569: 'CC',\n",
              " 570: 'VV',\n",
              " 571: 'FX',\n",
              " 572: 'AX',\n",
              " 573: 'VV',\n",
              " 574: 'NN',\n",
              " 575: 'NN',\n",
              " 576: 'VV',\n",
              " 577: 'CC',\n",
              " 578: 'NN',\n",
              " 579: 'NN',\n",
              " 580: 'VV',\n",
              " 581: 'CC',\n",
              " 582: 'FX',\n",
              " 583: 'VV',\n",
              " 584: 'NN',\n",
              " 585: 'VV',\n",
              " 586: 'PU',\n",
              " 587: 'CC',\n",
              " 588: 'FX',\n",
              " 589: 'VV',\n",
              " 590: 'NN',\n",
              " 591: 'NN',\n",
              " 592: 'PS',\n",
              " 593: 'FX',\n",
              " 594: 'NN',\n",
              " 595: 'NN',\n",
              " 596: 'AJ',\n",
              " 597: 'NN',\n",
              " 598: 'VV',\n",
              " 599: 'AX',\n",
              " 600: 'VV',\n",
              " 601: 'CC',\n",
              " 602: 'NN',\n",
              " 603: 'AV',\n",
              " 604: 'PU',\n",
              " 605: 'NN',\n",
              " 606: 'NN',\n",
              " 607: 'VV',\n",
              " 608: 'PU',\n",
              " 609: 'PU',\n",
              " 610: 'VV',\n",
              " 611: 'CC',\n",
              " 612: 'CC',\n",
              " 613: 'PS',\n",
              " 614: 'NN',\n",
              " 615: 'NN',\n",
              " 616: 'VV',\n",
              " 617: 'CC',\n",
              " 618: 'CC',\n",
              " 619: 'VV',\n",
              " 620: 'VV',\n",
              " 621: 'AX',\n",
              " 622: 'CC',\n",
              " 623: 'FX',\n",
              " 624: 'VV',\n",
              " 625: 'NN',\n",
              " 626: 'NN',\n",
              " 627: 'VV',\n",
              " 628: 'FX',\n",
              " 629: 'VV',\n",
              " 630: 'CC',\n",
              " 631: 'NN',\n",
              " 632: 'AX',\n",
              " 633: 'AX',\n",
              " 634: 'VV',\n",
              " 635: 'AV',\n",
              " 636: 'CC',\n",
              " 637: 'AX',\n",
              " 638: 'VV',\n",
              " 639: 'FX',\n",
              " 640: 'VV',\n",
              " 641: 'PS',\n",
              " 642: 'NN',\n",
              " 643: 'NN',\n",
              " 644: 'NN',\n",
              " 645: 'CC',\n",
              " 646: 'AJ',\n",
              " 647: 'NN',\n",
              " 648: 'NN',\n",
              " 649: 'PS',\n",
              " 650: 'PU',\n",
              " 651: 'NN',\n",
              " 652: 'NN',\n",
              " 653: 'VV',\n",
              " 654: 'PU',\n",
              " 655: 'PU',\n",
              " 656: 'VV',\n",
              " 657: 'CC',\n",
              " 658: 'PS',\n",
              " 659: 'NN',\n",
              " 660: 'AV',\n",
              " 661: 'NN',\n",
              " 662: 'NN',\n",
              " 663: 'PU',\n",
              " 664: 'PU',\n",
              " 665: 'AX',\n",
              " 666: 'VV',\n",
              " 667: 'VV',\n",
              " 668: 'VV',\n",
              " 669: 'NN',\n",
              " 670: 'CC',\n",
              " 671: 'AX',\n",
              " 672: 'VV',\n",
              " 673: 'NN',\n",
              " 674: 'VV',\n",
              " 675: 'PS',\n",
              " 676: 'NN',\n",
              " 677: 'NN',\n",
              " 678: 'CC',\n",
              " 679: 'NN',\n",
              " 680: 'NN',\n",
              " 681: 'VV',\n",
              " 682: 'NN',\n",
              " 683: 'CC',\n",
              " 684: 'VV',\n",
              " 685: 'NN',\n",
              " 686: 'NN',\n",
              " 687: 'NN',\n",
              " 688: 'NN',\n",
              " 689: 'VV',\n",
              " 690: 'PS',\n",
              " 691: 'NN',\n",
              " 692: 'NN',\n",
              " 693: 'CC',\n",
              " 694: 'FX',\n",
              " 695: 'VV',\n",
              " 696: 'FX',\n",
              " 697: 'VV',\n",
              " 698: 'PS',\n",
              " 699: 'NN',\n",
              " 700: 'PS',\n",
              " 701: 'NN',\n",
              " 702: 'CC',\n",
              " 703: 'VV',\n",
              " 704: 'NN',\n",
              " 705: 'VV',\n",
              " 706: 'PS',\n",
              " 707: 'FX',\n",
              " 708: 'VV',\n",
              " 709: 'NN',\n",
              " 710: 'PU',\n",
              " 711: 'FX',\n",
              " 712: 'NN',\n",
              " 713: 'NN',\n",
              " 714: 'VV',\n",
              " 715: 'CC',\n",
              " 716: 'PS',\n",
              " 717: 'PS',\n",
              " 718: 'NN',\n",
              " 719: 'AJ',\n",
              " 720: 'PU',\n",
              " 721: 'NU',\n",
              " 722: 'PU',\n",
              " 723: 'NN',\n",
              " 724: 'PU',\n",
              " 725: 'PS',\n",
              " 726: 'NN',\n",
              " 727: 'NN',\n",
              " 728: 'VV',\n",
              " 729: 'NU',\n",
              " 730: 'CL',\n",
              " 731: 'VV',\n",
              " 732: 'PU',\n",
              " 733: 'NN',\n",
              " 734: 'PS',\n",
              " 735: 'PU',\n",
              " 736: 'NN',\n",
              " 737: 'NN',\n",
              " 738: 'PU',\n",
              " 739: 'VV',\n",
              " 740: 'PU',\n",
              " 741: 'NN',\n",
              " 742: 'NN',\n",
              " 743: 'VV',\n",
              " 744: 'NN',\n",
              " 745: 'NN',\n",
              " 746: 'NN',\n",
              " 747: 'NN',\n",
              " 748: 'NN',\n",
              " 749: 'NN',\n",
              " 750: 'NN',\n",
              " 751: 'NN',\n",
              " 752: 'VV',\n",
              " 753: 'NN',\n",
              " 754: 'PS',\n",
              " 755: 'NN',\n",
              " 756: 'PU',\n",
              " 757: 'NU',\n",
              " 758: 'PU',\n",
              " 759: 'CL',\n",
              " 760: 'VV',\n",
              " 761: 'PS',\n",
              " 762: 'PU',\n",
              " 763: 'NN',\n",
              " 764: 'NN',\n",
              " 765: 'VV',\n",
              " 766: 'NN',\n",
              " 767: 'NN',\n",
              " 768: 'VV',\n",
              " 769: 'NN',\n",
              " 770: 'NN',\n",
              " 771: 'VV',\n",
              " 772: 'PS',\n",
              " 773: 'VV',\n",
              " 774: 'PU',\n",
              " 775: 'NN',\n",
              " 776: 'CC',\n",
              " 777: 'NN',\n",
              " 778: 'FX',\n",
              " 779: 'VV',\n",
              " 780: 'NN',\n",
              " 781: 'CC',\n",
              " 782: 'VV',\n",
              " 783: 'NN',\n",
              " 784: 'NN',\n",
              " 785: 'NN',\n",
              " 786: 'NN',\n",
              " 787: 'NN',\n",
              " 788: 'PU',\n",
              " 789: 'PS',\n",
              " 790: 'AJ',\n",
              " 791: 'VV',\n",
              " 792: 'NN',\n",
              " 793: 'VV',\n",
              " 794: 'NU',\n",
              " 795: 'CL',\n",
              " 796: 'VV',\n",
              " 797: 'PU',\n",
              " 798: 'NN',\n",
              " 799: 'CC',\n",
              " 800: 'AX',\n",
              " 801: 'VV',\n",
              " 802: 'FX',\n",
              " 803: 'VV',\n",
              " 804: 'NN',\n",
              " 805: 'VV',\n",
              " 806: 'PU',\n",
              " 807: 'NN',\n",
              " 808: 'VV',\n",
              " 809: 'VV',\n",
              " 810: 'CC',\n",
              " 811: 'VV',\n",
              " 812: 'VV',\n",
              " 813: 'VV',\n",
              " 814: 'CC',\n",
              " 815: 'AX',\n",
              " 816: 'VV',\n",
              " 817: 'PU',\n",
              " 818: 'VV',\n",
              " 819: 'PU',\n",
              " 820: 'NN',\n",
              " 821: 'NN',\n",
              " 822: 'VV',\n",
              " 823: 'NN',\n",
              " 824: 'VV',\n",
              " 825: 'NN',\n",
              " 826: 'AV',\n",
              " 827: 'VV',\n",
              " 828: 'NN',\n",
              " 829: 'PU',\n",
              " 830: 'NN',\n",
              " 831: 'PU',\n",
              " 832: 'NU',\n",
              " 833: 'PU',\n",
              " 834: 'NN',\n",
              " 835: 'PU',\n",
              " 836: 'NU',\n",
              " 837: 'NU',\n",
              " 838: 'CL',\n",
              " 839: 'PU',\n",
              " 840: 'NN',\n",
              " 841: 'VV',\n",
              " 842: 'NN',\n",
              " 843: 'PU',\n",
              " 844: 'NN',\n",
              " 845: 'NN',\n",
              " 846: 'VV',\n",
              " 847: 'VV',\n",
              " 848: 'PS',\n",
              " 849: 'NN',\n",
              " 850: 'AV',\n",
              " 851: 'NN',\n",
              " 852: 'CC',\n",
              " 853: 'PS',\n",
              " 854: 'VV',\n",
              " 855: 'NN',\n",
              " 856: 'VV',\n",
              " 857: 'NN',\n",
              " 858: 'NN',\n",
              " 859: 'NN',\n",
              " 860: 'VV',\n",
              " 861: 'VV',\n",
              " 862: 'NN',\n",
              " 863: 'NN',\n",
              " 864: 'VV',\n",
              " 865: 'NN',\n",
              " 866: 'VV',\n",
              " 867: 'CC',\n",
              " 868: 'NN',\n",
              " 869: 'NN',\n",
              " 870: 'AX',\n",
              " 871: 'VV',\n",
              " 872: 'FX',\n",
              " 873: 'VV',\n",
              " 874: 'PU',\n",
              " 875: 'NN',\n",
              " 876: 'VV',\n",
              " 877: 'VV',\n",
              " 878: 'VV',\n",
              " 879: 'CC',\n",
              " 880: 'VV',\n",
              " 881: 'PU',\n",
              " 882: 'VV',\n",
              " 883: 'NN',\n",
              " 884: 'VV',\n",
              " 885: 'VV',\n",
              " 886: 'NU',\n",
              " 887: 'CL',\n",
              " 888: 'VV',\n",
              " 889: 'VV',\n",
              " 890: 'VV',\n",
              " 891: 'NN',\n",
              " 892: 'NU',\n",
              " 893: 'PU',\n",
              " 894: 'PU',\n",
              " 895: 'NU',\n",
              " 896: 'NN',\n",
              " 897: 'PU',\n",
              " 898: 'NN',\n",
              " 899: 'PU',\n",
              " 900: 'NU',\n",
              " 901: 'CL',\n",
              " 902: 'NN',\n",
              " 903: 'NN',\n",
              " 904: 'PU',\n",
              " 905: 'AX',\n",
              " 906: 'VV',\n",
              " 907: 'NN',\n",
              " 908: 'VV',\n",
              " 909: 'PU',\n",
              " 910: 'NN',\n",
              " 911: 'PU',\n",
              " 912: 'NN',\n",
              " 913: 'NN',\n",
              " 914: 'NN',\n",
              " 915: 'VV',\n",
              " 916: 'NN',\n",
              " 917: 'CC',\n",
              " 918: 'VV',\n",
              " 919: 'AV',\n",
              " 920: 'PS',\n",
              " 921: 'NN',\n",
              " 922: 'AV',\n",
              " 923: 'VV',\n",
              " 924: 'VV',\n",
              " 925: 'PS',\n",
              " 926: 'NN',\n",
              " 927: 'NN',\n",
              " 928: 'NN',\n",
              " 929: 'PU',\n",
              " 930: 'CC',\n",
              " 931: 'NN',\n",
              " 932: 'VV',\n",
              " 933: 'NN',\n",
              " 934: 'NN',\n",
              " 935: 'VV',\n",
              " 936: 'VV',\n",
              " 937: 'VV',\n",
              " 938: 'PS',\n",
              " 939: 'NN',\n",
              " 940: 'PS',\n",
              " 941: 'NN',\n",
              " 942: 'PU',\n",
              " 943: 'NU',\n",
              " 944: 'CL',\n",
              " 945: 'VV',\n",
              " 946: 'NN',\n",
              " 947: 'PS',\n",
              " 948: 'NN',\n",
              " 949: 'PU',\n",
              " 950: 'NU',\n",
              " 951: 'PU',\n",
              " 952: 'CL',\n",
              " 953: 'PU',\n",
              " 954: 'CC',\n",
              " 955: 'NN',\n",
              " 956: 'VV',\n",
              " 957: 'CL',\n",
              " 958: 'VV',\n",
              " 959: 'VV',\n",
              " 960: 'VV',\n",
              " 961: 'AV',\n",
              " 962: 'VV',\n",
              " 963: 'NN',\n",
              " 964: 'NN',\n",
              " 965: 'NN',\n",
              " 966: 'PS',\n",
              " 967: 'PU',\n",
              " 968: 'NU',\n",
              " 969: 'PU',\n",
              " 970: 'NN',\n",
              " 971: 'CC',\n",
              " 972: 'VV',\n",
              " 973: 'AV',\n",
              " 974: 'PU',\n",
              " 975: 'CC',\n",
              " 976: 'FX',\n",
              " 977: 'VV',\n",
              " 978: 'NN',\n",
              " 979: 'AJ',\n",
              " 980: 'VV',\n",
              " 981: 'NN',\n",
              " 982: 'NU',\n",
              " 983: 'PS',\n",
              " 984: 'FX',\n",
              " 985: 'VV',\n",
              " 986: 'VV',\n",
              " 987: 'PS',\n",
              " 988: 'NN',\n",
              " 989: 'CC',\n",
              " 990: 'NN',\n",
              " 991: 'NN',\n",
              " 992: 'NN',\n",
              " 993: 'VV',\n",
              " 994: 'VV',\n",
              " 995: 'VV',\n",
              " 996: 'VV',\n",
              " 997: 'FX',\n",
              " 998: 'VV',\n",
              " 999: 'NN',\n",
              " 1000: 'FX',\n",
              " ...}"
            ]
          },
          "metadata": {},
          "execution_count": 212
        }
      ],
      "source": [
        "solution1"
      ]
    },
    {
      "cell_type": "code",
      "execution_count": null,
      "metadata": {
        "colab": {
          "base_uri": "https://localhost:8080/"
        },
        "id": "ExKx9_Fiadvg",
        "outputId": "1a2d5eb3-74fe-41bd-ee20-d27500caa7a7"
      },
      "outputs": [
        {
          "output_type": "execute_result",
          "data": {
            "text/plain": [
              "103913"
            ]
          },
          "metadata": {},
          "execution_count": 213
        }
      ],
      "source": [
        "#Import CSV\n",
        "df = pd.read_csv('/content/super-ai-engineer-2021-nlp-pos-tagging/pos_sample_submission.csv')\n",
        "\n",
        "#Updated \n",
        "df['Predicted'] = df[[\"Id\",\"Predicted\"]].apply(lambda x : solution1[x[\"Id\"]] if x[\"Id\"] in solution1.keys() else x[\"Predicted\"],axis=1)  \n",
        "\n",
        "#check not null\n",
        "df[\"Predicted\"].notnull().sum()"
      ]
    },
    {
      "cell_type": "code",
      "execution_count": null,
      "metadata": {
        "id": "AHSEvubmayvH"
      },
      "outputs": [],
      "source": [
        "df.to_csv(\"/content/drive/MyDrive/POSTAG/submission.csv\")"
      ]
    },
    {
      "cell_type": "code",
      "execution_count": null,
      "metadata": {
        "colab": {
          "base_uri": "https://localhost:8080/",
          "height": 423
        },
        "id": "gVsW8-eda1-k",
        "outputId": "f0b58a2c-cf42-4281-d35d-996dfabe0489"
      },
      "outputs": [
        {
          "data": {
            "text/html": [
              "\n",
              "  <div id=\"df-f55a7a05-4b51-4239-bc41-4f5168151152\">\n",
              "    <div class=\"colab-df-container\">\n",
              "      <div>\n",
              "<style scoped>\n",
              "    .dataframe tbody tr th:only-of-type {\n",
              "        vertical-align: middle;\n",
              "    }\n",
              "\n",
              "    .dataframe tbody tr th {\n",
              "        vertical-align: top;\n",
              "    }\n",
              "\n",
              "    .dataframe thead th {\n",
              "        text-align: right;\n",
              "    }\n",
              "</style>\n",
              "<table border=\"1\" class=\"dataframe\">\n",
              "  <thead>\n",
              "    <tr style=\"text-align: right;\">\n",
              "      <th></th>\n",
              "      <th>Id</th>\n",
              "      <th>Predicted</th>\n",
              "    </tr>\n",
              "  </thead>\n",
              "  <tbody>\n",
              "    <tr>\n",
              "      <th>0</th>\n",
              "      <td>1</td>\n",
              "      <td>CC</td>\n",
              "    </tr>\n",
              "    <tr>\n",
              "      <th>1</th>\n",
              "      <td>2</td>\n",
              "      <td>NN</td>\n",
              "    </tr>\n",
              "    <tr>\n",
              "      <th>2</th>\n",
              "      <td>3</td>\n",
              "      <td>VV</td>\n",
              "    </tr>\n",
              "    <tr>\n",
              "      <th>3</th>\n",
              "      <td>4</td>\n",
              "      <td>NN</td>\n",
              "    </tr>\n",
              "    <tr>\n",
              "      <th>4</th>\n",
              "      <td>5</td>\n",
              "      <td>PU</td>\n",
              "    </tr>\n",
              "    <tr>\n",
              "      <th>...</th>\n",
              "      <td>...</td>\n",
              "      <td>...</td>\n",
              "    </tr>\n",
              "    <tr>\n",
              "      <th>103908</th>\n",
              "      <td>103909</td>\n",
              "      <td>VV</td>\n",
              "    </tr>\n",
              "    <tr>\n",
              "      <th>103909</th>\n",
              "      <td>103910</td>\n",
              "      <td>CC</td>\n",
              "    </tr>\n",
              "    <tr>\n",
              "      <th>103910</th>\n",
              "      <td>103911</td>\n",
              "      <td>VV</td>\n",
              "    </tr>\n",
              "    <tr>\n",
              "      <th>103911</th>\n",
              "      <td>103912</td>\n",
              "      <td>FX</td>\n",
              "    </tr>\n",
              "    <tr>\n",
              "      <th>103912</th>\n",
              "      <td>103913</td>\n",
              "      <td>VV</td>\n",
              "    </tr>\n",
              "  </tbody>\n",
              "</table>\n",
              "<p>103913 rows × 2 columns</p>\n",
              "</div>\n",
              "      <button class=\"colab-df-convert\" onclick=\"convertToInteractive('df-f55a7a05-4b51-4239-bc41-4f5168151152')\"\n",
              "              title=\"Convert this dataframe to an interactive table.\"\n",
              "              style=\"display:none;\">\n",
              "        \n",
              "  <svg xmlns=\"http://www.w3.org/2000/svg\" height=\"24px\"viewBox=\"0 0 24 24\"\n",
              "       width=\"24px\">\n",
              "    <path d=\"M0 0h24v24H0V0z\" fill=\"none\"/>\n",
              "    <path d=\"M18.56 5.44l.94 2.06.94-2.06 2.06-.94-2.06-.94-.94-2.06-.94 2.06-2.06.94zm-11 1L8.5 8.5l.94-2.06 2.06-.94-2.06-.94L8.5 2.5l-.94 2.06-2.06.94zm10 10l.94 2.06.94-2.06 2.06-.94-2.06-.94-.94-2.06-.94 2.06-2.06.94z\"/><path d=\"M17.41 7.96l-1.37-1.37c-.4-.4-.92-.59-1.43-.59-.52 0-1.04.2-1.43.59L10.3 9.45l-7.72 7.72c-.78.78-.78 2.05 0 2.83L4 21.41c.39.39.9.59 1.41.59.51 0 1.02-.2 1.41-.59l7.78-7.78 2.81-2.81c.8-.78.8-2.07 0-2.86zM5.41 20L4 18.59l7.72-7.72 1.47 1.35L5.41 20z\"/>\n",
              "  </svg>\n",
              "      </button>\n",
              "      \n",
              "  <style>\n",
              "    .colab-df-container {\n",
              "      display:flex;\n",
              "      flex-wrap:wrap;\n",
              "      gap: 12px;\n",
              "    }\n",
              "\n",
              "    .colab-df-convert {\n",
              "      background-color: #E8F0FE;\n",
              "      border: none;\n",
              "      border-radius: 50%;\n",
              "      cursor: pointer;\n",
              "      display: none;\n",
              "      fill: #1967D2;\n",
              "      height: 32px;\n",
              "      padding: 0 0 0 0;\n",
              "      width: 32px;\n",
              "    }\n",
              "\n",
              "    .colab-df-convert:hover {\n",
              "      background-color: #E2EBFA;\n",
              "      box-shadow: 0px 1px 2px rgba(60, 64, 67, 0.3), 0px 1px 3px 1px rgba(60, 64, 67, 0.15);\n",
              "      fill: #174EA6;\n",
              "    }\n",
              "\n",
              "    [theme=dark] .colab-df-convert {\n",
              "      background-color: #3B4455;\n",
              "      fill: #D2E3FC;\n",
              "    }\n",
              "\n",
              "    [theme=dark] .colab-df-convert:hover {\n",
              "      background-color: #434B5C;\n",
              "      box-shadow: 0px 1px 3px 1px rgba(0, 0, 0, 0.15);\n",
              "      filter: drop-shadow(0px 1px 2px rgba(0, 0, 0, 0.3));\n",
              "      fill: #FFFFFF;\n",
              "    }\n",
              "  </style>\n",
              "\n",
              "      <script>\n",
              "        const buttonEl =\n",
              "          document.querySelector('#df-f55a7a05-4b51-4239-bc41-4f5168151152 button.colab-df-convert');\n",
              "        buttonEl.style.display =\n",
              "          google.colab.kernel.accessAllowed ? 'block' : 'none';\n",
              "\n",
              "        async function convertToInteractive(key) {\n",
              "          const element = document.querySelector('#df-f55a7a05-4b51-4239-bc41-4f5168151152');\n",
              "          const dataTable =\n",
              "            await google.colab.kernel.invokeFunction('convertToInteractive',\n",
              "                                                     [key], {});\n",
              "          if (!dataTable) return;\n",
              "\n",
              "          const docLinkHtml = 'Like what you see? Visit the ' +\n",
              "            '<a target=\"_blank\" href=https://colab.research.google.com/notebooks/data_table.ipynb>data table notebook</a>'\n",
              "            + ' to learn more about interactive tables.';\n",
              "          element.innerHTML = '';\n",
              "          dataTable['output_type'] = 'display_data';\n",
              "          await google.colab.output.renderOutput(dataTable, element);\n",
              "          const docLink = document.createElement('div');\n",
              "          docLink.innerHTML = docLinkHtml;\n",
              "          element.appendChild(docLink);\n",
              "        }\n",
              "      </script>\n",
              "    </div>\n",
              "  </div>\n",
              "  "
            ],
            "text/plain": [
              "            Id Predicted\n",
              "0            1        CC\n",
              "1            2        NN\n",
              "2            3        VV\n",
              "3            4        NN\n",
              "4            5        PU\n",
              "...        ...       ...\n",
              "103908  103909        VV\n",
              "103909  103910        CC\n",
              "103910  103911        VV\n",
              "103911  103912        FX\n",
              "103912  103913        VV\n",
              "\n",
              "[103913 rows x 2 columns]"
            ]
          },
          "execution_count": 136,
          "metadata": {},
          "output_type": "execute_result"
        }
      ],
      "source": [
        "df"
      ]
    },
    {
      "cell_type": "code",
      "execution_count": null,
      "metadata": {
        "id": "V5rgyHSPbQo5"
      },
      "outputs": [],
      "source": [
        ""
      ]
    }
  ],
  "metadata": {
    "accelerator": "GPU",
    "colab": {
      "background_execution": "on",
      "collapsed_sections": [],
      "machine_shape": "hm",
      "name": "Hack_POS_embedtransform+crf (1).ipynb",
      "provenance": []
    },
    "kernelspec": {
      "display_name": "Python 3",
      "name": "python3"
    },
    "language_info": {
      "name": "python"
    }
  },
  "nbformat": 4,
  "nbformat_minor": 0
}