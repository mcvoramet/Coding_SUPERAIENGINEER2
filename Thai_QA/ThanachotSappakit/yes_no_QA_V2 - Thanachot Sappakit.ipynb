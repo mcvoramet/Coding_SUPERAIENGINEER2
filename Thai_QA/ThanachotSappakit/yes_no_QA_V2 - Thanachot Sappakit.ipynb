{
  "nbformat": 4,
  "nbformat_minor": 0,
  "metadata": {
    "kernelspec": {
      "language": "python",
      "display_name": "Python 3",
      "name": "python3"
    },
    "language_info": {
      "name": "python",
      "version": "3.7.10",
      "mimetype": "text/x-python",
      "codemirror_mode": {
        "name": "ipython",
        "version": 3
      },
      "pygments_lexer": "ipython3",
      "nbconvert_exporter": "python",
      "file_extension": ".py"
    },
    "colab": {
      "name": "yes_no_QA_V2.ipynb",
      "provenance": [],
      "collapsed_sections": [],
      "machine_shape": "hm"
    },
    "accelerator": "GPU",
    "widgets": {
      "application/vnd.jupyter.widget-state+json": {
        "9e08b0c65306441faf9ddf4c368b7693": {
          "model_module": "@jupyter-widgets/controls",
          "model_name": "HBoxModel",
          "state": {
            "_view_name": "HBoxView",
            "_dom_classes": [],
            "_model_name": "HBoxModel",
            "_view_module": "@jupyter-widgets/controls",
            "_model_module_version": "1.5.0",
            "_view_count": null,
            "_view_module_version": "1.5.0",
            "box_style": "",
            "layout": "IPY_MODEL_9e559f155dad45b7a2f6441ac5c51fac",
            "_model_module": "@jupyter-widgets/controls",
            "children": [
              "IPY_MODEL_7937e23a8bd54c6f94e7c058ea4baca4",
              "IPY_MODEL_d1d8e336f72140c48214639103a3ec1a"
            ]
          }
        },
        "9e559f155dad45b7a2f6441ac5c51fac": {
          "model_module": "@jupyter-widgets/base",
          "model_name": "LayoutModel",
          "state": {
            "_view_name": "LayoutView",
            "grid_template_rows": null,
            "right": null,
            "justify_content": null,
            "_view_module": "@jupyter-widgets/base",
            "overflow": null,
            "_model_module_version": "1.2.0",
            "_view_count": null,
            "flex_flow": null,
            "width": null,
            "min_width": null,
            "border": null,
            "align_items": null,
            "bottom": null,
            "_model_module": "@jupyter-widgets/base",
            "top": null,
            "grid_column": null,
            "overflow_y": null,
            "overflow_x": null,
            "grid_auto_flow": null,
            "grid_area": null,
            "grid_template_columns": null,
            "flex": null,
            "_model_name": "LayoutModel",
            "justify_items": null,
            "grid_row": null,
            "max_height": null,
            "align_content": null,
            "visibility": null,
            "align_self": null,
            "height": null,
            "min_height": null,
            "padding": null,
            "grid_auto_rows": null,
            "grid_gap": null,
            "max_width": null,
            "order": null,
            "_view_module_version": "1.2.0",
            "grid_template_areas": null,
            "object_position": null,
            "object_fit": null,
            "grid_auto_columns": null,
            "margin": null,
            "display": null,
            "left": null
          }
        },
        "7937e23a8bd54c6f94e7c058ea4baca4": {
          "model_module": "@jupyter-widgets/controls",
          "model_name": "FloatProgressModel",
          "state": {
            "_view_name": "ProgressView",
            "style": "IPY_MODEL_77a85cf0f1304e7783f25ea5830f4c7e",
            "_dom_classes": [],
            "description": "Downloading: 100%",
            "_model_name": "FloatProgressModel",
            "bar_style": "success",
            "max": 5069051,
            "_view_module": "@jupyter-widgets/controls",
            "_model_module_version": "1.5.0",
            "value": 5069051,
            "_view_count": null,
            "_view_module_version": "1.5.0",
            "orientation": "horizontal",
            "min": 0,
            "description_tooltip": null,
            "_model_module": "@jupyter-widgets/controls",
            "layout": "IPY_MODEL_b2ef4937d8de45b59f08a2f673335e25"
          }
        },
        "d1d8e336f72140c48214639103a3ec1a": {
          "model_module": "@jupyter-widgets/controls",
          "model_name": "HTMLModel",
          "state": {
            "_view_name": "HTMLView",
            "style": "IPY_MODEL_6c8d624c848d4d3ca5db59164942ba0c",
            "_dom_classes": [],
            "description": "",
            "_model_name": "HTMLModel",
            "placeholder": "​",
            "_view_module": "@jupyter-widgets/controls",
            "_model_module_version": "1.5.0",
            "value": " 5.07M/5.07M [00:01&lt;00:00, 2.56MB/s]",
            "_view_count": null,
            "_view_module_version": "1.5.0",
            "description_tooltip": null,
            "_model_module": "@jupyter-widgets/controls",
            "layout": "IPY_MODEL_77d8413af84e4b97af90b0175fb0761a"
          }
        },
        "77a85cf0f1304e7783f25ea5830f4c7e": {
          "model_module": "@jupyter-widgets/controls",
          "model_name": "ProgressStyleModel",
          "state": {
            "_view_name": "StyleView",
            "_model_name": "ProgressStyleModel",
            "description_width": "initial",
            "_view_module": "@jupyter-widgets/base",
            "_model_module_version": "1.5.0",
            "_view_count": null,
            "_view_module_version": "1.2.0",
            "bar_color": null,
            "_model_module": "@jupyter-widgets/controls"
          }
        },
        "b2ef4937d8de45b59f08a2f673335e25": {
          "model_module": "@jupyter-widgets/base",
          "model_name": "LayoutModel",
          "state": {
            "_view_name": "LayoutView",
            "grid_template_rows": null,
            "right": null,
            "justify_content": null,
            "_view_module": "@jupyter-widgets/base",
            "overflow": null,
            "_model_module_version": "1.2.0",
            "_view_count": null,
            "flex_flow": null,
            "width": null,
            "min_width": null,
            "border": null,
            "align_items": null,
            "bottom": null,
            "_model_module": "@jupyter-widgets/base",
            "top": null,
            "grid_column": null,
            "overflow_y": null,
            "overflow_x": null,
            "grid_auto_flow": null,
            "grid_area": null,
            "grid_template_columns": null,
            "flex": null,
            "_model_name": "LayoutModel",
            "justify_items": null,
            "grid_row": null,
            "max_height": null,
            "align_content": null,
            "visibility": null,
            "align_self": null,
            "height": null,
            "min_height": null,
            "padding": null,
            "grid_auto_rows": null,
            "grid_gap": null,
            "max_width": null,
            "order": null,
            "_view_module_version": "1.2.0",
            "grid_template_areas": null,
            "object_position": null,
            "object_fit": null,
            "grid_auto_columns": null,
            "margin": null,
            "display": null,
            "left": null
          }
        },
        "6c8d624c848d4d3ca5db59164942ba0c": {
          "model_module": "@jupyter-widgets/controls",
          "model_name": "DescriptionStyleModel",
          "state": {
            "_view_name": "StyleView",
            "_model_name": "DescriptionStyleModel",
            "description_width": "",
            "_view_module": "@jupyter-widgets/base",
            "_model_module_version": "1.5.0",
            "_view_count": null,
            "_view_module_version": "1.2.0",
            "_model_module": "@jupyter-widgets/controls"
          }
        },
        "77d8413af84e4b97af90b0175fb0761a": {
          "model_module": "@jupyter-widgets/base",
          "model_name": "LayoutModel",
          "state": {
            "_view_name": "LayoutView",
            "grid_template_rows": null,
            "right": null,
            "justify_content": null,
            "_view_module": "@jupyter-widgets/base",
            "overflow": null,
            "_model_module_version": "1.2.0",
            "_view_count": null,
            "flex_flow": null,
            "width": null,
            "min_width": null,
            "border": null,
            "align_items": null,
            "bottom": null,
            "_model_module": "@jupyter-widgets/base",
            "top": null,
            "grid_column": null,
            "overflow_y": null,
            "overflow_x": null,
            "grid_auto_flow": null,
            "grid_area": null,
            "grid_template_columns": null,
            "flex": null,
            "_model_name": "LayoutModel",
            "justify_items": null,
            "grid_row": null,
            "max_height": null,
            "align_content": null,
            "visibility": null,
            "align_self": null,
            "height": null,
            "min_height": null,
            "padding": null,
            "grid_auto_rows": null,
            "grid_gap": null,
            "max_width": null,
            "order": null,
            "_view_module_version": "1.2.0",
            "grid_template_areas": null,
            "object_position": null,
            "object_fit": null,
            "grid_auto_columns": null,
            "margin": null,
            "display": null,
            "left": null
          }
        },
        "9cf62038fb434cf4b915e1f0b2857909": {
          "model_module": "@jupyter-widgets/controls",
          "model_name": "HBoxModel",
          "state": {
            "_view_name": "HBoxView",
            "_dom_classes": [],
            "_model_name": "HBoxModel",
            "_view_module": "@jupyter-widgets/controls",
            "_model_module_version": "1.5.0",
            "_view_count": null,
            "_view_module_version": "1.5.0",
            "box_style": "",
            "layout": "IPY_MODEL_ddf440c594524d409ccc3e271f1bf920",
            "_model_module": "@jupyter-widgets/controls",
            "children": [
              "IPY_MODEL_4aac28216900430dbd03edf0e16674a7",
              "IPY_MODEL_2adc5d6f8fed4a11b3d7e0e2bb0710ff"
            ]
          }
        },
        "ddf440c594524d409ccc3e271f1bf920": {
          "model_module": "@jupyter-widgets/base",
          "model_name": "LayoutModel",
          "state": {
            "_view_name": "LayoutView",
            "grid_template_rows": null,
            "right": null,
            "justify_content": null,
            "_view_module": "@jupyter-widgets/base",
            "overflow": null,
            "_model_module_version": "1.2.0",
            "_view_count": null,
            "flex_flow": null,
            "width": null,
            "min_width": null,
            "border": null,
            "align_items": null,
            "bottom": null,
            "_model_module": "@jupyter-widgets/base",
            "top": null,
            "grid_column": null,
            "overflow_y": null,
            "overflow_x": null,
            "grid_auto_flow": null,
            "grid_area": null,
            "grid_template_columns": null,
            "flex": null,
            "_model_name": "LayoutModel",
            "justify_items": null,
            "grid_row": null,
            "max_height": null,
            "align_content": null,
            "visibility": null,
            "align_self": null,
            "height": null,
            "min_height": null,
            "padding": null,
            "grid_auto_rows": null,
            "grid_gap": null,
            "max_width": null,
            "order": null,
            "_view_module_version": "1.2.0",
            "grid_template_areas": null,
            "object_position": null,
            "object_fit": null,
            "grid_auto_columns": null,
            "margin": null,
            "display": null,
            "left": null
          }
        },
        "4aac28216900430dbd03edf0e16674a7": {
          "model_module": "@jupyter-widgets/controls",
          "model_name": "FloatProgressModel",
          "state": {
            "_view_name": "ProgressView",
            "style": "IPY_MODEL_8c7e2196391441a8afecd95d9ed06399",
            "_dom_classes": [],
            "description": "Downloading: 100%",
            "_model_name": "FloatProgressModel",
            "bar_style": "success",
            "max": 150,
            "_view_module": "@jupyter-widgets/controls",
            "_model_module_version": "1.5.0",
            "value": 150,
            "_view_count": null,
            "_view_module_version": "1.5.0",
            "orientation": "horizontal",
            "min": 0,
            "description_tooltip": null,
            "_model_module": "@jupyter-widgets/controls",
            "layout": "IPY_MODEL_eab1aa6712ba46ef9d652bb67d39d989"
          }
        },
        "2adc5d6f8fed4a11b3d7e0e2bb0710ff": {
          "model_module": "@jupyter-widgets/controls",
          "model_name": "HTMLModel",
          "state": {
            "_view_name": "HTMLView",
            "style": "IPY_MODEL_6196f4ada04043158d4cbf14dd97cc2a",
            "_dom_classes": [],
            "description": "",
            "_model_name": "HTMLModel",
            "placeholder": "​",
            "_view_module": "@jupyter-widgets/controls",
            "_model_module_version": "1.5.0",
            "value": " 150/150 [00:00&lt;00:00, 290B/s]",
            "_view_count": null,
            "_view_module_version": "1.5.0",
            "description_tooltip": null,
            "_model_module": "@jupyter-widgets/controls",
            "layout": "IPY_MODEL_00d9f44545a046a0b3c4cf8ee2a433a3"
          }
        },
        "8c7e2196391441a8afecd95d9ed06399": {
          "model_module": "@jupyter-widgets/controls",
          "model_name": "ProgressStyleModel",
          "state": {
            "_view_name": "StyleView",
            "_model_name": "ProgressStyleModel",
            "description_width": "initial",
            "_view_module": "@jupyter-widgets/base",
            "_model_module_version": "1.5.0",
            "_view_count": null,
            "_view_module_version": "1.2.0",
            "bar_color": null,
            "_model_module": "@jupyter-widgets/controls"
          }
        },
        "eab1aa6712ba46ef9d652bb67d39d989": {
          "model_module": "@jupyter-widgets/base",
          "model_name": "LayoutModel",
          "state": {
            "_view_name": "LayoutView",
            "grid_template_rows": null,
            "right": null,
            "justify_content": null,
            "_view_module": "@jupyter-widgets/base",
            "overflow": null,
            "_model_module_version": "1.2.0",
            "_view_count": null,
            "flex_flow": null,
            "width": null,
            "min_width": null,
            "border": null,
            "align_items": null,
            "bottom": null,
            "_model_module": "@jupyter-widgets/base",
            "top": null,
            "grid_column": null,
            "overflow_y": null,
            "overflow_x": null,
            "grid_auto_flow": null,
            "grid_area": null,
            "grid_template_columns": null,
            "flex": null,
            "_model_name": "LayoutModel",
            "justify_items": null,
            "grid_row": null,
            "max_height": null,
            "align_content": null,
            "visibility": null,
            "align_self": null,
            "height": null,
            "min_height": null,
            "padding": null,
            "grid_auto_rows": null,
            "grid_gap": null,
            "max_width": null,
            "order": null,
            "_view_module_version": "1.2.0",
            "grid_template_areas": null,
            "object_position": null,
            "object_fit": null,
            "grid_auto_columns": null,
            "margin": null,
            "display": null,
            "left": null
          }
        },
        "6196f4ada04043158d4cbf14dd97cc2a": {
          "model_module": "@jupyter-widgets/controls",
          "model_name": "DescriptionStyleModel",
          "state": {
            "_view_name": "StyleView",
            "_model_name": "DescriptionStyleModel",
            "description_width": "",
            "_view_module": "@jupyter-widgets/base",
            "_model_module_version": "1.5.0",
            "_view_count": null,
            "_view_module_version": "1.2.0",
            "_model_module": "@jupyter-widgets/controls"
          }
        },
        "00d9f44545a046a0b3c4cf8ee2a433a3": {
          "model_module": "@jupyter-widgets/base",
          "model_name": "LayoutModel",
          "state": {
            "_view_name": "LayoutView",
            "grid_template_rows": null,
            "right": null,
            "justify_content": null,
            "_view_module": "@jupyter-widgets/base",
            "overflow": null,
            "_model_module_version": "1.2.0",
            "_view_count": null,
            "flex_flow": null,
            "width": null,
            "min_width": null,
            "border": null,
            "align_items": null,
            "bottom": null,
            "_model_module": "@jupyter-widgets/base",
            "top": null,
            "grid_column": null,
            "overflow_y": null,
            "overflow_x": null,
            "grid_auto_flow": null,
            "grid_area": null,
            "grid_template_columns": null,
            "flex": null,
            "_model_name": "LayoutModel",
            "justify_items": null,
            "grid_row": null,
            "max_height": null,
            "align_content": null,
            "visibility": null,
            "align_self": null,
            "height": null,
            "min_height": null,
            "padding": null,
            "grid_auto_rows": null,
            "grid_gap": null,
            "max_width": null,
            "order": null,
            "_view_module_version": "1.2.0",
            "grid_template_areas": null,
            "object_position": null,
            "object_fit": null,
            "grid_auto_columns": null,
            "margin": null,
            "display": null,
            "left": null
          }
        },
        "af3dc43dc15a448c9e1fd8c7799e4850": {
          "model_module": "@jupyter-widgets/controls",
          "model_name": "HBoxModel",
          "state": {
            "_view_name": "HBoxView",
            "_dom_classes": [],
            "_model_name": "HBoxModel",
            "_view_module": "@jupyter-widgets/controls",
            "_model_module_version": "1.5.0",
            "_view_count": null,
            "_view_module_version": "1.5.0",
            "box_style": "",
            "layout": "IPY_MODEL_f66f631f099b486b92c3b5527597e446",
            "_model_module": "@jupyter-widgets/controls",
            "children": [
              "IPY_MODEL_5429002bf8024966a6ac0ccc50ecf6ea",
              "IPY_MODEL_86d1cb2c881647858c51ca0f344ac8f0"
            ]
          }
        },
        "f66f631f099b486b92c3b5527597e446": {
          "model_module": "@jupyter-widgets/base",
          "model_name": "LayoutModel",
          "state": {
            "_view_name": "LayoutView",
            "grid_template_rows": null,
            "right": null,
            "justify_content": null,
            "_view_module": "@jupyter-widgets/base",
            "overflow": null,
            "_model_module_version": "1.2.0",
            "_view_count": null,
            "flex_flow": null,
            "width": null,
            "min_width": null,
            "border": null,
            "align_items": null,
            "bottom": null,
            "_model_module": "@jupyter-widgets/base",
            "top": null,
            "grid_column": null,
            "overflow_y": null,
            "overflow_x": null,
            "grid_auto_flow": null,
            "grid_area": null,
            "grid_template_columns": null,
            "flex": null,
            "_model_name": "LayoutModel",
            "justify_items": null,
            "grid_row": null,
            "max_height": null,
            "align_content": null,
            "visibility": null,
            "align_self": null,
            "height": null,
            "min_height": null,
            "padding": null,
            "grid_auto_rows": null,
            "grid_gap": null,
            "max_width": null,
            "order": null,
            "_view_module_version": "1.2.0",
            "grid_template_areas": null,
            "object_position": null,
            "object_fit": null,
            "grid_auto_columns": null,
            "margin": null,
            "display": null,
            "left": null
          }
        },
        "5429002bf8024966a6ac0ccc50ecf6ea": {
          "model_module": "@jupyter-widgets/controls",
          "model_name": "FloatProgressModel",
          "state": {
            "_view_name": "ProgressView",
            "style": "IPY_MODEL_6ffff44d42b242e4af9dff117bbba44a",
            "_dom_classes": [],
            "description": "Downloading: 100%",
            "_model_name": "FloatProgressModel",
            "bar_style": "success",
            "max": 179,
            "_view_module": "@jupyter-widgets/controls",
            "_model_module_version": "1.5.0",
            "value": 179,
            "_view_count": null,
            "_view_module_version": "1.5.0",
            "orientation": "horizontal",
            "min": 0,
            "description_tooltip": null,
            "_model_module": "@jupyter-widgets/controls",
            "layout": "IPY_MODEL_4ee2a7e46d8e4ccca3549f8e680e617e"
          }
        },
        "86d1cb2c881647858c51ca0f344ac8f0": {
          "model_module": "@jupyter-widgets/controls",
          "model_name": "HTMLModel",
          "state": {
            "_view_name": "HTMLView",
            "style": "IPY_MODEL_0d819935ee22419b9c6ea1318fe90ca1",
            "_dom_classes": [],
            "description": "",
            "_model_name": "HTMLModel",
            "placeholder": "​",
            "_view_module": "@jupyter-widgets/controls",
            "_model_module_version": "1.5.0",
            "value": " 179/179 [00:00&lt;00:00, 313B/s]",
            "_view_count": null,
            "_view_module_version": "1.5.0",
            "description_tooltip": null,
            "_model_module": "@jupyter-widgets/controls",
            "layout": "IPY_MODEL_bd139b30545e4fd6bf2e8362f02ccc7d"
          }
        },
        "6ffff44d42b242e4af9dff117bbba44a": {
          "model_module": "@jupyter-widgets/controls",
          "model_name": "ProgressStyleModel",
          "state": {
            "_view_name": "StyleView",
            "_model_name": "ProgressStyleModel",
            "description_width": "initial",
            "_view_module": "@jupyter-widgets/base",
            "_model_module_version": "1.5.0",
            "_view_count": null,
            "_view_module_version": "1.2.0",
            "bar_color": null,
            "_model_module": "@jupyter-widgets/controls"
          }
        },
        "4ee2a7e46d8e4ccca3549f8e680e617e": {
          "model_module": "@jupyter-widgets/base",
          "model_name": "LayoutModel",
          "state": {
            "_view_name": "LayoutView",
            "grid_template_rows": null,
            "right": null,
            "justify_content": null,
            "_view_module": "@jupyter-widgets/base",
            "overflow": null,
            "_model_module_version": "1.2.0",
            "_view_count": null,
            "flex_flow": null,
            "width": null,
            "min_width": null,
            "border": null,
            "align_items": null,
            "bottom": null,
            "_model_module": "@jupyter-widgets/base",
            "top": null,
            "grid_column": null,
            "overflow_y": null,
            "overflow_x": null,
            "grid_auto_flow": null,
            "grid_area": null,
            "grid_template_columns": null,
            "flex": null,
            "_model_name": "LayoutModel",
            "justify_items": null,
            "grid_row": null,
            "max_height": null,
            "align_content": null,
            "visibility": null,
            "align_self": null,
            "height": null,
            "min_height": null,
            "padding": null,
            "grid_auto_rows": null,
            "grid_gap": null,
            "max_width": null,
            "order": null,
            "_view_module_version": "1.2.0",
            "grid_template_areas": null,
            "object_position": null,
            "object_fit": null,
            "grid_auto_columns": null,
            "margin": null,
            "display": null,
            "left": null
          }
        },
        "0d819935ee22419b9c6ea1318fe90ca1": {
          "model_module": "@jupyter-widgets/controls",
          "model_name": "DescriptionStyleModel",
          "state": {
            "_view_name": "StyleView",
            "_model_name": "DescriptionStyleModel",
            "description_width": "",
            "_view_module": "@jupyter-widgets/base",
            "_model_module_version": "1.5.0",
            "_view_count": null,
            "_view_module_version": "1.2.0",
            "_model_module": "@jupyter-widgets/controls"
          }
        },
        "bd139b30545e4fd6bf2e8362f02ccc7d": {
          "model_module": "@jupyter-widgets/base",
          "model_name": "LayoutModel",
          "state": {
            "_view_name": "LayoutView",
            "grid_template_rows": null,
            "right": null,
            "justify_content": null,
            "_view_module": "@jupyter-widgets/base",
            "overflow": null,
            "_model_module_version": "1.2.0",
            "_view_count": null,
            "flex_flow": null,
            "width": null,
            "min_width": null,
            "border": null,
            "align_items": null,
            "bottom": null,
            "_model_module": "@jupyter-widgets/base",
            "top": null,
            "grid_column": null,
            "overflow_y": null,
            "overflow_x": null,
            "grid_auto_flow": null,
            "grid_area": null,
            "grid_template_columns": null,
            "flex": null,
            "_model_name": "LayoutModel",
            "justify_items": null,
            "grid_row": null,
            "max_height": null,
            "align_content": null,
            "visibility": null,
            "align_self": null,
            "height": null,
            "min_height": null,
            "padding": null,
            "grid_auto_rows": null,
            "grid_gap": null,
            "max_width": null,
            "order": null,
            "_view_module_version": "1.2.0",
            "grid_template_areas": null,
            "object_position": null,
            "object_fit": null,
            "grid_auto_columns": null,
            "margin": null,
            "display": null,
            "left": null
          }
        }
      }
    }
  },
  "cells": [
    {
      "cell_type": "markdown",
      "metadata": {
        "id": "aprbWdSRceIa"
      },
      "source": [
        "#yes/no xlm-roberta-large-squad2\n",
        "Thanks to Isaman from Kaggle Discussion <br>\n",
        "ref. https://medium.com/illuin/deep-learning-has-almost-all-the-answers-yes-no-question-answering-with-transformers-223bebb70189"
      ]
    },
    {
      "cell_type": "code",
      "metadata": {
        "colab": {
          "base_uri": "https://localhost:8080/"
        },
        "id": "Qii7FXkOduiO",
        "outputId": "a2e381e3-7eb5-4c8e-a6c4-fb670b52864e"
      },
      "source": [
        "!pip install torch torchvision\n",
        "!pip install transformers==2.5.1"
      ],
      "execution_count": null,
      "outputs": [
        {
          "output_type": "stream",
          "text": [
            "Requirement already satisfied: torch in /usr/local/lib/python3.7/dist-packages (1.9.0+cu102)\n",
            "Requirement already satisfied: torchvision in /usr/local/lib/python3.7/dist-packages (0.10.0+cu102)\n",
            "Requirement already satisfied: typing-extensions in /usr/local/lib/python3.7/dist-packages (from torch) (3.7.4.3)\n",
            "Requirement already satisfied: pillow>=5.3.0 in /usr/local/lib/python3.7/dist-packages (from torchvision) (7.1.2)\n",
            "Requirement already satisfied: numpy in /usr/local/lib/python3.7/dist-packages (from torchvision) (1.19.5)\n",
            "Collecting transformers==2.5.1\n",
            "  Downloading transformers-2.5.1-py3-none-any.whl (499 kB)\n",
            "\u001b[K     |████████████████████████████████| 499 kB 7.8 MB/s \n",
            "\u001b[?25hRequirement already satisfied: filelock in /usr/local/lib/python3.7/dist-packages (from transformers==2.5.1) (3.0.12)\n",
            "Collecting boto3\n",
            "  Downloading boto3-1.18.6-py3-none-any.whl (131 kB)\n",
            "\u001b[K     |████████████████████████████████| 131 kB 14.3 MB/s \n",
            "\u001b[?25hRequirement already satisfied: regex!=2019.12.17 in /usr/local/lib/python3.7/dist-packages (from transformers==2.5.1) (2019.12.20)\n",
            "Collecting sacremoses\n",
            "  Downloading sacremoses-0.0.45-py3-none-any.whl (895 kB)\n",
            "\u001b[K     |████████████████████████████████| 895 kB 16.0 MB/s \n",
            "\u001b[?25hRequirement already satisfied: tqdm>=4.27 in /usr/local/lib/python3.7/dist-packages (from transformers==2.5.1) (4.41.1)\n",
            "Requirement already satisfied: numpy in /usr/local/lib/python3.7/dist-packages (from transformers==2.5.1) (1.19.5)\n",
            "Collecting tokenizers==0.5.2\n",
            "  Downloading tokenizers-0.5.2-cp37-cp37m-manylinux1_x86_64.whl (5.6 MB)\n",
            "\u001b[K     |████████████████████████████████| 5.6 MB 17.9 MB/s \n",
            "\u001b[?25hRequirement already satisfied: requests in /usr/local/lib/python3.7/dist-packages (from transformers==2.5.1) (2.23.0)\n",
            "Collecting sentencepiece\n",
            "  Downloading sentencepiece-0.1.96-cp37-cp37m-manylinux_2_17_x86_64.manylinux2014_x86_64.whl (1.2 MB)\n",
            "\u001b[K     |████████████████████████████████| 1.2 MB 63.7 MB/s \n",
            "\u001b[?25hCollecting s3transfer<0.6.0,>=0.5.0\n",
            "  Downloading s3transfer-0.5.0-py3-none-any.whl (79 kB)\n",
            "\u001b[K     |████████████████████████████████| 79 kB 8.5 MB/s \n",
            "\u001b[?25hCollecting botocore<1.22.0,>=1.21.6\n",
            "  Downloading botocore-1.21.6-py3-none-any.whl (7.7 MB)\n",
            "\u001b[K     |████████████████████████████████| 7.7 MB 77.1 MB/s \n",
            "\u001b[?25hCollecting jmespath<1.0.0,>=0.7.1\n",
            "  Downloading jmespath-0.10.0-py2.py3-none-any.whl (24 kB)\n",
            "Requirement already satisfied: python-dateutil<3.0.0,>=2.1 in /usr/local/lib/python3.7/dist-packages (from botocore<1.22.0,>=1.21.6->boto3->transformers==2.5.1) (2.8.1)\n",
            "Collecting urllib3<1.27,>=1.25.4\n",
            "  Downloading urllib3-1.26.6-py2.py3-none-any.whl (138 kB)\n",
            "\u001b[K     |████████████████████████████████| 138 kB 73.3 MB/s \n",
            "\u001b[?25hRequirement already satisfied: six>=1.5 in /usr/local/lib/python3.7/dist-packages (from python-dateutil<3.0.0,>=2.1->botocore<1.22.0,>=1.21.6->boto3->transformers==2.5.1) (1.15.0)\n",
            "  Downloading urllib3-1.25.11-py2.py3-none-any.whl (127 kB)\n",
            "\u001b[K     |████████████████████████████████| 127 kB 90.7 MB/s \n",
            "\u001b[?25hRequirement already satisfied: idna<3,>=2.5 in /usr/local/lib/python3.7/dist-packages (from requests->transformers==2.5.1) (2.10)\n",
            "Requirement already satisfied: certifi>=2017.4.17 in /usr/local/lib/python3.7/dist-packages (from requests->transformers==2.5.1) (2021.5.30)\n",
            "Requirement already satisfied: chardet<4,>=3.0.2 in /usr/local/lib/python3.7/dist-packages (from requests->transformers==2.5.1) (3.0.4)\n",
            "Requirement already satisfied: joblib in /usr/local/lib/python3.7/dist-packages (from sacremoses->transformers==2.5.1) (1.0.1)\n",
            "Requirement already satisfied: click in /usr/local/lib/python3.7/dist-packages (from sacremoses->transformers==2.5.1) (7.1.2)\n",
            "Installing collected packages: urllib3, jmespath, botocore, s3transfer, tokenizers, sentencepiece, sacremoses, boto3, transformers\n",
            "  Attempting uninstall: urllib3\n",
            "    Found existing installation: urllib3 1.24.3\n",
            "    Uninstalling urllib3-1.24.3:\n",
            "      Successfully uninstalled urllib3-1.24.3\n",
            "\u001b[31mERROR: pip's dependency resolver does not currently take into account all the packages that are installed. This behaviour is the source of the following dependency conflicts.\n",
            "datascience 0.10.6 requires folium==0.2.1, but you have folium 0.8.3 which is incompatible.\u001b[0m\n",
            "Successfully installed boto3-1.18.6 botocore-1.21.6 jmespath-0.10.0 s3transfer-0.5.0 sacremoses-0.0.45 sentencepiece-0.1.96 tokenizers-0.5.2 transformers-2.5.1 urllib3-1.25.11\n"
          ],
          "name": "stdout"
        }
      ]
    },
    {
      "cell_type": "code",
      "metadata": {
        "execution": {
          "iopub.status.busy": "2021-07-25T03:42:26.103552Z",
          "iopub.execute_input": "2021-07-25T03:42:26.103829Z",
          "iopub.status.idle": "2021-07-25T03:42:32.960203Z",
          "shell.execute_reply.started": "2021-07-25T03:42:26.103797Z",
          "shell.execute_reply": "2021-07-25T03:42:32.959420Z"
        },
        "trusted": true,
        "id": "B_HlWrxAceIb"
      },
      "source": [
        "import random\n",
        "import torch\n",
        "import numpy as np\n",
        "import pandas as pd\n",
        "from tqdm import tqdm\n",
        "from torch.utils.data import TensorDataset, DataLoader, RandomSampler, SequentialSampler\n",
        "from transformers import AutoTokenizer, AutoModelForSequenceClassification, AdamW\n",
        "from sklearn.model_selection import train_test_split\n",
        "import re\n",
        "import os"
      ],
      "execution_count": null,
      "outputs": []
    },
    {
      "cell_type": "code",
      "metadata": {
        "execution": {
          "iopub.status.busy": "2021-07-25T03:42:49.180086Z",
          "iopub.execute_input": "2021-07-25T03:42:49.180372Z",
          "iopub.status.idle": "2021-07-25T03:42:51.569460Z",
          "shell.execute_reply.started": "2021-07-25T03:42:49.180332Z",
          "shell.execute_reply": "2021-07-25T03:42:51.568511Z"
        },
        "trusted": true,
        "colab": {
          "base_uri": "https://localhost:8080/"
        },
        "id": "_J9CzKKDceIe",
        "outputId": "ff977271-c873-4331-8216-dbaa0e44a301"
      },
      "source": [
        "# down load Thai-wiki QA\n",
        "!gdown --id 14BNqgCOPJdQzwjJWPZGbqKeYu-9MHC1r\n",
        "# !wget https://drive.google.com/file/d/14BNqgCOPJdQzwjJWPZGbqKeYu-9MHC1r/view?usp=sharing"
      ],
      "execution_count": null,
      "outputs": [
        {
          "output_type": "stream",
          "text": [
            "Downloading...\n",
            "From: https://drive.google.com/uc?id=14BNqgCOPJdQzwjJWPZGbqKeYu-9MHC1r\n",
            "To: /content/AIFORTHAI-ThaiWikiQA_NSC2020.zip\n",
            "170MB [00:01, 96.4MB/s]\n"
          ],
          "name": "stdout"
        }
      ]
    },
    {
      "cell_type": "code",
      "metadata": {
        "execution": {
          "iopub.status.busy": "2021-07-25T03:42:51.570845Z",
          "iopub.execute_input": "2021-07-25T03:42:51.571137Z",
          "iopub.status.idle": "2021-07-25T03:43:05.720949Z",
          "shell.execute_reply.started": "2021-07-25T03:42:51.571110Z",
          "shell.execute_reply": "2021-07-25T03:43:05.719585Z"
        },
        "trusted": true,
        "id": "BZPbwrhTceIf"
      },
      "source": [
        "!unzip -q ./AIFORTHAI-ThaiWikiQA_NSC2020.zip\n",
        "\n",
        "!unzip -q ./AIFORTHAI-ThaiWikiQA_NSC2020/wiki-documents-nsc.zip"
      ],
      "execution_count": null,
      "outputs": []
    },
    {
      "cell_type": "code",
      "metadata": {
        "execution": {
          "iopub.status.busy": "2021-07-25T03:43:05.722977Z",
          "iopub.execute_input": "2021-07-25T03:43:05.723696Z",
          "iopub.status.idle": "2021-07-25T03:43:05.801918Z",
          "shell.execute_reply.started": "2021-07-25T03:43:05.723633Z",
          "shell.execute_reply": "2021-07-25T03:43:05.800589Z"
        },
        "trusted": true,
        "id": "NCgTNXHcceIg",
        "colab": {
          "base_uri": "https://localhost:8080/"
        },
        "outputId": "5ad8b4c5-473b-430b-d0b7-75611469d84c"
      },
      "source": [
        "device = torch.device(\"cuda\" if torch.cuda.is_available() else \"cpu\")\n",
        "\n",
        "random.seed(26)\n",
        "np.random.seed(26)\n",
        "torch.manual_seed(26)"
      ],
      "execution_count": null,
      "outputs": [
        {
          "output_type": "execute_result",
          "data": {
            "text/plain": [
              "<torch._C.Generator at 0x7f8f3c3dfd90>"
            ]
          },
          "metadata": {
            "tags": []
          },
          "execution_count": 5
        }
      ]
    },
    {
      "cell_type": "code",
      "metadata": {
        "execution": {
          "iopub.status.busy": "2021-07-25T03:43:05.803774Z",
          "iopub.execute_input": "2021-07-25T03:43:05.804535Z",
          "iopub.status.idle": "2021-07-25T03:43:05.809541Z",
          "shell.execute_reply.started": "2021-07-25T03:43:05.804491Z",
          "shell.execute_reply": "2021-07-25T03:43:05.808121Z"
        },
        "trusted": true,
        "id": "0rq_Ui1gceIh"
      },
      "source": [
        "model_name = \"deepset/xlm-roberta-large-squad2\" #@param [\"wangchanberta-base-att-spm-uncased\", \"xlm-roberta-base\", \"bert-base-multilingual-cased\", \"wangchanberta-base-wiki-newmm\", \"wangchanberta-base-wiki-syllable\", \"wangchanberta-base-wiki-sefr\", \"wangchanberta-base-wiki-spm\", \"deepset/xlm-roberta-large-squad2\", \"monsoon-nlp/bert-base-thai\", \"roberta-base\"]\n"
      ],
      "execution_count": null,
      "outputs": []
    },
    {
      "cell_type": "code",
      "metadata": {
        "execution": {
          "iopub.status.busy": "2021-07-25T03:43:05.814958Z",
          "iopub.execute_input": "2021-07-25T03:43:05.818878Z",
          "iopub.status.idle": "2021-07-25T03:44:34.058161Z",
          "shell.execute_reply.started": "2021-07-25T03:43:05.818823Z",
          "shell.execute_reply": "2021-07-25T03:44:34.057258Z"
        },
        "trusted": true,
        "colab": {
          "base_uri": "https://localhost:8080/",
          "height": 166,
          "referenced_widgets": [
            "9e08b0c65306441faf9ddf4c368b7693",
            "9e559f155dad45b7a2f6441ac5c51fac",
            "7937e23a8bd54c6f94e7c058ea4baca4",
            "d1d8e336f72140c48214639103a3ec1a",
            "77a85cf0f1304e7783f25ea5830f4c7e",
            "b2ef4937d8de45b59f08a2f673335e25",
            "6c8d624c848d4d3ca5db59164942ba0c",
            "77d8413af84e4b97af90b0175fb0761a",
            "9cf62038fb434cf4b915e1f0b2857909",
            "ddf440c594524d409ccc3e271f1bf920",
            "4aac28216900430dbd03edf0e16674a7",
            "2adc5d6f8fed4a11b3d7e0e2bb0710ff",
            "8c7e2196391441a8afecd95d9ed06399",
            "eab1aa6712ba46ef9d652bb67d39d989",
            "6196f4ada04043158d4cbf14dd97cc2a",
            "00d9f44545a046a0b3c4cf8ee2a433a3",
            "af3dc43dc15a448c9e1fd8c7799e4850",
            "f66f631f099b486b92c3b5527597e446",
            "5429002bf8024966a6ac0ccc50ecf6ea",
            "86d1cb2c881647858c51ca0f344ac8f0",
            "6ffff44d42b242e4af9dff117bbba44a",
            "4ee2a7e46d8e4ccca3549f8e680e617e",
            "0d819935ee22419b9c6ea1318fe90ca1",
            "bd139b30545e4fd6bf2e8362f02ccc7d"
          ]
        },
        "id": "Lmc5JW44ceIi",
        "outputId": "4ac8f27c-f771-411b-90c0-7fdef80723ae"
      },
      "source": [
        "# model = AutoModelForSequenceClassification.from_pretrained(model_name)\n",
        "model = AutoModelForSequenceClassification.from_pretrained(\"/content/drive/MyDrive/qahack2021/model\")\n",
        "model.to(device) # Send the model to the GPU if we have one\n",
        "tokenizer = AutoTokenizer.from_pretrained(model_name)"
      ],
      "execution_count": null,
      "outputs": [
        {
          "output_type": "display_data",
          "data": {
            "application/vnd.jupyter.widget-view+json": {
              "model_id": "9e08b0c65306441faf9ddf4c368b7693",
              "version_minor": 0,
              "version_major": 2
            },
            "text/plain": [
              "HBox(children=(FloatProgress(value=0.0, description='Downloading', max=5069051.0, style=ProgressStyle(descript…"
            ]
          },
          "metadata": {
            "tags": []
          }
        },
        {
          "output_type": "stream",
          "text": [
            "\n"
          ],
          "name": "stdout"
        },
        {
          "output_type": "display_data",
          "data": {
            "application/vnd.jupyter.widget-view+json": {
              "model_id": "9cf62038fb434cf4b915e1f0b2857909",
              "version_minor": 0,
              "version_major": 2
            },
            "text/plain": [
              "HBox(children=(FloatProgress(value=0.0, description='Downloading', max=150.0, style=ProgressStyle(description_…"
            ]
          },
          "metadata": {
            "tags": []
          }
        },
        {
          "output_type": "stream",
          "text": [
            "\n"
          ],
          "name": "stdout"
        },
        {
          "output_type": "display_data",
          "data": {
            "application/vnd.jupyter.widget-view+json": {
              "model_id": "af3dc43dc15a448c9e1fd8c7799e4850",
              "version_minor": 0,
              "version_major": 2
            },
            "text/plain": [
              "HBox(children=(FloatProgress(value=0.0, description='Downloading', max=179.0, style=ProgressStyle(description_…"
            ]
          },
          "metadata": {
            "tags": []
          }
        },
        {
          "output_type": "stream",
          "text": [
            "\n"
          ],
          "name": "stdout"
        }
      ]
    },
    {
      "cell_type": "code",
      "metadata": {
        "execution": {
          "iopub.status.busy": "2021-07-25T03:44:34.059965Z",
          "iopub.execute_input": "2021-07-25T03:44:34.060324Z",
          "iopub.status.idle": "2021-07-25T03:44:34.067523Z",
          "shell.execute_reply.started": "2021-07-25T03:44:34.060287Z",
          "shell.execute_reply": "2021-07-25T03:44:34.066406Z"
        },
        "trusted": true,
        "id": "eKxahCU9ceIk"
      },
      "source": [
        "def encode_data(tokenizer, questions, contexts, max_length):\n",
        "    input_ids = []\n",
        "    attention_masks = []\n",
        "\n",
        "    for question, context in zip(questions, contexts):\n",
        "        encoded_data = tokenizer.encode_plus(question, context, max_length=max_length, pad_to_max_length=True, truncation_strategy=\"longest_first\")\n",
        "        encoded_pair = encoded_data[\"input_ids\"]\n",
        "        attention_mask = encoded_data[\"attention_mask\"]\n",
        "\n",
        "        input_ids.append(encoded_pair)\n",
        "        attention_masks.append(attention_mask)\n",
        "\n",
        "    return np.array(input_ids), np.array(attention_masks)"
      ],
      "execution_count": null,
      "outputs": []
    },
    {
      "cell_type": "code",
      "metadata": {
        "execution": {
          "iopub.status.busy": "2021-07-25T03:44:34.068983Z",
          "iopub.execute_input": "2021-07-25T03:44:34.069508Z",
          "iopub.status.idle": "2021-07-25T03:44:34.210481Z",
          "shell.execute_reply.started": "2021-07-25T03:44:34.069469Z",
          "shell.execute_reply": "2021-07-25T03:44:34.209652Z"
        },
        "trusted": true,
        "colab": {
          "base_uri": "https://localhost:8080/",
          "height": 202
        },
        "id": "HypRKjKfceIl",
        "outputId": "f9e200d7-9885-4e71-da1d-cfb283450e86"
      },
      "source": [
        "# train test split\n",
        "yes_no_df = pd.read_csv('./AIFORTHAI-ThaiWikiQA_NSC2020/ThaiQACorpus-DevelopmentDataset.csv')\n",
        "yes_no_df = yes_no_df[yes_no_df['question_type']==2]\n",
        "\n",
        "yes_no_df.head()"
      ],
      "execution_count": null,
      "outputs": [
        {
          "output_type": "execute_result",
          "data": {
            "text/html": [
              "<div>\n",
              "<style scoped>\n",
              "    .dataframe tbody tr th:only-of-type {\n",
              "        vertical-align: middle;\n",
              "    }\n",
              "\n",
              "    .dataframe tbody tr th {\n",
              "        vertical-align: top;\n",
              "    }\n",
              "\n",
              "    .dataframe thead th {\n",
              "        text-align: right;\n",
              "    }\n",
              "</style>\n",
              "<table border=\"1\" class=\"dataframe\">\n",
              "  <thead>\n",
              "    <tr style=\"text-align: right;\">\n",
              "      <th></th>\n",
              "      <th>question_id</th>\n",
              "      <th>question_type</th>\n",
              "      <th>question</th>\n",
              "      <th>answer</th>\n",
              "      <th>answer_begin_position</th>\n",
              "      <th>answer_end_position</th>\n",
              "      <th>article_id</th>\n",
              "    </tr>\n",
              "  </thead>\n",
              "  <tbody>\n",
              "    <tr>\n",
              "      <th>15000</th>\n",
              "      <td>15001</td>\n",
              "      <td>2</td>\n",
              "      <td>ภาษาฮีบรูอาซเกนาซีเป็นระบบการออกเสียงของภาษาฮี...</td>\n",
              "      <td>ไม่ใช่</td>\n",
              "      <td>NaN</td>\n",
              "      <td>NaN</td>\n",
              "      <td>265515</td>\n",
              "    </tr>\n",
              "    <tr>\n",
              "      <th>15001</th>\n",
              "      <td>15002</td>\n",
              "      <td>2</td>\n",
              "      <td>แองคิโลซอรัสเป็นไดโนเสาร์ที่เล็กที่สุดในสกุล แ...</td>\n",
              "      <td>ไม่ใช่</td>\n",
              "      <td>NaN</td>\n",
              "      <td>NaN</td>\n",
              "      <td>319289</td>\n",
              "    </tr>\n",
              "    <tr>\n",
              "      <th>15002</th>\n",
              "      <td>15003</td>\n",
              "      <td>2</td>\n",
              "      <td>ลูกตุ้มขนาดใหญ่ของ แองคิโลซอรัส เป็นส่วนกระดูก...</td>\n",
              "      <td>ไม่ใช่</td>\n",
              "      <td>NaN</td>\n",
              "      <td>NaN</td>\n",
              "      <td>319289</td>\n",
              "    </tr>\n",
              "    <tr>\n",
              "      <th>15003</th>\n",
              "      <td>15004</td>\n",
              "      <td>2</td>\n",
              "      <td>แอบถ่าย หรือโรคถ้ำมองเป็นความสนใจหรือข้อประพฤต...</td>\n",
              "      <td>ไม่ใช่</td>\n",
              "      <td>NaN</td>\n",
              "      <td>NaN</td>\n",
              "      <td>773798</td>\n",
              "    </tr>\n",
              "    <tr>\n",
              "      <th>15004</th>\n",
              "      <td>15005</td>\n",
              "      <td>2</td>\n",
              "      <td>เอเชียนอินดอร์-มาร์เชียลอาร์ตสเกมส์เป็นการแข่ง...</td>\n",
              "      <td>ไม่ใช่</td>\n",
              "      <td>NaN</td>\n",
              "      <td>NaN</td>\n",
              "      <td>358523</td>\n",
              "    </tr>\n",
              "  </tbody>\n",
              "</table>\n",
              "</div>"
            ],
            "text/plain": [
              "       question_id  question_type  ... answer_end_position article_id\n",
              "15000        15001              2  ...                 NaN     265515\n",
              "15001        15002              2  ...                 NaN     319289\n",
              "15002        15003              2  ...                 NaN     319289\n",
              "15003        15004              2  ...                 NaN     773798\n",
              "15004        15005              2  ...                 NaN     358523\n",
              "\n",
              "[5 rows x 7 columns]"
            ]
          },
          "metadata": {
            "tags": []
          },
          "execution_count": 13
        }
      ]
    },
    {
      "cell_type": "code",
      "metadata": {
        "execution": {
          "iopub.status.busy": "2021-07-25T03:44:34.211849Z",
          "iopub.execute_input": "2021-07-25T03:44:34.212204Z",
          "iopub.status.idle": "2021-07-25T03:44:34.225649Z",
          "shell.execute_reply.started": "2021-07-25T03:44:34.212165Z",
          "shell.execute_reply": "2021-07-25T03:44:34.224874Z"
        },
        "trusted": true,
        "id": "GtD8NUuuceIm"
      },
      "source": [
        "def clean_text(text):\n",
        "    regrex_pattern = re.compile(pattern = \"[\"\n",
        "        u\"\\U0001F600-\\U0001F64F\"  # emoticons\n",
        "        u\"\\U0001F300-\\U0001F5FF\"  # symbols & pictographs\n",
        "        u\"\\U0001F680-\\U0001F6FF\"  # transport & map symbols\n",
        "        u\"\\U0001F1E0-\\U0001F1FF\"  # flags (iOS)\n",
        "                           \"]+\", flags = re.UNICODE)\n",
        "    return regrex_pattern.sub(r'',text)\n",
        "\n",
        "def remove_HTML_syntax(input_text):\n",
        "    text = ''\n",
        "    accumulate = False\n",
        "    output_text = input_text\n",
        "    for char in input_text:\n",
        "        if char == '<':\n",
        "            accumulate = True\n",
        "        elif char == '>':\n",
        "            output_text = output_text.replace(text + char, '')\n",
        "            text = ''\n",
        "            accumulate = False\n",
        "        \n",
        "        if accumulate:\n",
        "            text += char\n",
        "\n",
        "    return output_text\n",
        "\n",
        "def context_and_hashtag(file_path):\n",
        "    context_and_hashtag = {}\n",
        "    with open(file_path, encoding=\"utf-8\") as f:\n",
        "        lines = f.readlines()\n",
        "        hashtag = \"\"\n",
        "        raw = \"\"\n",
        "        for line in lines:\n",
        "            if not line.startswith(\"#\") and len(line.strip()) >= 2:\n",
        "                line = clean_text(line)\n",
        "                # line = line.replace(\"”\", \"\").replace(\"“\", \"\")\n",
        "                line = line.strip()\n",
        "                raw += line\n",
        "            elif line.startswith(\"#\"):\n",
        "                 hashtag += line.strip()\n",
        "    context_and_hashtag[file_path] = {\"context\": raw, \"hashtag\": hashtag}\n",
        "    return context_and_hashtag\n",
        "    \n",
        "def preprocessing(df):\n",
        "    # df[\"article_id\"] = df[\"article_path\"].apply(lambda x: x[-7:])\n",
        "    df['context_and_hashtag'] = [context_and_hashtag(x) for x in df[\"article_path\"]]\n",
        "    df[\"context\"] = [list(x.values())[0]['context'] for x in df['context_and_hashtag']]\n",
        "    df[\"hashtag\"] = [list(x.values())[0]['hashtag'] for x in df['context_and_hashtag']]\n",
        "    df[\"Predicted\"] = \"\"\n",
        "    df['context'] = df['context'].map(lambda x: remove_HTML_syntax(x))\n",
        "    return df"
      ],
      "execution_count": null,
      "outputs": []
    },
    {
      "cell_type": "code",
      "metadata": {
        "execution": {
          "iopub.status.busy": "2021-07-25T03:44:34.227093Z",
          "iopub.execute_input": "2021-07-25T03:44:34.227548Z",
          "iopub.status.idle": "2021-07-25T03:44:35.265886Z",
          "shell.execute_reply.started": "2021-07-25T03:44:34.227511Z",
          "shell.execute_reply": "2021-07-25T03:44:35.264975Z"
        },
        "trusted": true,
        "colab": {
          "base_uri": "https://localhost:8080/",
          "height": 202
        },
        "id": "2M_euQkeceIp",
        "outputId": "44204bb1-cd0f-4ceb-c8da-3486c43bb5f6"
      },
      "source": [
        "text_yesno_path = './wiki-documents-nsc'\n",
        "\n",
        "yes_no_df['article_path']  = [os.path.join(text_yesno_path, str(x)+'.txt') for x in yes_no_df['article_id']]\n",
        "\n",
        "booleanDictionary = {'ใช่': True, 'ไม่ใช่': False}\n",
        "yes_no_df['answer'] = yes_no_df['answer'].replace(booleanDictionary)\n",
        "\n",
        "yes_no_df = preprocessing(yes_no_df)[['question_id', 'question', 'answer', 'article_id', 'article_path', 'context']]\n",
        "yes_no_df.head()"
      ],
      "execution_count": null,
      "outputs": [
        {
          "output_type": "execute_result",
          "data": {
            "text/html": [
              "<div>\n",
              "<style scoped>\n",
              "    .dataframe tbody tr th:only-of-type {\n",
              "        vertical-align: middle;\n",
              "    }\n",
              "\n",
              "    .dataframe tbody tr th {\n",
              "        vertical-align: top;\n",
              "    }\n",
              "\n",
              "    .dataframe thead th {\n",
              "        text-align: right;\n",
              "    }\n",
              "</style>\n",
              "<table border=\"1\" class=\"dataframe\">\n",
              "  <thead>\n",
              "    <tr style=\"text-align: right;\">\n",
              "      <th></th>\n",
              "      <th>question_id</th>\n",
              "      <th>question</th>\n",
              "      <th>answer</th>\n",
              "      <th>article_id</th>\n",
              "      <th>article_path</th>\n",
              "      <th>context</th>\n",
              "    </tr>\n",
              "  </thead>\n",
              "  <tbody>\n",
              "    <tr>\n",
              "      <th>15000</th>\n",
              "      <td>15001</td>\n",
              "      <td>ภาษาฮีบรูอาซเกนาซีเป็นระบบการออกเสียงของภาษาฮี...</td>\n",
              "      <td>False</td>\n",
              "      <td>265515</td>\n",
              "      <td>./wiki-documents-nsc/265515.txt</td>\n",
              "      <td>ภาษาฮีบรูอาซเกนาซี ภาษาฮีบรูอาซเกนาซี (Ashkena...</td>\n",
              "    </tr>\n",
              "    <tr>\n",
              "      <th>15001</th>\n",
              "      <td>15002</td>\n",
              "      <td>แองคิโลซอรัสเป็นไดโนเสาร์ที่เล็กที่สุดในสกุล แ...</td>\n",
              "      <td>False</td>\n",
              "      <td>319289</td>\n",
              "      <td>./wiki-documents-nsc/319289.txt</td>\n",
              "      <td>แองคิโลซอรัส แองคิโลซอรัส () เป็นไดโนเสาร์ที่ใ...</td>\n",
              "    </tr>\n",
              "    <tr>\n",
              "      <th>15002</th>\n",
              "      <td>15003</td>\n",
              "      <td>ลูกตุ้มขนาดใหญ่ของ แองคิโลซอรัส เป็นส่วนกระดูก...</td>\n",
              "      <td>False</td>\n",
              "      <td>319289</td>\n",
              "      <td>./wiki-documents-nsc/319289.txt</td>\n",
              "      <td>แองคิโลซอรัส แองคิโลซอรัส () เป็นไดโนเสาร์ที่ใ...</td>\n",
              "    </tr>\n",
              "    <tr>\n",
              "      <th>15003</th>\n",
              "      <td>15004</td>\n",
              "      <td>แอบถ่าย หรือโรคถ้ำมองเป็นความสนใจหรือข้อประพฤต...</td>\n",
              "      <td>False</td>\n",
              "      <td>773798</td>\n",
              "      <td>./wiki-documents-nsc/773798.txt</td>\n",
              "      <td>โรคถ้ำมอง แอบถายโรคถ้ำมอง () หรือ ความชอบแอบดู...</td>\n",
              "    </tr>\n",
              "    <tr>\n",
              "      <th>15004</th>\n",
              "      <td>15005</td>\n",
              "      <td>เอเชียนอินดอร์-มาร์เชียลอาร์ตสเกมส์เป็นการแข่ง...</td>\n",
              "      <td>False</td>\n",
              "      <td>358523</td>\n",
              "      <td>./wiki-documents-nsc/358523.txt</td>\n",
              "      <td>เอเชียนอินดอร์-มาร์เชียลอาร์ตสเกมส์ เอเชียนอิน...</td>\n",
              "    </tr>\n",
              "  </tbody>\n",
              "</table>\n",
              "</div>"
            ],
            "text/plain": [
              "       question_id  ...                                            context\n",
              "15000        15001  ...  ภาษาฮีบรูอาซเกนาซี ภาษาฮีบรูอาซเกนาซี (Ashkena...\n",
              "15001        15002  ...  แองคิโลซอรัส แองคิโลซอรัส () เป็นไดโนเสาร์ที่ใ...\n",
              "15002        15003  ...  แองคิโลซอรัส แองคิโลซอรัส () เป็นไดโนเสาร์ที่ใ...\n",
              "15003        15004  ...  โรคถ้ำมอง แอบถายโรคถ้ำมอง () หรือ ความชอบแอบดู...\n",
              "15004        15005  ...  เอเชียนอินดอร์-มาร์เชียลอาร์ตสเกมส์ เอเชียนอิน...\n",
              "\n",
              "[5 rows x 6 columns]"
            ]
          },
          "metadata": {
            "tags": []
          },
          "execution_count": 15
        }
      ]
    },
    {
      "cell_type": "code",
      "metadata": {
        "execution": {
          "iopub.status.busy": "2021-07-25T03:44:35.267274Z",
          "iopub.execute_input": "2021-07-25T03:44:35.267650Z",
          "iopub.status.idle": "2021-07-25T03:44:35.291853Z",
          "shell.execute_reply.started": "2021-07-25T03:44:35.267615Z",
          "shell.execute_reply": "2021-07-25T03:44:35.290927Z"
        },
        "trusted": true,
        "colab": {
          "base_uri": "https://localhost:8080/",
          "height": 386
        },
        "id": "zpc2H0y3ceIq",
        "outputId": "444faf31-36e9-46ab-add8-683cd35a1f3f"
      },
      "source": [
        "train_yes_no, test_yes_no = train_test_split(yes_no_df, test_size=0.33, random_state=42)\n",
        "display(train_yes_no)\n",
        "display(test_yes_no)"
      ],
      "execution_count": null,
      "outputs": [
        {
          "output_type": "display_data",
          "data": {
            "text/html": [
              "<div>\n",
              "<style scoped>\n",
              "    .dataframe tbody tr th:only-of-type {\n",
              "        vertical-align: middle;\n",
              "    }\n",
              "\n",
              "    .dataframe tbody tr th {\n",
              "        vertical-align: top;\n",
              "    }\n",
              "\n",
              "    .dataframe thead th {\n",
              "        text-align: right;\n",
              "    }\n",
              "</style>\n",
              "<table border=\"1\" class=\"dataframe\">\n",
              "  <thead>\n",
              "    <tr style=\"text-align: right;\">\n",
              "      <th></th>\n",
              "      <th>question_id</th>\n",
              "      <th>question</th>\n",
              "      <th>answer</th>\n",
              "      <th>article_id</th>\n",
              "      <th>article_path</th>\n",
              "      <th>context</th>\n",
              "    </tr>\n",
              "  </thead>\n",
              "  <tbody>\n",
              "    <tr>\n",
              "      <th>15081</th>\n",
              "      <td>15082</td>\n",
              "      <td>นายแพทย์กันตพงศ์ เล่าลือพงศ์ศิริ จบการศึกษาเมื...</td>\n",
              "      <td>False</td>\n",
              "      <td>169093</td>\n",
              "      <td>./wiki-documents-nsc/169093.txt</td>\n",
              "      <td>กันตพงศ์ เล่าลือพงศ์ศิริ นายแพทย์กันตพงศ์ เล่า...</td>\n",
              "    </tr>\n",
              "    <tr>\n",
              "      <th>15915</th>\n",
              "      <td>15916</td>\n",
              "      <td>มูนไลต์ เป็นรายการโทรทัศน์จากสหรัฐอเมริกา ที่ส...</td>\n",
              "      <td>True</td>\n",
              "      <td>182098</td>\n",
              "      <td>./wiki-documents-nsc/182098.txt</td>\n",
              "      <td>มูนไลต์ มูนไลต์ () เป็นรายการโทรทัศน์จากสหรัฐอ...</td>\n",
              "    </tr>\n",
              "    <tr>\n",
              "      <th>16018</th>\n",
              "      <td>16019</td>\n",
              "      <td>มาซีโดเนียวิทยุและโทรทัศน์เป็นทรัพย์สินของทางส...</td>\n",
              "      <td>True</td>\n",
              "      <td>256700</td>\n",
              "      <td>./wiki-documents-nsc/256700.txt</td>\n",
              "      <td>สถานีวิทยุโทรทัศน์แห่งชาติมาซิโดเนีย สถานีวิทย...</td>\n",
              "    </tr>\n",
              "    <tr>\n",
              "      <th>15380</th>\n",
              "      <td>15381</td>\n",
              "      <td>จานบิน หรือจานผี เป็นคำทั่วไปใช้เรียกวัตถุบินท...</td>\n",
              "      <td>False</td>\n",
              "      <td>120401</td>\n",
              "      <td>./wiki-documents-nsc/120401.txt</td>\n",
              "      <td>จานบิน จานบิน () หรือจานผี เป็นวัตถุบิน ลักษณะ...</td>\n",
              "    </tr>\n",
              "    <tr>\n",
              "      <th>16029</th>\n",
              "      <td>16030</td>\n",
              "      <td>ถ้าความดันไอถูกผสมด้วยก๊าซอื่นเรียก ความดันย่อ...</td>\n",
              "      <td>True</td>\n",
              "      <td>23799</td>\n",
              "      <td>./wiki-documents-nsc/23799.txt</td>\n",
              "      <td>ความดันไอ ความดันไอ () คือ ความดัน (ถ้าไอถูกผส...</td>\n",
              "    </tr>\n",
              "  </tbody>\n",
              "</table>\n",
              "</div>"
            ],
            "text/plain": [
              "       question_id  ...                                            context\n",
              "15081        15082  ...  กันตพงศ์ เล่าลือพงศ์ศิริ นายแพทย์กันตพงศ์ เล่า...\n",
              "15915        15916  ...  มูนไลต์ มูนไลต์ () เป็นรายการโทรทัศน์จากสหรัฐอ...\n",
              "16018        16019  ...  สถานีวิทยุโทรทัศน์แห่งชาติมาซิโดเนีย สถานีวิทย...\n",
              "15380        15381  ...  จานบิน จานบิน () หรือจานผี เป็นวัตถุบิน ลักษณะ...\n",
              "16029        16030  ...  ความดันไอ ความดันไอ () คือ ความดัน (ถ้าไอถูกผส...\n",
              "\n",
              "[5 rows x 6 columns]"
            ]
          },
          "metadata": {
            "tags": []
          }
        },
        {
          "output_type": "display_data",
          "data": {
            "text/html": [
              "<div>\n",
              "<style scoped>\n",
              "    .dataframe tbody tr th:only-of-type {\n",
              "        vertical-align: middle;\n",
              "    }\n",
              "\n",
              "    .dataframe tbody tr th {\n",
              "        vertical-align: top;\n",
              "    }\n",
              "\n",
              "    .dataframe thead th {\n",
              "        text-align: right;\n",
              "    }\n",
              "</style>\n",
              "<table border=\"1\" class=\"dataframe\">\n",
              "  <thead>\n",
              "    <tr style=\"text-align: right;\">\n",
              "      <th></th>\n",
              "      <th>question_id</th>\n",
              "      <th>question</th>\n",
              "      <th>answer</th>\n",
              "      <th>article_id</th>\n",
              "      <th>article_path</th>\n",
              "      <th>context</th>\n",
              "    </tr>\n",
              "  </thead>\n",
              "  <tbody>\n",
              "    <tr>\n",
              "      <th>16860</th>\n",
              "      <td>16861</td>\n",
              "      <td>บีกานามัยซินถูกดูดซึมได้น้อยมากในทางเดินอาหาร ...</td>\n",
              "      <td>False</td>\n",
              "      <td>911752</td>\n",
              "      <td>./wiki-documents-nsc/911752.txt</td>\n",
              "      <td>บีกานามัยซิน บีกานามัยซิน หรือ กานามัยซิน บี (...</td>\n",
              "    </tr>\n",
              "    <tr>\n",
              "      <th>15353</th>\n",
              "      <td>15354</td>\n",
              "      <td>\"ยูบีลองวิทมี\"เป็นเพลงคันทรีป็อปของนักร้องนักแ...</td>\n",
              "      <td>False</td>\n",
              "      <td>313746</td>\n",
              "      <td>./wiki-documents-nsc/313746.txt</td>\n",
              "      <td>ยูบีลองวิทมี \"ยูบีลองวิทมี\" () เป็นเพลงแนวคันท...</td>\n",
              "    </tr>\n",
              "    <tr>\n",
              "      <th>16333</th>\n",
              "      <td>16334</td>\n",
              "      <td>ลินดา หลิน ไต้เป็นนางเอกภาพยนตร์ภาษาจีนกลางในส...</td>\n",
              "      <td>True</td>\n",
              "      <td>423334</td>\n",
              "      <td>./wiki-documents-nsc/423334.txt</td>\n",
              "      <td>หลิน ไต้ ลินดา หลิน ไต้ (; ) เป็นนักแสดงหญิงชา...</td>\n",
              "    </tr>\n",
              "    <tr>\n",
              "      <th>15905</th>\n",
              "      <td>15906</td>\n",
              "      <td>ทรูคริปต์เป็นชุดคำสั่งที่ถูกสร้างขึ้นเพื่อใช้ใ...</td>\n",
              "      <td>True</td>\n",
              "      <td>151119</td>\n",
              "      <td>./wiki-documents-nsc/151119.txt</td>\n",
              "      <td>ทรูคริปต์ ทรูคริปต์ () เป็นซอฟต์แวร์ประเภทโอเพ...</td>\n",
              "    </tr>\n",
              "    <tr>\n",
              "      <th>16289</th>\n",
              "      <td>16290</td>\n",
              "      <td>มาตลีเทพบุตรถือของหอมและดอกไม้ทิพย์โปรยปรายในร...</td>\n",
              "      <td>True</td>\n",
              "      <td>58298</td>\n",
              "      <td>./wiki-documents-nsc/58298.txt</td>\n",
              "      <td>ปางเสด็จลงจากดาวดึงส์ ปางเสด็จลงจากดาวดึงส์ ทำ...</td>\n",
              "    </tr>\n",
              "  </tbody>\n",
              "</table>\n",
              "</div>"
            ],
            "text/plain": [
              "       question_id  ...                                            context\n",
              "16860        16861  ...  บีกานามัยซิน บีกานามัยซิน หรือ กานามัยซิน บี (...\n",
              "15353        15354  ...  ยูบีลองวิทมี \"ยูบีลองวิทมี\" () เป็นเพลงแนวคันท...\n",
              "16333        16334  ...  หลิน ไต้ ลินดา หลิน ไต้ (; ) เป็นนักแสดงหญิงชา...\n",
              "15905        15906  ...  ทรูคริปต์ ทรูคริปต์ () เป็นซอฟต์แวร์ประเภทโอเพ...\n",
              "16289        16290  ...  ปางเสด็จลงจากดาวดึงส์ ปางเสด็จลงจากดาวดึงส์ ทำ...\n",
              "\n",
              "[5 rows x 6 columns]"
            ]
          },
          "metadata": {
            "tags": []
          }
        }
      ]
    },
    {
      "cell_type": "markdown",
      "metadata": {
        "id": "KZ36eW9jceIr"
      },
      "source": [
        "# Training"
      ]
    },
    {
      "cell_type": "code",
      "metadata": {
        "execution": {
          "iopub.status.busy": "2021-07-25T03:44:35.293103Z",
          "iopub.execute_input": "2021-07-25T03:44:35.293465Z",
          "iopub.status.idle": "2021-07-25T03:44:35.304925Z",
          "shell.execute_reply.started": "2021-07-25T03:44:35.293429Z",
          "shell.execute_reply": "2021-07-25T03:44:35.304123Z"
        },
        "trusted": true,
        "id": "xLOw0GDkceIs"
      },
      "source": [
        "learning_rate = 1e-5\n",
        "optimizer = AdamW(model.parameters(), lr=learning_rate, eps=1e-8)"
      ],
      "execution_count": null,
      "outputs": []
    },
    {
      "cell_type": "code",
      "metadata": {
        "execution": {
          "iopub.status.busy": "2021-07-25T03:44:35.306058Z",
          "iopub.execute_input": "2021-07-25T03:44:35.306558Z",
          "iopub.status.idle": "2021-07-25T03:44:35.312871Z",
          "shell.execute_reply.started": "2021-07-25T03:44:35.306520Z",
          "shell.execute_reply": "2021-07-25T03:44:35.311930Z"
        },
        "trusted": true,
        "id": "SEeZYSZKceIs"
      },
      "source": [
        "contexts_train = train_yes_no.context.values\n",
        "questions_train = train_yes_no.question.values\n",
        "answers_train = train_yes_no.answer.values.astype(int)\n",
        "\n",
        "contexts_test = test_yes_no.context.values\n",
        "questions_test = test_yes_no.question.values\n",
        "answers_test = test_yes_no.answer.values.astype(int)"
      ],
      "execution_count": null,
      "outputs": []
    },
    {
      "cell_type": "code",
      "metadata": {
        "execution": {
          "iopub.status.busy": "2021-07-25T03:44:35.314029Z",
          "iopub.execute_input": "2021-07-25T03:44:35.314383Z",
          "iopub.status.idle": "2021-07-25T03:44:43.464565Z",
          "shell.execute_reply.started": "2021-07-25T03:44:35.314349Z",
          "shell.execute_reply": "2021-07-25T03:44:43.463658Z"
        },
        "trusted": true,
        "id": "J8GCASU7ceIt"
      },
      "source": [
        "# Encoding data\n",
        "max_seq_length = 412\n",
        "input_ids_train, attention_masks_train = encode_data(tokenizer, questions_train, contexts_train, max_seq_length)\n",
        "input_ids_test, attention_masks_test = encode_data(tokenizer, questions_test, contexts_test, max_seq_length)\n",
        "\n",
        "train_features = (input_ids_train, attention_masks_train, answers_train)\n",
        "test_features = (input_ids_test, attention_masks_test, answers_test)"
      ],
      "execution_count": null,
      "outputs": []
    },
    {
      "cell_type": "code",
      "metadata": {
        "execution": {
          "iopub.status.busy": "2021-07-25T03:45:18.008902Z",
          "iopub.execute_input": "2021-07-25T03:45:18.009250Z",
          "iopub.status.idle": "2021-07-25T03:45:18.022710Z",
          "shell.execute_reply.started": "2021-07-25T03:45:18.009220Z",
          "shell.execute_reply": "2021-07-25T03:45:18.021735Z"
        },
        "trusted": true,
        "id": "6IezO4I0ceIu"
      },
      "source": [
        "batch_size = 4\n",
        "\n",
        "train_features_tensors = [torch.tensor(feature, dtype=torch.long) for feature in train_features]\n",
        "test_features_tensors = [torch.tensor(feature, dtype=torch.long) for feature in test_features]\n",
        "\n",
        "train_dataset = TensorDataset(*train_features_tensors)\n",
        "test_dataset = TensorDataset(*test_features_tensors)\n",
        "\n",
        "train_sampler = RandomSampler(train_dataset)\n",
        "dev_sampler = SequentialSampler(test_dataset)\n",
        "\n",
        "train_dataloader = DataLoader(train_dataset, sampler=train_sampler, batch_size=batch_size)\n",
        "test_dataloader = DataLoader(test_dataset, sampler=dev_sampler, batch_size=batch_size)"
      ],
      "execution_count": null,
      "outputs": []
    },
    {
      "cell_type": "code",
      "metadata": {
        "execution": {
          "iopub.status.busy": "2021-07-25T03:45:42.091262Z",
          "iopub.execute_input": "2021-07-25T03:45:42.091683Z",
          "iopub.status.idle": "2021-07-25T03:45:42.566609Z",
          "shell.execute_reply.started": "2021-07-25T03:45:42.091637Z",
          "shell.execute_reply": "2021-07-25T03:45:42.565581Z"
        },
        "trusted": true,
        "id": "9KGfORPwceIv"
      },
      "source": [
        "import gc\n",
        "gc.collect()\n",
        "torch.cuda.empty_cache() "
      ],
      "execution_count": null,
      "outputs": []
    },
    {
      "cell_type": "code",
      "metadata": {
        "execution": {
          "iopub.status.busy": "2021-07-25T03:45:44.949751Z",
          "iopub.execute_input": "2021-07-25T03:45:44.950087Z",
          "iopub.status.idle": "2021-07-25T03:45:44.954519Z",
          "shell.execute_reply.started": "2021-07-25T03:45:44.950055Z",
          "shell.execute_reply": "2021-07-25T03:45:44.953431Z"
        },
        "trusted": true,
        "id": "zfgtLyMmceIw"
      },
      "source": [
        "epochs = 5\n",
        "grad_acc_steps = 1\n",
        "display_steps = 1\n",
        "train_loss_values = []\n",
        "test_acc_values = []"
      ],
      "execution_count": null,
      "outputs": []
    },
    {
      "cell_type": "code",
      "metadata": {
        "execution": {
          "iopub.status.busy": "2021-07-25T03:45:46.351097Z",
          "iopub.execute_input": "2021-07-25T03:45:46.351501Z",
          "iopub.status.idle": "2021-07-25T03:54:07.287498Z",
          "shell.execute_reply.started": "2021-07-25T03:45:46.351462Z",
          "shell.execute_reply": "2021-07-25T03:54:07.285919Z"
        },
        "trusted": true,
        "colab": {
          "base_uri": "https://localhost:8080/"
        },
        "id": "wrBnu7nRceIx",
        "outputId": "551d504f-3d13-444b-8e8f-74fab4dd9c8b"
      },
      "source": [
        "for epoch in range(epochs):\n",
        "    # Training\n",
        "    epoch_train_loss = 0 # Cumulative loss\n",
        "    model.train()\n",
        "    model.zero_grad()\n",
        "\n",
        "    for step, batch in tqdm(enumerate(train_dataloader), desc='Steps: '):\n",
        "\n",
        "        input_ids = batch[0].to(device)\n",
        "        attention_masks = batch[1].to(device)\n",
        "        labels = batch[2].to(device) \n",
        "\n",
        "        outputs = model(input_ids, token_type_ids=None, attention_mask=attention_masks, labels=labels)\n",
        "\n",
        "        loss = outputs[0]\n",
        "        loss = loss / grad_acc_steps\n",
        "        epoch_train_loss += loss.item()\n",
        "\n",
        "        loss.backward()\n",
        "\n",
        "        if (step+1) % grad_acc_steps == 0: # Gradient accumulation is over\n",
        "            torch.nn.utils.clip_grad_norm_(model.parameters(), 1.0) # Clipping gradients\n",
        "            optimizer.step()\n",
        "            model.zero_grad()\n",
        "        # torch.cuda.empty_cache() \n",
        "\n",
        "    epoch_train_loss = epoch_train_loss / len(train_dataloader)          \n",
        "    train_loss_values.append(epoch_train_loss)\n",
        "\n",
        "    if epoch % display_steps == 0:\n",
        "        print('Train loss: ', epoch_train_loss)\n",
        "\n",
        "    # Evaluation\n",
        "    epoch_dev_accuracy = 0 # Cumulative accuracy\n",
        "    model.eval()\n",
        "\n",
        "    for batch in test_dataloader:\n",
        "        input_ids = batch[0].to(device)\n",
        "        attention_masks = batch[1].to(device)\n",
        "        labels = batch[2]\n",
        "                \n",
        "        with torch.no_grad():        \n",
        "            outputs = model(input_ids, token_type_ids=None, attention_mask=attention_masks)\n",
        "                    \n",
        "        logits = outputs[0]\n",
        "        logits = logits.detach().cpu().numpy()\n",
        "\n",
        "        predictions = np.argmax(logits, axis=1).flatten()\n",
        "        labels = labels.numpy().flatten()\n",
        "\n",
        "        epoch_dev_accuracy += np.sum(predictions == labels) / len(labels)\n",
        "\n",
        "    epoch_dev_accuracy = epoch_dev_accuracy / len(test_dataloader)\n",
        "    test_acc_values.append(epoch_dev_accuracy)\n",
        "\n",
        "    if epoch % display_steps == 0:\n",
        "        print('Test acc: ', epoch_dev_accuracy)"
      ],
      "execution_count": null,
      "outputs": [
        {
          "output_type": "stream",
          "text": [
            "Steps: : 0it [00:00, ?it/s]/usr/local/lib/python3.7/dist-packages/transformers/optimization.py:155: UserWarning: This overload of add_ is deprecated:\n",
            "\tadd_(Number alpha, Tensor other)\n",
            "Consider using one of the following signatures instead:\n",
            "\tadd_(Tensor other, *, Number alpha) (Triggered internally at  /pytorch/torch/csrc/utils/python_arg_parser.cpp:1025.)\n",
            "  exp_avg.mul_(beta1).add_(1.0 - beta1, grad)\n",
            "Steps: : 335it [03:36,  1.55it/s]\n"
          ],
          "name": "stderr"
        },
        {
          "output_type": "stream",
          "text": [
            "Train loss:  0.4259575330115396\n"
          ],
          "name": "stdout"
        },
        {
          "output_type": "stream",
          "text": [
            "\rSteps: : 0it [00:00, ?it/s]"
          ],
          "name": "stderr"
        },
        {
          "output_type": "stream",
          "text": [
            "Test acc:  0.9363636363636364\n"
          ],
          "name": "stdout"
        },
        {
          "output_type": "stream",
          "text": [
            "Steps: : 335it [03:35,  1.55it/s]\n"
          ],
          "name": "stderr"
        },
        {
          "output_type": "stream",
          "text": [
            "Train loss:  0.3094923945516956\n"
          ],
          "name": "stdout"
        },
        {
          "output_type": "stream",
          "text": [
            "\rSteps: : 0it [00:00, ?it/s]"
          ],
          "name": "stderr"
        },
        {
          "output_type": "stream",
          "text": [
            "Test acc:  0.9378787878787879\n"
          ],
          "name": "stdout"
        },
        {
          "output_type": "stream",
          "text": [
            "Steps: : 335it [03:35,  1.56it/s]\n"
          ],
          "name": "stderr"
        },
        {
          "output_type": "stream",
          "text": [
            "Train loss:  0.1704186133598803\n"
          ],
          "name": "stdout"
        },
        {
          "output_type": "stream",
          "text": [
            "\rSteps: : 0it [00:00, ?it/s]"
          ],
          "name": "stderr"
        },
        {
          "output_type": "stream",
          "text": [
            "Test acc:  0.9212121212121213\n"
          ],
          "name": "stdout"
        },
        {
          "output_type": "stream",
          "text": [
            "Steps: : 335it [03:34,  1.56it/s]\n"
          ],
          "name": "stderr"
        },
        {
          "output_type": "stream",
          "text": [
            "Train loss:  0.10863958116136005\n"
          ],
          "name": "stdout"
        },
        {
          "output_type": "stream",
          "text": [
            "\rSteps: : 0it [00:00, ?it/s]"
          ],
          "name": "stderr"
        },
        {
          "output_type": "stream",
          "text": [
            "Test acc:  0.9318181818181818\n"
          ],
          "name": "stdout"
        },
        {
          "output_type": "stream",
          "text": [
            "Steps: : 335it [03:35,  1.56it/s]\n"
          ],
          "name": "stderr"
        },
        {
          "output_type": "stream",
          "text": [
            "Train loss:  0.08309530012437477\n",
            "Test acc:  0.9136363636363637\n"
          ],
          "name": "stdout"
        }
      ]
    },
    {
      "cell_type": "markdown",
      "metadata": {
        "id": "kUkWam8cceIz"
      },
      "source": [
        "# Inference"
      ]
    },
    {
      "cell_type": "code",
      "metadata": {
        "execution": {
          "iopub.status.busy": "2021-07-25T03:54:07.757260Z",
          "iopub.execute_input": "2021-07-25T03:54:07.757753Z",
          "iopub.status.idle": "2021-07-25T03:54:07.766490Z",
          "shell.execute_reply.started": "2021-07-25T03:54:07.757710Z",
          "shell.execute_reply": "2021-07-25T03:54:07.765697Z"
        },
        "trusted": true,
        "id": "onQ75SQHceI0"
      },
      "source": [
        "def predict(question, context, max_length=416):\n",
        "    sequence = tokenizer.encode_plus(question, context, return_tensors=\"pt\", max_length=max_length, truncation_strategy=\"longest_first\")['input_ids'].to(device)\n",
        "    logits = model(sequence)[0]\n",
        "    probabilities = torch.softmax(logits, dim=1).detach().cpu().tolist()[0]\n",
        "    prediction = np.array(probabilities).argmax()\n",
        "    return int(prediction) # 1->Yes, 0-> NO"
      ],
      "execution_count": null,
      "outputs": []
    },
    {
      "cell_type": "code",
      "metadata": {
        "execution": {
          "iopub.status.busy": "2021-07-25T03:54:07.769078Z",
          "iopub.execute_input": "2021-07-25T03:54:07.769452Z",
          "iopub.status.idle": "2021-07-25T03:54:07.776649Z",
          "shell.execute_reply.started": "2021-07-25T03:54:07.769416Z",
          "shell.execute_reply": "2021-07-25T03:54:07.775894Z"
        },
        "trusted": true,
        "id": "e6LzSC5mceI1"
      },
      "source": [
        "def run_yes_no(df):\n",
        "    yes_no_prediction = []\n",
        "    for row in tqdm(df.itertuples()):\n",
        "        question = str(row.question)\n",
        "        context = str(row.context)\n",
        "\n",
        "        if \"ใช่หรือไม่\" in question or \"หรือไม่\" in question or question in yes_no_df['question'].values:\n",
        "            yes_no_prediction.append(predict(question, context))\n",
        "        else:\n",
        "            yes_no_prediction.append(np.nan)\n",
        "    df['yes_no_prediction'] = yes_no_prediction\n",
        "    return df"
      ],
      "execution_count": null,
      "outputs": []
    },
    {
      "cell_type": "code",
      "metadata": {
        "execution": {
          "iopub.status.busy": "2021-07-25T03:54:07.777928Z",
          "iopub.execute_input": "2021-07-25T03:54:07.778331Z",
          "iopub.status.idle": "2021-07-25T03:55:53.343847Z",
          "shell.execute_reply.started": "2021-07-25T03:54:07.778296Z",
          "shell.execute_reply": "2021-07-25T03:55:53.342890Z"
        },
        "trusted": true,
        "colab": {
          "base_uri": "https://localhost:8080/",
          "height": 432
        },
        "id": "NdlN07uqceI3",
        "outputId": "d02a638d-dbe9-417a-dc50-b0c3858c955d"
      },
      "source": [
        "yes_no_df['id'] = yes_no_df['question_id']\n",
        "pred_yes_no = run_yes_no(yes_no_df)\n",
        "pred_yes_no"
      ],
      "execution_count": null,
      "outputs": [
        {
          "output_type": "stream",
          "text": [
            "2000it [01:40, 19.82it/s]\n"
          ],
          "name": "stderr"
        },
        {
          "output_type": "execute_result",
          "data": {
            "text/html": [
              "<div>\n",
              "<style scoped>\n",
              "    .dataframe tbody tr th:only-of-type {\n",
              "        vertical-align: middle;\n",
              "    }\n",
              "\n",
              "    .dataframe tbody tr th {\n",
              "        vertical-align: top;\n",
              "    }\n",
              "\n",
              "    .dataframe thead th {\n",
              "        text-align: right;\n",
              "    }\n",
              "</style>\n",
              "<table border=\"1\" class=\"dataframe\">\n",
              "  <thead>\n",
              "    <tr style=\"text-align: right;\">\n",
              "      <th></th>\n",
              "      <th>question_id</th>\n",
              "      <th>question</th>\n",
              "      <th>answer</th>\n",
              "      <th>article_id</th>\n",
              "      <th>article_path</th>\n",
              "      <th>context</th>\n",
              "      <th>id</th>\n",
              "      <th>yes_no_prediction</th>\n",
              "    </tr>\n",
              "  </thead>\n",
              "  <tbody>\n",
              "    <tr>\n",
              "      <th>15000</th>\n",
              "      <td>15001</td>\n",
              "      <td>ภาษาฮีบรูอาซเกนาซีเป็นระบบการออกเสียงของภาษาฮี...</td>\n",
              "      <td>False</td>\n",
              "      <td>265515</td>\n",
              "      <td>./wiki-documents-nsc/265515.txt</td>\n",
              "      <td>ภาษาฮีบรูอาซเกนาซี ภาษาฮีบรูอาซเกนาซี (Ashkena...</td>\n",
              "      <td>15001</td>\n",
              "      <td>0</td>\n",
              "    </tr>\n",
              "    <tr>\n",
              "      <th>15001</th>\n",
              "      <td>15002</td>\n",
              "      <td>แองคิโลซอรัสเป็นไดโนเสาร์ที่เล็กที่สุดในสกุล แ...</td>\n",
              "      <td>False</td>\n",
              "      <td>319289</td>\n",
              "      <td>./wiki-documents-nsc/319289.txt</td>\n",
              "      <td>แองคิโลซอรัส แองคิโลซอรัส () เป็นไดโนเสาร์ที่ใ...</td>\n",
              "      <td>15002</td>\n",
              "      <td>0</td>\n",
              "    </tr>\n",
              "    <tr>\n",
              "      <th>15002</th>\n",
              "      <td>15003</td>\n",
              "      <td>ลูกตุ้มขนาดใหญ่ของ แองคิโลซอรัส เป็นส่วนกระดูก...</td>\n",
              "      <td>False</td>\n",
              "      <td>319289</td>\n",
              "      <td>./wiki-documents-nsc/319289.txt</td>\n",
              "      <td>แองคิโลซอรัส แองคิโลซอรัส () เป็นไดโนเสาร์ที่ใ...</td>\n",
              "      <td>15003</td>\n",
              "      <td>0</td>\n",
              "    </tr>\n",
              "    <tr>\n",
              "      <th>15003</th>\n",
              "      <td>15004</td>\n",
              "      <td>แอบถ่าย หรือโรคถ้ำมองเป็นความสนใจหรือข้อประพฤต...</td>\n",
              "      <td>False</td>\n",
              "      <td>773798</td>\n",
              "      <td>./wiki-documents-nsc/773798.txt</td>\n",
              "      <td>โรคถ้ำมอง แอบถายโรคถ้ำมอง () หรือ ความชอบแอบดู...</td>\n",
              "      <td>15004</td>\n",
              "      <td>0</td>\n",
              "    </tr>\n",
              "    <tr>\n",
              "      <th>15004</th>\n",
              "      <td>15005</td>\n",
              "      <td>เอเชียนอินดอร์-มาร์เชียลอาร์ตสเกมส์เป็นการแข่ง...</td>\n",
              "      <td>False</td>\n",
              "      <td>358523</td>\n",
              "      <td>./wiki-documents-nsc/358523.txt</td>\n",
              "      <td>เอเชียนอินดอร์-มาร์เชียลอาร์ตสเกมส์ เอเชียนอิน...</td>\n",
              "      <td>15005</td>\n",
              "      <td>0</td>\n",
              "    </tr>\n",
              "    <tr>\n",
              "      <th>...</th>\n",
              "      <td>...</td>\n",
              "      <td>...</td>\n",
              "      <td>...</td>\n",
              "      <td>...</td>\n",
              "      <td>...</td>\n",
              "      <td>...</td>\n",
              "      <td>...</td>\n",
              "      <td>...</td>\n",
              "    </tr>\n",
              "    <tr>\n",
              "      <th>16995</th>\n",
              "      <td>16996</td>\n",
              "      <td>ซังกริอา เป็นเครื่องดื่มประเภทหนึ่งจากสเปนและอ...</td>\n",
              "      <td>False</td>\n",
              "      <td>713240</td>\n",
              "      <td>./wiki-documents-nsc/713240.txt</td>\n",
              "      <td>ซังกริอา ซังกริอา (; ) เป็นเครื่องดื่มประเภทหน...</td>\n",
              "      <td>16996</td>\n",
              "      <td>0</td>\n",
              "    </tr>\n",
              "    <tr>\n",
              "      <th>16996</th>\n",
              "      <td>16997</td>\n",
              "      <td>ซังกริอา ประกอบด้วยไวน์ ผลไม้หั่น สารให้ความหว...</td>\n",
              "      <td>False</td>\n",
              "      <td>713240</td>\n",
              "      <td>./wiki-documents-nsc/713240.txt</td>\n",
              "      <td>ซังกริอา ซังกริอา (; ) เป็นเครื่องดื่มประเภทหน...</td>\n",
              "      <td>16997</td>\n",
              "      <td>0</td>\n",
              "    </tr>\n",
              "    <tr>\n",
              "      <th>16997</th>\n",
              "      <td>16998</td>\n",
              "      <td>หมู่เกาะกระเป็นหมู่เกาะเดียวของจังหวัดชุมพร ซึ...</td>\n",
              "      <td>False</td>\n",
              "      <td>396798</td>\n",
              "      <td>./wiki-documents-nsc/396798.txt</td>\n",
              "      <td>เกาะกระ เกาะกระ หรือ หมู่เกาะกระ อยู่ในพื้นที่...</td>\n",
              "      <td>16998</td>\n",
              "      <td>0</td>\n",
              "    </tr>\n",
              "    <tr>\n",
              "      <th>16998</th>\n",
              "      <td>16999</td>\n",
              "      <td>เกาะกระ หรือ หมู่เกาะกระ ประกอบด้วย เกาะขนาดเล...</td>\n",
              "      <td>False</td>\n",
              "      <td>396798</td>\n",
              "      <td>./wiki-documents-nsc/396798.txt</td>\n",
              "      <td>เกาะกระ เกาะกระ หรือ หมู่เกาะกระ อยู่ในพื้นที่...</td>\n",
              "      <td>16999</td>\n",
              "      <td>0</td>\n",
              "    </tr>\n",
              "    <tr>\n",
              "      <th>16999</th>\n",
              "      <td>17000</td>\n",
              "      <td>กาแฟขี้ช้างเป็นหนึ่งในกาแฟที่ถูกหรือแพงขึ้นอยู...</td>\n",
              "      <td>False</td>\n",
              "      <td>938948</td>\n",
              "      <td>./wiki-documents-nsc/938948.txt</td>\n",
              "      <td>แบล็ค ไอวอรี่ คอฟฟี่การวางขาย การวางขาย. กาแฟข...</td>\n",
              "      <td>17000</td>\n",
              "      <td>0</td>\n",
              "    </tr>\n",
              "  </tbody>\n",
              "</table>\n",
              "<p>2000 rows × 8 columns</p>\n",
              "</div>"
            ],
            "text/plain": [
              "       question_id  ... yes_no_prediction\n",
              "15000        15001  ...                 0\n",
              "15001        15002  ...                 0\n",
              "15002        15003  ...                 0\n",
              "15003        15004  ...                 0\n",
              "15004        15005  ...                 0\n",
              "...            ...  ...               ...\n",
              "16995        16996  ...                 0\n",
              "16996        16997  ...                 0\n",
              "16997        16998  ...                 0\n",
              "16998        16999  ...                 0\n",
              "16999        17000  ...                 0\n",
              "\n",
              "[2000 rows x 8 columns]"
            ]
          },
          "metadata": {
            "tags": []
          },
          "execution_count": 19
        }
      ]
    },
    {
      "cell_type": "code",
      "metadata": {
        "execution": {
          "iopub.status.busy": "2021-07-25T03:55:57.430889Z",
          "iopub.execute_input": "2021-07-25T03:55:57.431207Z",
          "iopub.status.idle": "2021-07-25T03:55:57.451380Z",
          "shell.execute_reply.started": "2021-07-25T03:55:57.431178Z",
          "shell.execute_reply": "2021-07-25T03:55:57.450315Z"
        },
        "trusted": true,
        "colab": {
          "base_uri": "https://localhost:8080/"
        },
        "id": "fEAUxvMTceI5",
        "outputId": "5d627b81-aefa-4fbe-e665-f57f3d7e50f8"
      },
      "source": [
        "from sklearn.metrics import accuracy_score, classification_report\n",
        "pred_yes_no.dropna(inplace=True)\n",
        "pred_yes_no['yes_no_prediction'] = pred_yes_no['yes_no_prediction'].astype(int)\n",
        "pred_yes_no[\"answer\"] = pred_yes_no[\"answer\"].astype(int)\n",
        "\n",
        "print(accuracy_score(pred_yes_no['answer'], pred_yes_no['yes_no_prediction']))\n",
        "print(classification_report(pred_yes_no['answer'], pred_yes_no['yes_no_prediction']))"
      ],
      "execution_count": null,
      "outputs": [
        {
          "output_type": "stream",
          "text": [
            "0.9565\n",
            "              precision    recall  f1-score   support\n",
            "\n",
            "           0       0.99      0.92      0.96      1006\n",
            "           1       0.93      0.99      0.96       994\n",
            "\n",
            "    accuracy                           0.96      2000\n",
            "   macro avg       0.96      0.96      0.96      2000\n",
            "weighted avg       0.96      0.96      0.96      2000\n",
            "\n"
          ],
          "name": "stdout"
        }
      ]
    },
    {
      "cell_type": "code",
      "metadata": {
        "colab": {
          "base_uri": "https://localhost:8080/"
        },
        "id": "J8or713ZxRII",
        "outputId": "3cec2eb7-66cd-41e3-fd73-1d48b00d9072"
      },
      "source": [
        "from google.colab import drive\n",
        "drive.mount('/content/drive')"
      ],
      "execution_count": null,
      "outputs": [
        {
          "output_type": "stream",
          "text": [
            "Mounted at /content/drive\n"
          ],
          "name": "stdout"
        }
      ]
    },
    {
      "cell_type": "code",
      "metadata": {
        "id": "JLYgAR_qceI6"
      },
      "source": [
        "#save directory\n",
        "model.save_pretrained(\"/content/drive/MyDrive/qahack2021/model\")"
      ],
      "execution_count": null,
      "outputs": []
    },
    {
      "cell_type": "markdown",
      "metadata": {
        "id": "A5Talv2vzBu1"
      },
      "source": [
        "# Evaluation\n"
      ]
    },
    {
      "cell_type": "code",
      "metadata": {
        "id": "NPkeXh-5zM2a"
      },
      "source": [
        "pred_yes_no.to_csv(\"yesno_wiki.csv\", index=False)"
      ],
      "execution_count": null,
      "outputs": []
    },
    {
      "cell_type": "code",
      "metadata": {
        "id": "96dIV5PNzQGy"
      },
      "source": [
        "df = pd.read_csv(\"/content/drive/MyDrive/qahack2021/Test.csv\")\n",
        "df = df[[\"id\", \"article_id\", \"question\"]]"
      ],
      "execution_count": null,
      "outputs": []
    },
    {
      "cell_type": "code",
      "metadata": {
        "id": "Gmv5yYnpoNPI"
      },
      "source": [
        "def id_to_path(id):\n",
        "  if \"SCG\" in id:\n",
        "    dir = \"/content/drive/MyDrive/qahack2021/test\"\n",
        "  elif \"train\" in id:\n",
        "    dir = \"/content/drive/MyDrive/qahack2021/train\"\n",
        "    id = \"SCG\" + id[6:9]\n",
        "  else:\n",
        "    dir = \"/content/wiki-documents-nsc\"\n",
        "  return os.path.join(dir, str(id)+\".txt\")"
      ],
      "execution_count": null,
      "outputs": []
    },
    {
      "cell_type": "code",
      "metadata": {
        "id": "CgNWR3EqokiO"
      },
      "source": [
        "#since the document content contain HTML syntax, we have to remove it\n",
        "def remove_HTML_syntax(input_text):\n",
        "    text = ''\n",
        "    accumulate = False\n",
        "    output_text = input_text\n",
        "    for char in input_text:\n",
        "        if char == '<':\n",
        "            accumulate = True\n",
        "        elif char == '>':\n",
        "            output_text = output_text.replace(text + char, '')\n",
        "            text = ''\n",
        "            accumulate = False\n",
        "        \n",
        "        if accumulate:\n",
        "            text += char\n",
        "\n",
        "    return output_text\n",
        "\n",
        "CUTTER = 400\n",
        "def cut_to_lines(text):\n",
        "  length = len(text)\n",
        "  if length > CUTTER:\n",
        "    marker = 0\n",
        "    for i in range(1,length//CUTTER+1):\n",
        "      \n",
        "      marker = i*CUTTER\n",
        "      while marker < (i+1)*CUTTER and marker < length - 1:\n",
        "        if text[marker] == \" \":\n",
        "          break\n",
        "        # print(marker, text[marker])\n",
        "        marker += 1\n",
        "      text = text[:marker] + \"\\n\" + text[marker + 1:]\n",
        "  return text\n",
        "\n",
        "# def clean_blank_branket(text):\n",
        "#   return re.sub(r'\\(;* *\\)',\"\", text)\n",
        "\n",
        "def clean_text2(text):\n",
        "  text = remove_HTML_syntax(text)\n",
        "  text = cut_to_lines(text)\n",
        "  text = re.sub(r'\\(;* *\\)',\"\", text) #clear blank branket\n",
        "  text = re.sub(r'[^A-Za-z0-9\\u0E00-\\u0E7F \\n\\u0021-\\u005F\\u0061-\\u007E“”–]', '', text).strip()\n",
        "  text = re.sub(' +', ' ', text) #clear multiple space\n",
        "  return text"
      ],
      "execution_count": null,
      "outputs": []
    },
    {
      "cell_type": "code",
      "metadata": {
        "colab": {
          "base_uri": "https://localhost:8080/",
          "height": 414
        },
        "id": "O2S-Pd7NoW8K",
        "outputId": "d4edd3e8-78bf-4b6f-9d5d-a7a6121b5c9b"
      },
      "source": [
        "context = []\n",
        "for row in df.itertuples():\n",
        "  context.append(clean_text2(open(id_to_path(row.article_id)).read()))\n",
        "df[\"context\"] = context\n",
        "df"
      ],
      "execution_count": null,
      "outputs": [
        {
          "output_type": "execute_result",
          "data": {
            "text/html": [
              "<div>\n",
              "<style scoped>\n",
              "    .dataframe tbody tr th:only-of-type {\n",
              "        vertical-align: middle;\n",
              "    }\n",
              "\n",
              "    .dataframe tbody tr th {\n",
              "        vertical-align: top;\n",
              "    }\n",
              "\n",
              "    .dataframe thead th {\n",
              "        text-align: right;\n",
              "    }\n",
              "</style>\n",
              "<table border=\"1\" class=\"dataframe\">\n",
              "  <thead>\n",
              "    <tr style=\"text-align: right;\">\n",
              "      <th></th>\n",
              "      <th>id</th>\n",
              "      <th>article_id</th>\n",
              "      <th>question</th>\n",
              "      <th>context</th>\n",
              "    </tr>\n",
              "  </thead>\n",
              "  <tbody>\n",
              "    <tr>\n",
              "      <th>0</th>\n",
              "      <td>1</td>\n",
              "      <td>220726</td>\n",
              "      <td>ใครเป็นผู้เรียบเรียงเนื้อร้องเพลงคืนความสุขให้...</td>\n",
              "      <td>ประยุทธ์ จันทร์โอชา พลเอก ประยุทธ์ จันทร์โอชา ...</td>\n",
              "    </tr>\n",
              "    <tr>\n",
              "      <th>1</th>\n",
              "      <td>2</td>\n",
              "      <td>8217</td>\n",
              "      <td>การจัดนิทรรศการพันธุ์แมวในประเทศอังกฤษเมื่อปี ...</td>\n",
              "      <td>แมว แมว เป็นสัตว์เลี้ยงลูกด้วยนม อยู่ในตระกูล ...</td>\n",
              "    </tr>\n",
              "    <tr>\n",
              "      <th>2</th>\n",
              "      <td>3</td>\n",
              "      <td>35303</td>\n",
              "      <td>ชาวอินเดียเรียกหมากรุกว่าอะไร</td>\n",
              "      <td>หมากรุก หมากรุก เป็นเกมกระดานชนิดหนึ่ง มีลักษณ...</td>\n",
              "    </tr>\n",
              "    <tr>\n",
              "      <th>3</th>\n",
              "      <td>4</td>\n",
              "      <td>12493</td>\n",
              "      <td>จิ้งจกเป็นสัตว์เลื้อยคลานที่อยู่ในสกุลใด</td>\n",
              "      <td>จิ้งจกบ้าน จิ้งจกบ้าน หรือที่นิยมเรียกสั้น ๆ ว...</td>\n",
              "    </tr>\n",
              "    <tr>\n",
              "      <th>4</th>\n",
              "      <td>5</td>\n",
              "      <td>11209</td>\n",
              "      <td>อะไรคือจุดเด่นเฉพาะตัวของเสือที่สัตว์อื่นไม่สา...</td>\n",
              "      <td>เสือ เสือ เป็นสัตว์เลี้ยงลูกด้วยนมในวงศ์ฟิลิดี...</td>\n",
              "    </tr>\n",
              "    <tr>\n",
              "      <th>...</th>\n",
              "      <td>...</td>\n",
              "      <td>...</td>\n",
              "      <td>...</td>\n",
              "      <td>...</td>\n",
              "    </tr>\n",
              "    <tr>\n",
              "      <th>5603</th>\n",
              "      <td>5604</td>\n",
              "      <td>SCG217</td>\n",
              "      <td>จากบทความ ผู้เขียนร่วมงานกับ DO เป็นระยะเวลาเท...</td>\n",
              "      <td>เมื่อมาทำงานจริงกับ Digitally Transforming Org...</td>\n",
              "    </tr>\n",
              "    <tr>\n",
              "      <th>5604</th>\n",
              "      <td>5605</td>\n",
              "      <td>SCG217</td>\n",
              "      <td>เรื่องอะไรที่ผู้เขียนได้พบว่าเป็นความสนใจใหม่?</td>\n",
              "      <td>เมื่อมาทำงานจริงกับ Digitally Transforming Org...</td>\n",
              "    </tr>\n",
              "    <tr>\n",
              "      <th>5605</th>\n",
              "      <td>5606</td>\n",
              "      <td>SCG217</td>\n",
              "      <td>มี Project อะไรบ้างที่ผู้เขียนต้องทำงานพร้อมกัน?</td>\n",
              "      <td>เมื่อมาทำงานจริงกับ Digitally Transforming Org...</td>\n",
              "    </tr>\n",
              "    <tr>\n",
              "      <th>5606</th>\n",
              "      <td>5607</td>\n",
              "      <td>SCG217</td>\n",
              "      <td>ผู้เขียนมองว่าเทคนิคที่สำคัญในการร่วมงานกับ Pa...</td>\n",
              "      <td>เมื่อมาทำงานจริงกับ Digitally Transforming Org...</td>\n",
              "    </tr>\n",
              "    <tr>\n",
              "      <th>5607</th>\n",
              "      <td>5608</td>\n",
              "      <td>SCG217</td>\n",
              "      <td>วิธีการทำงานอะไร ที่ผู้เขียนมีความเชื่อมาตลอดเ...</td>\n",
              "      <td>เมื่อมาทำงานจริงกับ Digitally Transforming Org...</td>\n",
              "    </tr>\n",
              "  </tbody>\n",
              "</table>\n",
              "<p>5608 rows × 4 columns</p>\n",
              "</div>"
            ],
            "text/plain": [
              "        id  ...                                            context\n",
              "0        1  ...  ประยุทธ์ จันทร์โอชา พลเอก ประยุทธ์ จันทร์โอชา ...\n",
              "1        2  ...  แมว แมว เป็นสัตว์เลี้ยงลูกด้วยนม อยู่ในตระกูล ...\n",
              "2        3  ...  หมากรุก หมากรุก เป็นเกมกระดานชนิดหนึ่ง มีลักษณ...\n",
              "3        4  ...  จิ้งจกบ้าน จิ้งจกบ้าน หรือที่นิยมเรียกสั้น ๆ ว...\n",
              "4        5  ...  เสือ เสือ เป็นสัตว์เลี้ยงลูกด้วยนมในวงศ์ฟิลิดี...\n",
              "...    ...  ...                                                ...\n",
              "5603  5604  ...  เมื่อมาทำงานจริงกับ Digitally Transforming Org...\n",
              "5604  5605  ...  เมื่อมาทำงานจริงกับ Digitally Transforming Org...\n",
              "5605  5606  ...  เมื่อมาทำงานจริงกับ Digitally Transforming Org...\n",
              "5606  5607  ...  เมื่อมาทำงานจริงกับ Digitally Transforming Org...\n",
              "5607  5608  ...  เมื่อมาทำงานจริงกับ Digitally Transforming Org...\n",
              "\n",
              "[5608 rows x 4 columns]"
            ]
          },
          "metadata": {
            "tags": []
          },
          "execution_count": 27
        }
      ]
    },
    {
      "cell_type": "code",
      "metadata": {
        "id": "qwMmVeP7oq2Y"
      },
      "source": [
        "pred_df = run_yes_no(df)\n",
        "pred_df.dropna(inplace=True)"
      ],
      "execution_count": null,
      "outputs": []
    },
    {
      "cell_type": "code",
      "metadata": {
        "colab": {
          "base_uri": "https://localhost:8080/",
          "height": 414
        },
        "id": "weILYk4mpJte",
        "outputId": "f50438f1-ed78-4a70-9ae6-181d4a4bfe31"
      },
      "source": [
        "pred_df"
      ],
      "execution_count": null,
      "outputs": [
        {
          "output_type": "execute_result",
          "data": {
            "text/html": [
              "<div>\n",
              "<style scoped>\n",
              "    .dataframe tbody tr th:only-of-type {\n",
              "        vertical-align: middle;\n",
              "    }\n",
              "\n",
              "    .dataframe tbody tr th {\n",
              "        vertical-align: top;\n",
              "    }\n",
              "\n",
              "    .dataframe thead th {\n",
              "        text-align: right;\n",
              "    }\n",
              "</style>\n",
              "<table border=\"1\" class=\"dataframe\">\n",
              "  <thead>\n",
              "    <tr style=\"text-align: right;\">\n",
              "      <th></th>\n",
              "      <th>id</th>\n",
              "      <th>article_id</th>\n",
              "      <th>question</th>\n",
              "      <th>context</th>\n",
              "      <th>yes_no_prediction</th>\n",
              "    </tr>\n",
              "  </thead>\n",
              "  <tbody>\n",
              "    <tr>\n",
              "      <th>1072</th>\n",
              "      <td>1073</td>\n",
              "      <td>168085</td>\n",
              "      <td>ยาคุมกำเนิดประเภทไหนที่ทำให้เกิดฝ้าใบหน้า น้ำห...</td>\n",
              "      <td>ยาคุมกำเนิดชนิดฉีด ยาฉีดคุมกำเนิด เป็นวิธีคุมก...</td>\n",
              "      <td>1.0</td>\n",
              "    </tr>\n",
              "    <tr>\n",
              "      <th>3660</th>\n",
              "      <td>3661</td>\n",
              "      <td>710583</td>\n",
              "      <td>ลักษณะของการเลือกที่จะพิมพ์หรือไม่พิมพ์ผลงานวิ...</td>\n",
              "      <td>ความเอนเอียงโดยการรายงาน ในวิทยาการระบาด ความเ...</td>\n",
              "      <td>1.0</td>\n",
              "    </tr>\n",
              "    <tr>\n",
              "      <th>5000</th>\n",
              "      <td>5001</td>\n",
              "      <td>607652</td>\n",
              "      <td>การรถไฟรัสเซียเป็นบริษัทรถไฟในประเทศเดนมาร์ก แ...</td>\n",
              "      <td>การรถไฟรัสเซีย การรถไฟรัสเซีย (JSC RZD; Rossiy...</td>\n",
              "      <td>0.0</td>\n",
              "    </tr>\n",
              "    <tr>\n",
              "      <th>5001</th>\n",
              "      <td>5002</td>\n",
              "      <td>271399</td>\n",
              "      <td>คาสิโอเปีย เป็นวงดนตรีร็อกญี่ปุ่นที่ก่อตั้งขึ้...</td>\n",
              "      <td>Casiopea คาสิโอเปีย เป็นวงดนตรีแจ๊สฟิวชันญี่ปุ...</td>\n",
              "      <td>0.0</td>\n",
              "    </tr>\n",
              "    <tr>\n",
              "      <th>5002</th>\n",
              "      <td>5003</td>\n",
              "      <td>92824</td>\n",
              "      <td>เซี่ยเหมินเป็นเมืองในมณฑลฝูเจี้ยน มีชื่อในภาษา...</td>\n",
              "      <td>เซี่ยเหมิน เซี่ยเหมิน เป็นเมืองในมณฑลฝูเจี้ยน ...</td>\n",
              "      <td>1.0</td>\n",
              "    </tr>\n",
              "    <tr>\n",
              "      <th>...</th>\n",
              "      <td>...</td>\n",
              "      <td>...</td>\n",
              "      <td>...</td>\n",
              "      <td>...</td>\n",
              "      <td>...</td>\n",
              "    </tr>\n",
              "    <tr>\n",
              "      <th>5495</th>\n",
              "      <td>5496</td>\n",
              "      <td>60306</td>\n",
              "      <td>กีฬาซีเกมส์ 1981 (พ.ศ. 2524) ใช่กีฬาที่จัดการแ...</td>\n",
              "      <td>ซีเกมส์ 1981 กีฬาซีเกมส์ 1981 (พ.ศ. 2524) ถือไ...</td>\n",
              "      <td>1.0</td>\n",
              "    </tr>\n",
              "    <tr>\n",
              "      <th>5496</th>\n",
              "      <td>5497</td>\n",
              "      <td>84807</td>\n",
              "      <td>ซานเซบัสเตียนเป็นเมืองรองของจังหวัดกิปุซโกอาใน...</td>\n",
              "      <td>ซานเซบัสเตียน ซานเซบัสเตียน หรือ โดโนสเตีย เป็...</td>\n",
              "      <td>1.0</td>\n",
              "    </tr>\n",
              "    <tr>\n",
              "      <th>5497</th>\n",
              "      <td>5498</td>\n",
              "      <td>84807</td>\n",
              "      <td>ซานเซบัสเตียน มีประชากรประมาณ 82,930 คนใช่หรือไม่</td>\n",
              "      <td>ซานเซบัสเตียน ซานเซบัสเตียน หรือ โดโนสเตีย เป็...</td>\n",
              "      <td>0.0</td>\n",
              "    </tr>\n",
              "    <tr>\n",
              "      <th>5498</th>\n",
              "      <td>5499</td>\n",
              "      <td>916674</td>\n",
              "      <td>เซาท์เทิร์นครอสเกมส์ 1978 เป็นการแข่งขันกีฬาเซ...</td>\n",
              "      <td>เซาท์เทิร์นครอสเกมส์ 1978 เซาท์อเมริกันเกมส์ 1...</td>\n",
              "      <td>0.0</td>\n",
              "    </tr>\n",
              "    <tr>\n",
              "      <th>5499</th>\n",
              "      <td>5500</td>\n",
              "      <td>714780</td>\n",
              "      <td>วอลเลย์บอลในกีฬามหาวิทยาลัยโลกฤดูร้อน 2011 จัด...</td>\n",
              "      <td>วอลเลย์บอลในกีฬามหาวิทยาลัยโลกฤดูร้อน 2011 วอล...</td>\n",
              "      <td>1.0</td>\n",
              "    </tr>\n",
              "  </tbody>\n",
              "</table>\n",
              "<p>501 rows × 5 columns</p>\n",
              "</div>"
            ],
            "text/plain": [
              "        id  ... yes_no_prediction\n",
              "1072  1073  ...               1.0\n",
              "3660  3661  ...               1.0\n",
              "5000  5001  ...               0.0\n",
              "5001  5002  ...               0.0\n",
              "5002  5003  ...               1.0\n",
              "...    ...  ...               ...\n",
              "5495  5496  ...               1.0\n",
              "5496  5497  ...               1.0\n",
              "5497  5498  ...               0.0\n",
              "5498  5499  ...               0.0\n",
              "5499  5500  ...               1.0\n",
              "\n",
              "[501 rows x 5 columns]"
            ]
          },
          "metadata": {
            "tags": []
          },
          "execution_count": 31
        }
      ]
    },
    {
      "cell_type": "code",
      "metadata": {
        "id": "UpnUtFBgpOQ8"
      },
      "source": [
        "pred_df[\"yes_no_prediction\"] = pred_df[\"yes_no_prediction\"].map(lambda x : \"ใช่\" if int(x) == 1 else \"ไม่ใช่\")"
      ],
      "execution_count": null,
      "outputs": []
    },
    {
      "cell_type": "code",
      "metadata": {
        "id": "H3HvVzi9pysL"
      },
      "source": [
        "pred_df.to_csv(\"yesno_test.csv\")"
      ],
      "execution_count": null,
      "outputs": []
    },
    {
      "cell_type": "code",
      "metadata": {
        "id": "W61mno3Ypz5m"
      },
      "source": [
        ""
      ],
      "execution_count": null,
      "outputs": []
    }
  ]
}