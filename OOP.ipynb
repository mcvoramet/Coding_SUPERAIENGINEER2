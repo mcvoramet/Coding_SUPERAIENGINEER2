{
 "cells": [
  {
   "cell_type": "code",
   "execution_count": 53,
   "metadata": {},
   "outputs": [],
   "source": [
    "# Object : variable + Methods\n",
    "\n",
    "from datetime import date\n",
    "\n",
    "class Account:\n",
    "    def __init__(self, numID):\n",
    "        self.number = numID\n",
    "        self.account_type()\n",
    "    \n",
    "    def account_type(self):\n",
    "        if str(self.number).startswith('1'):\n",
    "            self.type = \"current\"\n",
    "        elif str(self.number).startswith('2'):\n",
    "            self.type = 'saving'\n",
    "            \n",
    "    def interest_rate(self):\n",
    "        if self.type == 'current':\n",
    "            self.interest = 0\n",
    "        elif self.type == 'saving':\n",
    "            self.interest = 5     # 5% annualy\n",
    "        \n",
    "        return self.interest\n",
    "    \n",
    "    def interest_accrued(self):\n",
    "        self.interest_rate()\n",
    "        self.balance = 1000\n",
    "        \n",
    "        current_date = date.today()\n",
    "        beginning_date = date(current_date.year, 1, 1)\n",
    "        \n",
    "        self.interest_accrued = self.balance * (abs(current_date-beginning_date).days/365)*self.interest/100\n",
    "        \n",
    "        return self.interest_accrued + self.balance\n",
    "        \n"
   ]
  },
  {
   "cell_type": "code",
   "execution_count": 54,
   "metadata": {},
   "outputs": [],
   "source": [
    "# Object of a class\n",
    "acc = Account(2001)"
   ]
  },
  {
   "cell_type": "code",
   "execution_count": 55,
   "metadata": {},
   "outputs": [
    {
     "data": {
      "text/plain": [
       "2001"
      ]
     },
     "execution_count": 55,
     "metadata": {},
     "output_type": "execute_result"
    }
   ],
   "source": [
    "# Attribute\n",
    "acc.number"
   ]
  },
  {
   "cell_type": "code",
   "execution_count": 56,
   "metadata": {},
   "outputs": [],
   "source": [
    "# Method (Action) (but you can use acc.type directly now\n",
    "# because account_type() is already in __init__())\n",
    "acc.account_type()"
   ]
  },
  {
   "cell_type": "code",
   "execution_count": 57,
   "metadata": {},
   "outputs": [
    {
     "data": {
      "text/plain": [
       "'saving'"
      ]
     },
     "execution_count": 57,
     "metadata": {},
     "output_type": "execute_result"
    }
   ],
   "source": [
    "# Attribute\n",
    "acc.type"
   ]
  },
  {
   "cell_type": "code",
   "execution_count": 58,
   "metadata": {},
   "outputs": [
    {
     "data": {
      "text/plain": [
       "5"
      ]
     },
     "execution_count": 58,
     "metadata": {},
     "output_type": "execute_result"
    }
   ],
   "source": [
    "acc.interest_rate()"
   ]
  },
  {
   "cell_type": "code",
   "execution_count": 59,
   "metadata": {},
   "outputs": [
    {
     "data": {
      "text/plain": [
       "1038.4931506849316"
      ]
     },
     "execution_count": 59,
     "metadata": {},
     "output_type": "execute_result"
    }
   ],
   "source": [
    "acc.interest_accrued()"
   ]
  },
  {
   "cell_type": "code",
   "execution_count": 63,
   "metadata": {},
   "outputs": [
    {
     "name": "stdout",
     "output_type": "stream",
     "text": [
      "0 1 2 3 "
     ]
    }
   ],
   "source": [
    "for i in range(3):\n",
    "    for j in range(4):\n",
    "        if i-j>0:\n",
    "            break\n",
    "        print(j, end=' ')"
   ]
  },
  {
   "cell_type": "code",
   "execution_count": 65,
   "metadata": {},
   "outputs": [
    {
     "name": "stdout",
     "output_type": "stream",
     "text": [
      "25\n"
     ]
    }
   ],
   "source": [
    "def myfunc(b, p):\n",
    "    y = b**p\n",
    "    return y\n",
    "\n",
    "def cal(x):\n",
    "    a = myfunc(x, 2)\n",
    "    return a\n",
    "\n",
    "n=5\n",
    "result = cal(n)\n",
    "print(result)"
   ]
  },
  {
   "cell_type": "code",
   "execution_count": 66,
   "metadata": {},
   "outputs": [
    {
     "data": {
      "text/plain": [
       "70.75197614999999"
      ]
     },
     "execution_count": 66,
     "metadata": {},
     "output_type": "execute_result"
    }
   ],
   "source": [
    "255*0.27745873"
   ]
  },
  {
   "cell_type": "code",
   "execution_count": 67,
   "metadata": {},
   "outputs": [
    {
     "name": "stdout",
     "output_type": "stream",
     "text": [
      "011"
     ]
    }
   ],
   "source": [
    "l=[]\n",
    "def myfunc(b):\n",
    "    if(b==0):\n",
    "        return 1\n",
    "    dig=b%2\n",
    "    l.append(dig)\n",
    "    myfunc(b//2)\n",
    "    \n",
    "myfunc(6)\n",
    "for i in l:\n",
    "    print(i, end='')"
   ]
  },
  {
   "cell_type": "code",
   "execution_count": null,
   "metadata": {},
   "outputs": [],
   "source": []
  }
 ],
 "metadata": {
  "kernelspec": {
   "display_name": "Python 3",
   "language": "python",
   "name": "python3"
  },
  "language_info": {
   "codemirror_mode": {
    "name": "ipython",
    "version": 3
   },
   "file_extension": ".py",
   "mimetype": "text/x-python",
   "name": "python",
   "nbconvert_exporter": "python",
   "pygments_lexer": "ipython3",
   "version": "3.8.5"
  }
 },
 "nbformat": 4,
 "nbformat_minor": 4
}
